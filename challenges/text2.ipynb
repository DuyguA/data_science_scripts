{
 "metadata": {
  "name": ""
 },
 "nbformat": 3,
 "nbformat_minor": 0,
 "worksheets": [
  {
   "cells": [
    {
     "cell_type": "code",
     "collapsed": false,
     "input": [
      "import string\n",
      "import collections\n",
      " \n",
      "from nltk import word_tokenize\n",
      "from nltk.stem import PorterStemmer\n",
      "from nltk.corpus import stopwords\n",
      "from sklearn.cluster import KMeans\n",
      "from sklearn.feature_extraction.text import TfidfVectorizer\n",
      "from pprint import pprint"
     ],
     "language": "python",
     "metadata": {},
     "outputs": [],
     "prompt_number": 2
    },
    {
     "cell_type": "code",
     "collapsed": false,
     "input": [
      "sentence_list=[\"I go to school from home\", \"I go to home from school recently\", \"Duygu eat banana\", \"Duygu like to eat banana\"]\n",
      "vectorizer=TfidfVectorizer( stop_words=stopwords.words('english'),lowercase=True, decode_error='ignore')\n",
      "filtered_words = [[word for word in sentence.split()  if word not in stopwords.words('english')] for sentence in sentence_list ]\n",
      "print filtered_words"
     ],
     "language": "python",
     "metadata": {},
     "outputs": [
      {
       "output_type": "stream",
       "stream": "stdout",
       "text": [
        "[['I', 'go', 'school', 'home'], ['I', 'go', 'home', 'school', 'recently'], ['Duygu', 'eat', 'banana'], ['Duygu', 'like', 'eat', 'banana']]\n"
       ]
      }
     ],
     "prompt_number": 3
    },
    {
     "cell_type": "code",
     "collapsed": false,
     "input": [
      "vectorized=vectorizer.fit_transform(sentence_list)\n",
      "vectorizer.get_feature_names()"
     ],
     "language": "python",
     "metadata": {},
     "outputs": [
      {
       "metadata": {},
       "output_type": "pyout",
       "prompt_number": 4,
       "text": [
        "[u'banana', u'duygu', u'eat', u'go', u'home', u'like', u'recently', u'school']"
       ]
      }
     ],
     "prompt_number": 4
    },
    {
     "cell_type": "code",
     "collapsed": false,
     "input": [
      "print vectorized\n",
      "print \"\\n\"\n",
      "print vectorized.shape\n",
      "print \"\\n\"\n",
      "print vectorized.todense()"
     ],
     "language": "python",
     "metadata": {},
     "outputs": [
      {
       "output_type": "stream",
       "stream": "stdout",
       "text": [
        "  (0, 4)\t0.57735026919\n",
        "  (0, 7)\t0.57735026919\n",
        "  (0, 3)\t0.57735026919\n",
        "  (1, 6)\t0.590819080602\n",
        "  (1, 4)\t0.465808549369\n",
        "  (1, 7)\t0.465808549369\n",
        "  (1, 3)\t0.465808549369\n",
        "  (2, 0)\t0.57735026919\n",
        "  (2, 2)\t0.57735026919\n",
        "  (2, 1)\t0.57735026919\n",
        "  (3, 5)\t0.590819080602\n",
        "  (3, 0)\t0.465808549369\n",
        "  (3, 2)\t0.465808549369\n",
        "  (3, 1)\t0.465808549369\n",
        "\n",
        "\n",
        "(4, 8)\n",
        "\n",
        "\n",
        "[[ 0.          0.          0.          0.57735027  0.57735027  0.          0.\n",
        "   0.57735027]\n",
        " [ 0.          0.          0.          0.46580855  0.46580855  0.\n",
        "   0.59081908  0.46580855]\n",
        " [ 0.57735027  0.57735027  0.57735027  0.          0.          0.          0.\n",
        "   0.        ]\n",
        " [ 0.46580855  0.46580855  0.46580855  0.          0.          0.59081908\n",
        "   0.          0.        ]]\n"
       ]
      }
     ],
     "prompt_number": 5
    },
    {
     "cell_type": "code",
     "collapsed": false,
     "input": [
      "from sklearn.feature_extraction.text import CountVectorizer, TfidfTransformer\n",
      "from sklearn.decomposition import PCA\n",
      "from sklearn.pipeline import Pipeline\n",
      "import matplotlib.pyplot as plt"
     ],
     "language": "python",
     "metadata": {},
     "outputs": [],
     "prompt_number": 6
    },
    {
     "cell_type": "code",
     "collapsed": false,
     "input": [
      "pipeline = Pipeline([\n",
      "    ('vect', CountVectorizer()),\n",
      "    ('tfidf', TfidfTransformer()),\n",
      "])        \n",
      "X = pipeline.fit_transform(sentence_list).todense()"
     ],
     "language": "python",
     "metadata": {},
     "outputs": [],
     "prompt_number": 7
    },
    {
     "cell_type": "code",
     "collapsed": false,
     "input": [
      "pca = PCA(n_components=2).fit(X)\n",
      "data2D = pca.transform(X)\n",
      "\n",
      "labels= [\"s1\", \"s2\", \"s3\", \"s4\"]\n",
      "\n",
      "plt.scatter(data2D[:,0], data2D[:,1])\n",
      "for label, x, y in zip(labels, data2D[:, 0], data2D[:, 1]):\n",
      "    plt.annotate(label, xy = (x,y))"
     ],
     "language": "python",
     "metadata": {},
     "outputs": [
      {
       "metadata": {},
       "output_type": "display_data",
       "png": "[encoded data removed]",
       "text": [
        "<matplotlib.figure.Figure at 0x7f000d0b5850>"
       ]
      }
     ],
     "prompt_number": 19
    },
    {
     "cell_type": "code",
     "collapsed": false,
     "input": [
      "sentence_lista=[u\"Okuldan eve giderim\", u\"Evden okula giderdim\", u\"Muz yiyorum\", u\"Muzu yerdim\"]\n",
      "vectorizera=TfidfVectorizer(lowercase=True, decode_error='ignore')"
     ],
     "language": "python",
     "metadata": {},
     "outputs": [],
     "prompt_number": 31
    },
    {
     "cell_type": "code",
     "collapsed": false,
     "input": [
      "vectorizeda=vectorizera.fit_transform(sentence_lista)\n",
      "vectorizera.get_feature_names()"
     ],
     "language": "python",
     "metadata": {},
     "outputs": [
      {
       "metadata": {},
       "output_type": "pyout",
       "prompt_number": 32,
       "text": [
        "[u'evden',\n",
        " u'eve',\n",
        " u'giderdim',\n",
        " u'giderim',\n",
        " u'muz',\n",
        " u'muzu',\n",
        " u'okula',\n",
        " u'okuldan',\n",
        " u'yerdim',\n",
        " u'yiyorum']"
       ]
      }
     ],
     "prompt_number": 32
    },
    {
     "cell_type": "code",
     "collapsed": false,
     "input": [
      "print vectorizeda\n",
      "print \"\\n\"\n",
      "print vectorizeda.shape\n",
      "print \"\\n\"\n",
      "print vectorizeda.todense()"
     ],
     "language": "python",
     "metadata": {},
     "outputs": [
      {
       "output_type": "stream",
       "stream": "stdout",
       "text": [
        "  (0, 3)\t0.57735026919\n",
        "  (0, 1)\t0.57735026919\n",
        "  (0, 7)\t0.57735026919\n",
        "  (1, 2)\t0.57735026919\n",
        "  (1, 6)\t0.57735026919\n",
        "  (1, 0)\t0.57735026919\n",
        "  (2, 9)\t0.707106781187\n",
        "  (2, 4)\t0.707106781187\n",
        "  (3, 8)\t0.707106781187\n",
        "  (3, 5)\t0.707106781187\n",
        "\n",
        "\n",
        "(4, 10)\n",
        "\n",
        "\n",
        "[[ 0.          0.57735027  0.          0.57735027  0.          0.          0.\n",
        "   0.57735027  0.          0.        ]\n",
        " [ 0.57735027  0.          0.57735027  0.          0.          0.\n",
        "   0.57735027  0.          0.          0.        ]\n",
        " [ 0.          0.          0.          0.          0.70710678  0.          0.\n",
        "   0.          0.          0.70710678]\n",
        " [ 0.          0.          0.          0.          0.          0.70710678\n",
        "   0.          0.          0.70710678  0.        ]]\n"
       ]
      }
     ],
     "prompt_number": 33
    },
    {
     "cell_type": "code",
     "collapsed": false,
     "input": [
      "pipeline = Pipeline([\n",
      "    ('vect', CountVectorizer()),\n",
      "    ('tfidf', TfidfTransformer()),\n",
      "])        \n",
      "Xa = pipeline.fit_transform(sentence_lista).todense()"
     ],
     "language": "python",
     "metadata": {},
     "outputs": [],
     "prompt_number": 34
    },
    {
     "cell_type": "code",
     "collapsed": false,
     "input": [
      "pca = PCA(n_components=2).fit(Xa)\n",
      "data2Da = pca.transform(Xa)\n",
      "\n",
      "labels= [\"s1\", \"s2\", \"s3\", \"s4\"]\n",
      "\n",
      "plt.scatter(data2Da[:,0], data2Da[:,1])\n",
      "for label, x, y in zip(labels, data2Da[:, 0], data2Da[:, 1]):\n",
      "    plt.annotate(label, xy = (x,y))"
     ],
     "language": "python",
     "metadata": {},
     "outputs": [
      {
       "metadata": {},
       "output_type": "display_data",
       "png": "[encoded data removed]",
       "text": [
        "<matplotlib.figure.Figure at 0x7f000cf81550>"
       ]
      }
     ],
     "prompt_number": 35
    },
    {
     "cell_type": "code",
     "collapsed": false,
     "input": [
      "sentence_listb=[u\"Okul ev git\", u\"Ev okul git\", u\"Muz ye\", u\"Muz ye\"]\n",
      "vectorizerb=TfidfVectorizer(lowercase=True, decode_error='ignore')\n",
      "vectorizedb=vectorizerb.fit_transform(sentence_listb)\n",
      "vectorizerb.get_feature_names()"
     ],
     "language": "python",
     "metadata": {},
     "outputs": [
      {
       "metadata": {},
       "output_type": "pyout",
       "prompt_number": 36,
       "text": [
        "[u'ev', u'git', u'muz', u'okul', u'ye']"
       ]
      }
     ],
     "prompt_number": 36
    },
    {
     "cell_type": "code",
     "collapsed": false,
     "input": [
      "print vectorizedb\n",
      "print \"\\n\"\n",
      "print vectorizedb.shape\n",
      "print \"\\n\"\n",
      "print vectorizedb.todense()"
     ],
     "language": "python",
     "metadata": {},
     "outputs": [
      {
       "output_type": "stream",
       "stream": "stdout",
       "text": [
        "  (0, 1)\t0.57735026919\n",
        "  (0, 0)\t0.57735026919\n",
        "  (0, 3)\t0.57735026919\n",
        "  (1, 1)\t0.57735026919\n",
        "  (1, 0)\t0.57735026919\n",
        "  (1, 3)\t0.57735026919\n",
        "  (2, 4)\t0.707106781187\n",
        "  (2, 2)\t0.707106781187\n",
        "  (3, 4)\t0.707106781187\n",
        "  (3, 2)\t0.707106781187\n",
        "\n",
        "\n",
        "(4, 5)\n",
        "\n",
        "\n",
        "[[ 0.57735027  0.57735027  0.          0.57735027  0.        ]\n",
        " [ 0.57735027  0.57735027  0.          0.57735027  0.        ]\n",
        " [ 0.          0.          0.70710678  0.          0.70710678]\n",
        " [ 0.          0.          0.70710678  0.          0.70710678]]\n"
       ]
      }
     ],
     "prompt_number": 37
    },
    {
     "cell_type": "code",
     "collapsed": false,
     "input": [
      "pipeline = Pipeline([\n",
      "    ('vect', CountVectorizer()),\n",
      "    ('tfidf', TfidfTransformer()),\n",
      "])        \n",
      "Xb = pipeline.fit_transform(sentence_listb).todense()\n",
      "pca = PCA(n_components=2).fit(Xb)\n",
      "data2Db = pca.transform(Xb)\n",
      "\n",
      "plt.scatter(data2Db[:,0], data2Db[:,1])\n",
      "for label, x, y in zip(labels, data2Db[:, 0], data2Db[:, 1]):\n",
      "    plt.annotate(label, xy = (x,y))"
     ],
     "language": "python",
     "metadata": {},
     "outputs": [
      {
       "metadata": {},
       "output_type": "display_data",
       "png": "[encoded data removed]",
       "text": [
        "<matplotlib.figure.Figure at 0x7f000cc82a10>"
       ]
      }
     ],
     "prompt_number": 38
    },
    {
     "cell_type": "code",
     "collapsed": false,
     "input": [],
     "language": "python",
     "metadata": {},
     "outputs": [],
     "prompt_number": 36
    },
    {
     "cell_type": "code",
     "collapsed": false,
     "input": [],
     "language": "python",
     "metadata": {},
     "outputs": [],
     "prompt_number": 2
    },
    {
     "cell_type": "code",
     "collapsed": false,
     "input": [],
     "language": "python",
     "metadata": {},
     "outputs": []
    }
   ],
   "metadata": {}
  }
 ]
}