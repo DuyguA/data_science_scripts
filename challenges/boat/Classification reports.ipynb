{
 "metadata": {
  "name": "Classification reports"
 },
 "nbformat": 3,
 "nbformat_minor": 0,
 "worksheets": [
  {
   "cells": [
    {
     "cell_type": "code",
     "collapsed": false,
     "input": [
      "from predict import prepare_sets\n",
      "\n",
      "data, sub_data, survived = prepare_sets()\n",
      "test_data = sub_data[data.type == 'test']\n",
      "train_data = sub_data[data.type == 'train']"
     ],
     "language": "python",
     "metadata": {},
     "outputs": [],
     "prompt_number": 1
    },
    {
     "cell_type": "code",
     "collapsed": false,
     "input": [
      "from sklearn.cross_validation import train_test_split\n",
      "from sklearn.grid_search import GridSearchCV\n",
      "from sklearn.metrics import classification_report\n",
      "from sklearn import ensemble\n",
      "\n",
      "X_train, X_test, y_train, y_test = train_test_split(\n",
      "    train_data, survived, test_size=0.2, random_state=0)\n",
      "\n",
      "params = [{\n",
      "    'n_estimators': [100, 300, 1000],\n",
      "    'min_density': [0.1, 0.3, 0.5, 0.7, 0.9],\n",
      "    'max_depth': [None, 1, 2, 5, 10, 20, 50, 100],\n",
      "    'min_samples_leaf': [1, 2, 5, 10],\n",
      "    'min_samples_split': [2, 4, 8, 10, 20],\n",
      "    'max_features': ['auto', 'sqrt', 'log2', None]\n",
      "}]\n",
      "\n",
      "clf = ensemble.RandomForestClassifier(n_estimators=10, random_state=1)\n",
      "clf = GridSearchCV(clf, params, cv=3, n_jobs=3)\n",
      "clf.fit(X_train, y_train)\n",
      "\n",
      "print clf.best_estimator_\n",
      "\n",
      "y_true, y_pred = y_test, clf.predict(X_test)\n",
      "print classification_report(y_true, y_pred)\n"
     ],
     "language": "python",
     "metadata": {},
     "outputs": [],
     "prompt_number": "*"
    }
   ],
   "metadata": {}
  }
 ]
}