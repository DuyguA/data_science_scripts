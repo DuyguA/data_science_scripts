{
 "metadata": {
  "name": "Feature selection"
 },
 "nbformat": 3,
 "nbformat_minor": 0,
 "worksheets": [
  {
   "cells": [
    {
     "cell_type": "code",
     "collapsed": false,
     "input": [
      "import pandas as pd\n",
      "from sklearn import ensemble\n",
      "from sklearn import cross_validation\n",
      "from sklearn.metrics import classification_report\n",
      "from sklearn.grid_search import GridSearchCV\n",
      "\n",
      "data = pd.read_csv('train.csv')\n",
      "\n",
      "def test_model(X, y, boost=True):\n",
      "    X_train, X_test, y_train, y_test = cross_validation.train_test_split(\n",
      "        X, y, test_size=0.3, random_state=0)\n",
      "    \n",
      "    params = {\n",
      "        \"n_estimators\": [150, 200, 250],\n",
      "        \"learning_rate\": [1.0, 0.9, 0.2, 0.1],\n",
      "        #\"base_estimator__max_depth\": [1, 5]\n",
      "    }\n",
      "    \n",
      "    if boost:\n",
      "        clf = ensemble.AdaBoostClassifier()\n",
      "        clf = GridSearchCV(clf, params, cv=5)\n",
      "    else:\n",
      "        params = {\n",
      "          'n_estimators': [150, 200, 250],\n",
      "          'min_samples_split': [2, 5, 10]\n",
      "        }\n",
      "        clf = ensemble.RandomForestClassifier(n_estimators=200,\n",
      "            min_samples_leaf=2, min_samples_split=10, random_state=1)\n",
      "        #clf = GridSearchCV(clf, params, cv=5)\n",
      "    \n",
      "    clf.fit(X_train, y_train)\n",
      "    \n",
      "    #print clf.best_estimator_\n",
      "    \n",
      "    y_true, y_pred = y_test, clf.predict(X_test)\n",
      "    \n",
      "    print classification_report(y_true, y_pred)\n",
      "    \n",
      "data['sex_num'] = data.Sex.replace({'male': 1, 'female': 0})\n",
      "data['others'] = data['Parch'] + data['SibSp']\n",
      "data['alone'] = data.others.map(lambda v: 0 if v > 0 else 1)\n",
      "\n",
      "import re\n",
      "data['title'] = data.Name.map(\n",
      "            lambda n: re.search('\\w+\\.', n).group().lower()[:-1])\n",
      "\n",
      "data.Cabin = data.Cabin.map(lambda c: str(c).replace('F ', '').lower())\n",
      "\n",
      "data['cabin_type'] = data.Cabin.map(lambda c: str(c).split()[0][0])"
     ],
     "language": "python",
     "metadata": {},
     "outputs": [],
     "prompt_number": 153
    },
    {
     "cell_type": "code",
     "collapsed": false,
     "input": [
      "ind = data.Age > 0\n",
      "test_model(data[ind][['Age']], data[ind]['Survived'])"
     ],
     "language": "python",
     "metadata": {},
     "outputs": [
      {
       "output_type": "stream",
       "stream": "stdout",
       "text": [
        "             precision    recall  f1-score   support\n",
        "\n",
        "          0       0.60      0.93      0.73       125\n",
        "          1       0.57      0.13      0.22        90\n",
        "\n",
        "avg / total       0.59      0.60      0.51       215\n",
        "\n"
       ]
      }
     ],
     "prompt_number": 14
    },
    {
     "cell_type": "code",
     "collapsed": false,
     "input": [
      "test_model(data[['sex_num']], data['Survived'])"
     ],
     "language": "python",
     "metadata": {},
     "outputs": [
      {
       "output_type": "stream",
       "stream": "stdout",
       "text": [
        "             precision    recall  f1-score   support\n",
        "\n",
        "          0       0.83      0.83      0.83       168\n",
        "          1       0.72      0.71      0.71       100\n",
        "\n",
        "avg / total       0.79      0.79      0.79       268\n",
        "\n"
       ]
      }
     ],
     "prompt_number": 15
    },
    {
     "cell_type": "code",
     "collapsed": false,
     "input": [
      "test_model(data[ind][['Age', 'sex_num']], data[ind]['Survived'])"
     ],
     "language": "python",
     "metadata": {},
     "outputs": [
      {
       "output_type": "stream",
       "stream": "stdout",
       "text": [
        "             precision    recall  f1-score   support\n",
        "\n",
        "          0       0.81      0.86      0.83       125\n",
        "          1       0.79      0.71      0.75        90\n",
        "\n",
        "avg / total       0.80      0.80      0.80       215\n",
        "\n"
       ]
      }
     ],
     "prompt_number": 16
    },
    {
     "cell_type": "code",
     "collapsed": false,
     "input": [
      "data['age_fixed'] = data.Age\n",
      "\n",
      "data.age_fixed.fillna(data.Age.mean(), inplace=True)\n",
      "test_model(data[['age_fixed', 'sex_num']], data['Survived'])"
     ],
     "language": "python",
     "metadata": {},
     "outputs": [
      {
       "output_type": "stream",
       "stream": "stdout",
       "text": [
        "             precision    recall  f1-score   support\n",
        "\n",
        "          0       0.83      0.83      0.83       168\n",
        "          1       0.72      0.72      0.72       100\n",
        "\n",
        "avg / total       0.79      0.79      0.79       268\n",
        "\n"
       ]
      }
     ],
     "prompt_number": 17
    },
    {
     "cell_type": "code",
     "collapsed": false,
     "input": [
      "data['age_fixed'] = data.groupby(['Sex']).Age.transform(\n",
      "    lambda grp: grp.fillna(grp.mean()))\n",
      "\n",
      "test_model(data[['age_fixed', 'sex_num']], data['Survived'])"
     ],
     "language": "python",
     "metadata": {},
     "outputs": [
      {
       "output_type": "stream",
       "stream": "stdout",
       "text": [
        "             precision    recall  f1-score   support\n",
        "\n",
        "          0       0.83      0.83      0.83       168\n",
        "          1       0.72      0.72      0.72       100\n",
        "\n",
        "avg / total       0.79      0.79      0.79       268\n",
        "\n"
       ]
      }
     ],
     "prompt_number": 88
    },
    {
     "cell_type": "code",
     "collapsed": false,
     "input": [
      "data['age_fixed'] = data.groupby(['Sex', 'title']).Age.transform(\n",
      "    lambda grp: grp.fillna(grp.mean()))\n",
      "\n",
      "test_model(data[['age_fixed', 'sex_num']], data['Survived'])"
     ],
     "language": "python",
     "metadata": {},
     "outputs": [
      {
       "output_type": "stream",
       "stream": "stdout",
       "text": [
        "             precision    recall  f1-score   support\n",
        "\n",
        "          0       0.83      0.83      0.83       168\n",
        "          1       0.72      0.72      0.72       100\n",
        "\n",
        "avg / total       0.79      0.79      0.79       268\n",
        "\n"
       ]
      }
     ],
     "prompt_number": 32
    },
    {
     "cell_type": "code",
     "collapsed": false,
     "input": [
      "test_model(data[['age_fixed', 'sex_num', 'Pclass']], data['Survived'])"
     ],
     "language": "python",
     "metadata": {},
     "outputs": [
      {
       "output_type": "stream",
       "stream": "stdout",
       "text": [
        "             precision    recall  f1-score   support\n",
        "\n",
        "          0       0.84      0.83      0.84       168\n",
        "          1       0.72      0.73      0.73       100\n",
        "\n",
        "avg / total       0.80      0.79      0.79       268\n",
        "\n"
       ]
      }
     ],
     "prompt_number": 33
    },
    {
     "cell_type": "code",
     "collapsed": false,
     "input": [
      "test_model(data[ind][['Age', 'sex_num', 'Pclass']], data[ind]['Survived'])"
     ],
     "language": "python",
     "metadata": {},
     "outputs": [
      {
       "output_type": "stream",
       "stream": "stdout",
       "text": [
        "             precision    recall  f1-score   support\n",
        "\n",
        "          0       0.86      0.84      0.85       125\n",
        "          1       0.78      0.81      0.80        90\n",
        "\n",
        "avg / total       0.83      0.83      0.83       215\n",
        "\n"
       ]
      }
     ],
     "prompt_number": 34
    },
    {
     "cell_type": "code",
     "collapsed": false,
     "input": [
      "data['age_fixed'] = data.groupby(['Sex']).Age.transform(\n",
      "    lambda grp: grp.fillna(grp.mean()))\n",
      "\n",
      "test_model(data[['age_fixed', 'sex_num', 'Pclass']], data['Survived'])"
     ],
     "language": "python",
     "metadata": {},
     "outputs": [
      {
       "output_type": "stream",
       "stream": "stdout",
       "text": [
        "             precision    recall  f1-score   support\n",
        "\n",
        "          0       0.84      0.83      0.83       168\n",
        "          1       0.72      0.73      0.72       100\n",
        "\n",
        "avg / total       0.79      0.79      0.79       268\n",
        "\n"
       ]
      }
     ],
     "prompt_number": 79
    },
    {
     "cell_type": "raw",
     "metadata": {},
     "source": [
      "More precise age makes things only worse??"
     ]
    },
    {
     "cell_type": "code",
     "collapsed": false,
     "input": [
      "test_model(data[ind][['Age', 'sex_num', 'Pclass', 'Fare']], data[ind]['Survived'])"
     ],
     "language": "python",
     "metadata": {},
     "outputs": [
      {
       "output_type": "stream",
       "stream": "stdout",
       "text": [
        "             precision    recall  f1-score   support\n",
        "\n",
        "          0       0.81      0.86      0.84       125\n",
        "          1       0.79      0.72      0.76        90\n",
        "\n",
        "avg / total       0.80      0.80      0.80       215\n",
        "\n"
       ]
      }
     ],
     "prompt_number": 36
    },
    {
     "cell_type": "code",
     "collapsed": false,
     "input": [
      "test_model(data[ind][['age_fixed', 'sex_num', 'Pclass', 'Fare']], data[ind]['Survived'])"
     ],
     "language": "python",
     "metadata": {},
     "outputs": [
      {
       "output_type": "stream",
       "stream": "stdout",
       "text": [
        "             precision    recall  f1-score   support\n",
        "\n",
        "          0       0.81      0.86      0.84       125\n",
        "          1       0.79      0.72      0.76        90\n",
        "\n",
        "avg / total       0.80      0.80      0.80       215\n",
        "\n"
       ]
      }
     ],
     "prompt_number": 37
    },
    {
     "cell_type": "code",
     "collapsed": false,
     "input": [
      "test_model(data[ind][['Age', 'sex_num', 'Pclass', 'others']], data[ind]['Survived'])"
     ],
     "language": "python",
     "metadata": {},
     "outputs": [
      {
       "output_type": "stream",
       "stream": "stdout",
       "text": [
        "             precision    recall  f1-score   support\n",
        "\n",
        "          0       0.85      0.86      0.85       125\n",
        "          1       0.80      0.79      0.79        90\n",
        "\n",
        "avg / total       0.83      0.83      0.83       215\n",
        "\n"
       ]
      }
     ],
     "prompt_number": 39
    },
    {
     "cell_type": "code",
     "collapsed": false,
     "input": [
      "test_model(data[ind][['Age', 'sex_num', 'Pclass', 'alone']], data[ind]['Survived'])"
     ],
     "language": "python",
     "metadata": {},
     "outputs": [
      {
       "output_type": "stream",
       "stream": "stdout",
       "text": [
        "             precision    recall  f1-score   support\n",
        "\n",
        "          0       0.86      0.84      0.85       125\n",
        "          1       0.78      0.81      0.80        90\n",
        "\n",
        "avg / total       0.83      0.83      0.83       215\n",
        "\n"
       ]
      }
     ],
     "prompt_number": 43
    },
    {
     "cell_type": "code",
     "collapsed": false,
     "input": [
      "cabin = pd.get_dummies(data.cabin_type, prefix='cabin')\n",
      "\n",
      "sdata = data[ind][['Age', 'sex_num', 'Pclass']]\n",
      "sdata = pd.merge(sdata, cabin, left_index=True, right_index=True)\n",
      "\n",
      "test_model(sdata, data[ind]['Survived'])"
     ],
     "language": "python",
     "metadata": {},
     "outputs": [
      {
       "output_type": "stream",
       "stream": "stdout",
       "text": [
        "             precision    recall  f1-score   support\n",
        "\n",
        "          0       0.85      0.84      0.84       125\n",
        "          1       0.78      0.79      0.78        90\n",
        "\n",
        "avg / total       0.82      0.82      0.82       215\n",
        "\n"
       ]
      }
     ],
     "prompt_number": 52
    },
    {
     "cell_type": "code",
     "collapsed": false,
     "input": [
      "test_model(data[ind][['Age', 'sex_num', 'Fare']], data[ind]['Survived'])"
     ],
     "language": "python",
     "metadata": {},
     "outputs": [
      {
       "output_type": "stream",
       "stream": "stdout",
       "text": [
        "             precision    recall  f1-score   support\n",
        "\n",
        "          0       0.82      0.82      0.82       125\n",
        "          1       0.75      0.74      0.75        90\n",
        "\n",
        "avg / total       0.79      0.79      0.79       215\n",
        "\n"
       ]
      }
     ],
     "prompt_number": 53
    },
    {
     "cell_type": "code",
     "collapsed": false,
     "input": [
      "data['age_bin'] = pd.qcut(data.Age, 10)\n",
      "\n",
      "age_bin = pd.get_dummies(data.age_bin, prefix='bin')\n",
      "\n",
      "sdata = data[['Age', 'sex_num', 'Pclass']]\n",
      "sdata = pd.merge(sdata, age_bin, left_index=True, right_index=True)\n",
      "\n",
      "test_model(sdata[ind], data[ind]['Survived'])"
     ],
     "language": "python",
     "metadata": {},
     "outputs": [
      {
       "output_type": "stream",
       "stream": "stdout",
       "text": [
        "             precision    recall  f1-score   support\n",
        "\n",
        "          0       0.86      0.86      0.86       125\n",
        "          1       0.80      0.80      0.80        90\n",
        "\n",
        "avg / total       0.83      0.83      0.83       215\n",
        "\n"
       ]
      }
     ],
     "prompt_number": 82
    },
    {
     "cell_type": "code",
     "collapsed": false,
     "input": [
      "test_model(data[ind][['Age', 'sex_num', 'Pclass', 'Parch']], data[ind]['Survived'])"
     ],
     "language": "python",
     "metadata": {},
     "outputs": [
      {
       "output_type": "stream",
       "stream": "stdout",
       "text": [
        "             precision    recall  f1-score   support\n",
        "\n",
        "          0       0.85      0.82      0.83       125\n",
        "          1       0.76      0.80      0.78        90\n",
        "\n",
        "avg / total       0.81      0.81      0.81       215\n",
        "\n"
       ]
      }
     ],
     "prompt_number": 68
    },
    {
     "cell_type": "code",
     "collapsed": false,
     "input": [
      "test_model(data[ind][['Age', 'sex_num', 'Pclass', 'SibSp']], data[ind]['Survived'])"
     ],
     "language": "python",
     "metadata": {},
     "outputs": [
      {
       "output_type": "stream",
       "stream": "stdout",
       "text": [
        "             precision    recall  f1-score   support\n",
        "\n",
        "          0       0.86      0.82      0.84       125\n",
        "          1       0.76      0.81      0.78        90\n",
        "\n",
        "avg / total       0.82      0.81      0.81       215\n",
        "\n"
       ]
      }
     ],
     "prompt_number": 69
    },
    {
     "cell_type": "code",
     "collapsed": false,
     "input": [
      "test_model(data[['age_fixed', 'sex_num', 'Pclass', 'Fare', 'others']], data['Survived'], False)"
     ],
     "language": "python",
     "metadata": {},
     "outputs": [
      {
       "output_type": "stream",
       "stream": "stdout",
       "text": [
        "             precision    recall  f1-score   support\n",
        "\n",
        "          0       0.84      0.88      0.86       168\n",
        "          1       0.78      0.71      0.74       100\n",
        "\n",
        "avg / total       0.82      0.82      0.82       268\n",
        "\n"
       ]
      }
     ],
     "prompt_number": 90
    },
    {
     "cell_type": "code",
     "collapsed": false,
     "input": [
      "data['age_bin'] = pd.qcut(data.Age, 10)\n",
      "data['crew'] = data.Fare.map(lambda f: 0 if f > 0 else 1)\n",
      "data['cabin_num'] = data.Cabin.map(lambda c: len(c.split(' ')))\n",
      "\n",
      "nums = data.Cabin.map(lambda c: len(str(c).split(' ')))\n",
      "data['fare_fixed'] = (data.Fare / nums)\n",
      "\n",
      "age_bin = pd.get_dummies(data.age_bin, prefix='bin')\n",
      "title = pd.get_dummies(data.title, prefix='title')\n",
      "embarked = pd.get_dummies(data.Embarked, prefix='title')\n",
      "\n",
      "sdata = data[['sex_num', 'Pclass', 'Fare', 'others']]\n",
      "sdata = pd.merge(sdata, age_bin, left_index=True, right_index=True)\n",
      "sdata = pd.merge(sdata, title, left_index=True, right_index=True)\n",
      "#sdata = pd.merge(sdata, embarked, left_index=True, right_index=True)\n",
      "\n",
      "test_model(sdata, data['Survived'], False)"
     ],
     "language": "python",
     "metadata": {},
     "outputs": [
      {
       "output_type": "stream",
       "stream": "stdout",
       "text": [
        "             precision    recall  f1-score   support\n",
        "\n",
        "          0       0.85      0.88      0.86       168\n",
        "          1       0.78      0.75      0.77       100\n",
        "\n",
        "avg / total       0.83      0.83      0.83       268\n",
        "\n"
       ]
      }
     ],
     "prompt_number": 154
    }
   ],
   "metadata": {}
  }
 ]
}