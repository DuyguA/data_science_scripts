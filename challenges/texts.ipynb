{
 "metadata": {
  "name": ""
 },
 "nbformat": 3,
 "nbformat_minor": 0,
 "worksheets": [
  {
   "cells": [
    {
     "cell_type": "code",
     "collapsed": false,
     "input": [
      "import string\n",
      "import collections\n",
      " \n",
      "from nltk import word_tokenize\n",
      "from nltk.stem import PorterStemmer\n",
      "from nltk.corpus import stopwords\n",
      "from sklearn.cluster import KMeans\n",
      "from sklearn.feature_extraction.text import TfidfVectorizer\n",
      "from pprint import pprint"
     ],
     "language": "python",
     "metadata": {},
     "outputs": [],
     "prompt_number": 7
    },
    {
     "cell_type": "code",
     "collapsed": false,
     "input": [
      "sentence_list=[\"I go to school from home\", \"I go to home from school recently\", \"Duygu eat banana\", \"Duygu like to eat banana\"]\n",
      "vectorizer=TfidfVectorizer( stop_words=stopwords.words('english'),lowercase=True, decode_error='ignore')\n",
      "filtered_words = [[word for word in sentence.split()  if word not in stopwords.words('english')] for sentence in sentence_list ]\n",
      "print filtered_words"
     ],
     "language": "python",
     "metadata": {},
     "outputs": [
      {
       "output_type": "stream",
       "stream": "stdout",
       "text": [
        "[['I', 'go', 'school', 'home'], ['I', 'go', 'home', 'school', 'recently'], ['Duygu', 'eat', 'banana'], ['Duygu', 'like', 'eat', 'banana']]\n"
       ]
      }
     ],
     "prompt_number": 19
    },
    {
     "cell_type": "code",
     "collapsed": false,
     "input": [
      "vectorized=vectorizer.fit_transform(sentence_list)\n",
      "vectorizer.get_feature_names()"
     ],
     "language": "python",
     "metadata": {},
     "outputs": [
      {
       "metadata": {},
       "output_type": "pyout",
       "prompt_number": 20,
       "text": [
        "[u'banana', u'duygu', u'eat', u'go', u'home', u'like', u'recently', u'school']"
       ]
      }
     ],
     "prompt_number": 20
    },
    {
     "cell_type": "code",
     "collapsed": false,
     "input": [
      "print vectorized\n",
      "print \"\\n\"\n",
      "print vectorized.shape\n",
      "print \"\\n\"\n",
      "print vectorized.todense()"
     ],
     "language": "python",
     "metadata": {},
     "outputs": [
      {
       "output_type": "stream",
       "stream": "stdout",
       "text": [
        "  (0, 4)\t0.57735026919\n",
        "  (0, 7)\t0.57735026919\n",
        "  (0, 3)\t0.57735026919\n",
        "  (1, 6)\t0.590819080602\n",
        "  (1, 4)\t0.465808549369\n",
        "  (1, 7)\t0.465808549369\n",
        "  (1, 3)\t0.465808549369\n",
        "  (2, 0)\t0.57735026919\n",
        "  (2, 2)\t0.57735026919\n",
        "  (2, 1)\t0.57735026919\n",
        "  (3, 5)\t0.590819080602\n",
        "  (3, 0)\t0.465808549369\n",
        "  (3, 2)\t0.465808549369\n",
        "  (3, 1)\t0.465808549369\n",
        "\n",
        "\n",
        "(4, 8)\n",
        "\n",
        "\n",
        "[[ 0.          0.          0.          0.57735027  0.57735027  0.          0.\n",
        "   0.57735027]\n",
        " [ 0.          0.          0.          0.46580855  0.46580855  0.\n",
        "   0.59081908  0.46580855]\n",
        " [ 0.57735027  0.57735027  0.57735027  0.          0.          0.          0.\n",
        "   0.        ]\n",
        " [ 0.46580855  0.46580855  0.46580855  0.          0.          0.59081908\n",
        "   0.          0.        ]]\n"
       ]
      }
     ],
     "prompt_number": 21
    },
    {
     "cell_type": "code",
     "collapsed": false,
     "input": [
      "from sklearn.feature_extraction.text import CountVectorizer, TfidfTransformer\n",
      "from sklearn.decomposition import PCA\n",
      "from sklearn.pipeline import Pipeline\n",
      "import matplotlib.pyplot as plt"
     ],
     "language": "python",
     "metadata": {},
     "outputs": [],
     "prompt_number": 22
    },
    {
     "cell_type": "code",
     "collapsed": false,
     "input": [
      "pipeline = Pipeline([\n",
      "    ('vect', CountVectorizer()),\n",
      "    ('tfidf', TfidfTransformer()),\n",
      "])        \n",
      "X = pipeline.fit_transform(sentence_list).todense()"
     ],
     "language": "python",
     "metadata": {},
     "outputs": [],
     "prompt_number": 23
    },
    {
     "cell_type": "code",
     "collapsed": false,
     "input": [
      "pca = PCA(n_components=2).fit(X)\n",
      "data2D = pca.transform(X)\n",
      "xlim(-1.0, 0.8)\n",
      "ylim(-1.0, 0.4)\n",
      "plt.scatter(data2D[:,0], data2D[:,1])"
     ],
     "language": "python",
     "metadata": {},
     "outputs": [
      {
       "metadata": {},
       "output_type": "pyout",
       "prompt_number": 24,
       "text": [
        "<matplotlib.collections.PathCollection at 0x7f0610419890>"
       ]
      },
      {
       "metadata": {},
       "output_type": "display_data",
       "png": "[encoded data removed]",
       "text": [
        "<matplotlib.figure.Figure at 0x7f061072e750>"
       ]
      }
     ],
     "prompt_number": 24
    },
    {
     "cell_type": "code",
     "collapsed": false,
     "input": [
      "sentence_lista=[u\"Okuldan eve giderim\", u\"Evden okula her g\u00fcn giderdim\", u\"Muz yiyorum\", u\"Muzu yerdim\"]\n",
      "vectorizera=TfidfVectorizer(lowercase=True, decode_error='ignore')"
     ],
     "language": "python",
     "metadata": {},
     "outputs": [],
     "prompt_number": 31
    },
    {
     "cell_type": "code",
     "collapsed": false,
     "input": [
      "vectorizeda=vectorizera.fit_transform(sentence_lista)\n",
      "vectorizera.get_feature_names()"
     ],
     "language": "python",
     "metadata": {},
     "outputs": [
      {
       "metadata": {},
       "output_type": "pyout",
       "prompt_number": 32,
       "text": [
        "[u'evden',\n",
        " u'eve',\n",
        " u'giderdim',\n",
        " u'giderim',\n",
        " u'g\\xfcn',\n",
        " u'her',\n",
        " u'muz',\n",
        " u'muzu',\n",
        " u'okula',\n",
        " u'okuldan',\n",
        " u'yerdim',\n",
        " u'yiyorum']"
       ]
      }
     ],
     "prompt_number": 32
    },
    {
     "cell_type": "code",
     "collapsed": false,
     "input": [
      "print vectorizeda\n",
      "print \"\\n\"\n",
      "print vectorizeda.shape\n",
      "print \"\\n\"\n",
      "print vectorizeda.todense()"
     ],
     "language": "python",
     "metadata": {},
     "outputs": [
      {
       "output_type": "stream",
       "stream": "stdout",
       "text": [
        "  (0, 3)\t0.57735026919\n",
        "  (0, 1)\t0.57735026919\n",
        "  (0, 9)\t0.57735026919\n",
        "  (1, 2)\t0.4472135955\n",
        "  (1, 4)\t0.4472135955\n",
        "  (1, 5)\t0.4472135955\n",
        "  (1, 8)\t0.4472135955\n",
        "  (1, 0)\t0.4472135955\n",
        "  (2, 11)\t0.707106781187\n",
        "  (2, 6)\t0.707106781187\n",
        "  (3, 10)\t0.707106781187\n",
        "  (3, 7)\t0.707106781187\n",
        "\n",
        "\n",
        "(4, 12)\n",
        "\n",
        "\n",
        "[[ 0.          0.57735027  0.          0.57735027  0.          0.          0.\n",
        "   0.          0.          0.57735027  0.          0.        ]\n",
        " [ 0.4472136   0.          0.4472136   0.          0.4472136   0.4472136\n",
        "   0.          0.          0.4472136   0.          0.          0.        ]\n",
        " [ 0.          0.          0.          0.          0.          0.\n",
        "   0.70710678  0.          0.          0.          0.          0.70710678]\n",
        " [ 0.          0.          0.          0.          0.          0.          0.\n",
        "   0.70710678  0.          0.          0.70710678  0.        ]]\n"
       ]
      }
     ],
     "prompt_number": 33
    },
    {
     "cell_type": "code",
     "collapsed": false,
     "input": [
      "pipeline = Pipeline([\n",
      "    ('vect', CountVectorizer()),\n",
      "    ('tfidf', TfidfTransformer()),\n",
      "])        \n",
      "Xa = pipeline.fit_transform(sentence_lista).todense()"
     ],
     "language": "python",
     "metadata": {},
     "outputs": [],
     "prompt_number": 34
    },
    {
     "cell_type": "code",
     "collapsed": false,
     "input": [
      "pca = PCA(n_components=2).fit(Xa)\n",
      "data2Da = pca.transform(Xa)\n",
      "plt.scatter(data2Da[:,0], data2Da[:,1])"
     ],
     "language": "python",
     "metadata": {},
     "outputs": [
      {
       "metadata": {},
       "output_type": "pyout",
       "prompt_number": 35,
       "text": [
        "<matplotlib.collections.PathCollection at 0x7f0610252850>"
       ]
      },
      {
       "metadata": {},
       "output_type": "display_data",
       "png": "[encoded data removed]",
       "text": [
        "<matplotlib.figure.Figure at 0x7f0610256410>"
       ]
      }
     ],
     "prompt_number": 35
    },
    {
     "cell_type": "code",
     "collapsed": false,
     "input": [
      "sentence_listb=[u\"Okul ev git\", u\"Ev okul her g\u00fcn git\", u\"Muz ye\", u\"Muz ye\"]\n",
      "vectorizerb=TfidfVectorizer(lowercase=True, decode_error='ignore')\n",
      "vectorizedb=vectorizerb.fit_transform(sentence_listb)\n",
      "vectorizerb.get_feature_names()"
     ],
     "language": "python",
     "metadata": {},
     "outputs": [
      {
       "metadata": {},
       "output_type": "pyout",
       "prompt_number": 231,
       "text": [
        "[u'ev', u'git', u'g\\xfcn', u'her', u'muz', u'okul', u'ye']"
       ]
      }
     ],
     "prompt_number": 231
    },
    {
     "cell_type": "code",
     "collapsed": false,
     "input": [
      "print vectorizedb\n",
      "print \"\\n\"\n",
      "print vectorizedb.shape\n",
      "print \"\\n\"\n",
      "print vectorizedb.todense()"
     ],
     "language": "python",
     "metadata": {},
     "outputs": [
      {
       "output_type": "stream",
       "stream": "stdout",
       "text": [
        "  (0, 1)\t0.57735026919\n",
        "  (0, 0)\t0.57735026919\n",
        "  (0, 5)\t0.57735026919\n",
        "  (1, 2)\t0.508671871894\n",
        "  (1, 3)\t0.508671871894\n",
        "  (1, 1)\t0.40104274647\n",
        "  (1, 0)\t0.40104274647\n",
        "  (1, 5)\t0.40104274647\n",
        "  (2, 6)\t0.707106781187\n",
        "  (2, 4)\t0.707106781187\n",
        "  (3, 6)\t0.707106781187\n",
        "  (3, 4)\t0.707106781187\n",
        "\n",
        "\n",
        "(4, 7)\n",
        "\n",
        "\n",
        "[[ 0.57735027  0.57735027  0.          0.          0.          0.57735027\n",
        "   0.        ]\n",
        " [ 0.40104275  0.40104275  0.50867187  0.50867187  0.          0.40104275\n",
        "   0.        ]\n",
        " [ 0.          0.          0.          0.          0.70710678  0.\n",
        "   0.70710678]\n",
        " [ 0.          0.          0.          0.          0.70710678  0.\n",
        "   0.70710678]]\n"
       ]
      }
     ],
     "prompt_number": 232
    },
    {
     "cell_type": "code",
     "collapsed": false,
     "input": [
      "pipeline = Pipeline([\n",
      "    ('vect', CountVectorizer()),\n",
      "    ('tfidf', TfidfTransformer()),\n",
      "])        \n",
      "Xb = pipeline.fit_transform(sentence_listb).todense()\n",
      "pca = PCA(n_components=2).fit(Xb)\n",
      "data2Db = pca.transform(Xb)\n",
      "xlim(-1.0, 0,6)\n",
      "ylim(-1.0, 0.8)\n",
      "plt.scatter(data2Db[:,0], data2Db[:,1])"
     ],
     "language": "python",
     "metadata": {},
     "outputs": [
      {
       "metadata": {},
       "output_type": "pyout",
       "prompt_number": 36,
       "text": [
        "<matplotlib.collections.PathCollection at 0x7f061011b790>"
       ]
      },
      {
       "metadata": {},
       "output_type": "display_data",
       "png": "[encoded data removed]",
       "text": [
        "<matplotlib.figure.Figure at 0x7f06104a3590>"
       ]
      }
     ],
     "prompt_number": 36
    },
    {
     "cell_type": "code",
     "collapsed": false,
     "input": [],
     "language": "python",
     "metadata": {},
     "outputs": [],
     "prompt_number": 36
    },
    {
     "cell_type": "code",
     "collapsed": false,
     "input": [],
     "language": "python",
     "metadata": {},
     "outputs": [],
     "prompt_number": 2
    },
    {
     "cell_type": "code",
     "collapsed": false,
     "input": [],
     "language": "python",
     "metadata": {},
     "outputs": []
    }
   ],
   "metadata": {}
  }
 ]
}