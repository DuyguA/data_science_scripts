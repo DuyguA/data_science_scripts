{
 "cells": [
  {
   "cell_type": "code",
   "execution_count": 2,
   "metadata": {
    "collapsed": false
   },
   "outputs": [],
   "source": [
    "import numpy as np\n",
    "import pandas as pd\n",
    "import matplotlib.pyplot as plt\n",
    "from pandas import Series, DataFrame\n",
    "\n",
    "%matplotlib inline\n",
    "pd.options.display.mpl_style = 'default'\n",
    "import os\n",
    "from IPython.core.display import HTML"
   ]
  },
  {
   "cell_type": "code",
   "execution_count": 3,
   "metadata": {
    "collapsed": false
   },
   "outputs": [
    {
     "data": {
      "text/html": [
       "<iframe src=\"http://www.yelp.com/dataset_challenge\" width=\"1100px\" height=\"333px\">"
      ],
      "text/plain": [
       "<IPython.core.display.HTML object>"
      ]
     },
     "execution_count": 3,
     "metadata": {},
     "output_type": "execute_result"
    }
   ],
   "source": [
    "YELP_DATACHALLENGE_URL = 'http://www.yelp.com/dataset_challenge'\n",
    "tag = '<iframe src=\"{0}\" width=\"1100px\" height=\"333px\">'.format(YELP_DATACHALLENGE_URL)\n",
    "HTML(tag)"
   ]
  },
  {
   "cell_type": "markdown",
   "metadata": {
    "collapsed": false
   },
   "source": [
    "# Yelp Dataset\n",
    "This link gives you an idea of the structure of Data Schema: all JSON files with each line as a distinct record\n",
    "http://www.yelp.com/dataset_challenge\n",
    "There are 5 tables:\n",
    "\n",
    "  1. Business (42,153 records)\n",
    "\n",
    "  2. Review (1,125,458 records)\n",
    "\n",
    "  3. Check ins (31,617 records)\n",
    "\n",
    "  4. Tips (403,210 records)\n",
    "\n",
    "  5. Users (252,898 records)\n"
   ]
  },
  {
   "cell_type": "code",
   "execution_count": 4,
   "metadata": {
    "collapsed": false
   },
   "outputs": [
    {
     "name": "stdout",
     "output_type": "stream",
     "text": [
      "total 3,2G\n",
      " 66M yelp_academic_dataset_business.json  229M yelp_academic_dataset_review_p1.json  228M yelp_academic_dataset_review_p4.json\n",
      " 25M yelp_academic_dataset_checkin.json   245M yelp_academic_dataset_review_p2.json  114M yelp_academic_dataset_tip.json\n",
      "1,9G yelp_academic_dataset_review.json\t  220M yelp_academic_dataset_review_p3.json  226M yelp_academic_dataset_user.json\n",
      "\n",
      "total 3,2G\n",
      " 66M yelp_academic_dataset_business.json  229M yelp_academic_dataset_review_p1.json  229M yelp_academic_dataset_review_p4.json\n",
      " 25M yelp_academic_dataset_checkin.json   246M yelp_academic_dataset_review_p2.json  114M yelp_academic_dataset_tip.json\n",
      "1,9G yelp_academic_dataset_review.json\t  220M yelp_academic_dataset_review_p3.json  226M yelp_academic_dataset_user.json\n"
     ]
    }
   ],
   "source": [
    "json_raw_data_dir = \"json_raw\"\n",
    "json_clean_data_dir =  \"json_clean\"\n",
    "!ls -sh $json_raw_data_dir\n",
    "!echo\n",
    "!ls -sh $json_clean_data_dir"
   ]
  },
  {
   "cell_type": "markdown",
   "metadata": {},
   "source": [
    "## Loading files from the clean data directory"
   ]
  },
  {
   "cell_type": "code",
   "execution_count": 5,
   "metadata": {
    "collapsed": false
   },
   "outputs": [],
   "source": [
    "business_json_filename = os.path.join(json_clean_data_dir, 'yelp_academic_dataset_business.json')\n",
    "business_DF = pd.io.json.read_json(business_json_filename)\n",
    "business_DF.rename(columns={'name': 'business_name', 'review_count': 'business_review_count', 'stars': 'business_stars'}, inplace=True)"
   ]
  },
  {
   "cell_type": "code",
   "execution_count": 6,
   "metadata": {
    "collapsed": false
   },
   "outputs": [],
   "source": [
    "user_json_filename = os.path.join(json_clean_data_dir, 'yelp_academic_dataset_user.json')\n",
    "user_DF = pd.io.json.read_json(user_json_filename)\n",
    "user_DF.rename(columns={'name': 'user_name', 'review_count': 'user_review_count', 'votes': 'user_votes'}, inplace=True)"
   ]
  },
  {
   "cell_type": "code",
   "execution_count": 7,
   "metadata": {
    "collapsed": false
   },
   "outputs": [],
   "source": [
    "review_json_filename = os.path.join(json_clean_data_dir, 'yelp_academic_dataset_review_p1.json')\n",
    "review_DF = pd.io.json.read_json(review_json_filename)\n",
    "review_DF.rename(columns={'stars': 'review_stars', 'text': 'review_text', 'date': 'review_date', 'votes': 'review_votes'}, inplace=True)"
   ]
  },
  {
   "cell_type": "code",
   "execution_count": 9,
   "metadata": {
    "collapsed": false
   },
   "outputs": [],
   "source": [
    "tip_json_filename = os.path.join(json_clean_data_dir, 'yelp_academic_dataset_tip.json')\n",
    "tip_DF = pd.io.json.read_json(tip_json_filename)\n",
    "tip_DF.rename(columns={'text': 'tip_text', 'date': 'tip_date'}, inplace=True)"
   ]
  },
  {
   "cell_type": "markdown",
   "metadata": {},
   "source": [
    "## Saving as CSV"
   ]
  },
  {
   "cell_type": "code",
   "execution_count": 10,
   "metadata": {
    "collapsed": false
   },
   "outputs": [],
   "source": [
    "business_csv_filename = os.path.join(\"yelp_csv\", 'yelp_academic_dataset_business.csv')\n",
    "user_csv_filename = os.path.join(\"yelp_csv\", 'yelp_academic_dataset_user.csv')\n",
    "\n",
    "if not os.path.isfile(business_csv_filename):\n",
    "    business_DF.to_csv(business_csv_filename, index=False, encoding='utf-8')\n",
    "    \n",
    "if not os.path.isfile(user_csv_filename):\n",
    "    user_DF.to_csv(user_csv_filename, index=False, encoding='utf-8')"
   ]
  },
  {
   "cell_type": "markdown",
   "metadata": {},
   "source": [
    "## Merging DataTables/Frames"
   ]
  },
  {
   "cell_type": "code",
   "execution_count": 12,
   "metadata": {
    "collapsed": false
   },
   "outputs": [],
   "source": [
    "business_and_review_DF = pd.merge(business_DF, review_DF, on='business_id', how='inner')\n",
    "business_and_user_and_review_DF = pd.merge(business_and_review_DF, user_DF, on ='user_id', how='inner')"
   ]
  },
  {
   "cell_type": "code",
   "execution_count": 14,
   "metadata": {
    "collapsed": false
   },
   "outputs": [
    {
     "data": {
      "text/html": [
       "<div style=\"max-width:1500px;overflow:auto;\">\n",
       "<table border=\"1\" class=\"dataframe\">\n",
       "  <thead>\n",
       "    <tr style=\"text-align: right;\">\n",
       "      <th></th>\n",
       "      <th>attributes</th>\n",
       "      <th>business_id</th>\n",
       "      <th>categories</th>\n",
       "      <th>city</th>\n",
       "      <th>full_address</th>\n",
       "      <th>hours</th>\n",
       "      <th>latitude</th>\n",
       "      <th>longitude</th>\n",
       "      <th>business_name</th>\n",
       "      <th>neighborhoods</th>\n",
       "      <th>...</th>\n",
       "      <th>friends</th>\n",
       "      <th>user_name</th>\n",
       "      <th>user_review_count</th>\n",
       "      <th>type_x</th>\n",
       "      <th>user_votes</th>\n",
       "      <th>yelping_since</th>\n",
       "      <th>tip_date</th>\n",
       "      <th>likes</th>\n",
       "      <th>tip_text</th>\n",
       "      <th>type_y</th>\n",
       "    </tr>\n",
       "  </thead>\n",
       "  <tbody>\n",
       "    <tr>\n",
       "      <th>0</th>\n",
       "      <td>{}</td>\n",
       "      <td>6c2pWWtdQZA3w5raX6k-dg</td>\n",
       "      <td>[Barbers, Beauty &amp; Spas]</td>\n",
       "      <td>Homestead</td>\n",
       "      <td>3510 Main St\\nHomestead, PA 15120</td>\n",
       "      <td>{u'Tuesday': {u'close': u'17:30', u'open': u'0...</td>\n",
       "      <td>40.385508</td>\n",
       "      <td>-79.903491</td>\n",
       "      <td>Carmine's Barber Shop</td>\n",
       "      <td>[]</td>\n",
       "      <td>...</td>\n",
       "      <td>[DsN2dJ6SnTEACr1qC5zpGg, UD7Y1CqfY6mDmRwIuCf6n...</td>\n",
       "      <td>Kevin</td>\n",
       "      <td>47</td>\n",
       "      <td>user</td>\n",
       "      <td>{u'funny': 8, u'useful': 46, u'cool': 10}</td>\n",
       "      <td>2011-11</td>\n",
       "      <td>2014-07-14</td>\n",
       "      <td>0</td>\n",
       "      <td>I've been told that they do open at 4 AM and i...</td>\n",
       "      <td>tip</td>\n",
       "    </tr>\n",
       "    <tr>\n",
       "      <th>1</th>\n",
       "      <td>{u'Take-out': True, u'Price Range': 2, u'Outdo...</td>\n",
       "      <td>1qCuOcks5HRv67OHovAVpg</td>\n",
       "      <td>[Pubs, Bars, American (New), Nightlife, Restau...</td>\n",
       "      <td>Homestead</td>\n",
       "      <td>122 W 8th Ave\\nHomestead\\nHomestead, PA 15120</td>\n",
       "      <td>{}</td>\n",
       "      <td>40.405311</td>\n",
       "      <td>-79.912595</td>\n",
       "      <td>Duke's Upper Deck Cafe</td>\n",
       "      <td>[Homestead]</td>\n",
       "      <td>...</td>\n",
       "      <td>[fwsJGulnozT2U6FefsLiFw, Dsh4UCo9ny0XCrEJaF4aK...</td>\n",
       "      <td>Molly</td>\n",
       "      <td>146</td>\n",
       "      <td>user</td>\n",
       "      <td>{u'funny': 36, u'useful': 136, u'cool': 70}</td>\n",
       "      <td>2012-06</td>\n",
       "      <td>2014-10-18</td>\n",
       "      <td>0</td>\n",
       "      <td>Half priced appetizers after 9 on week nights.</td>\n",
       "      <td>tip</td>\n",
       "    </tr>\n",
       "    <tr>\n",
       "      <th>2</th>\n",
       "      <td>{u'Alcohol': u'beer_and_wine', u'Open 24 Hours...</td>\n",
       "      <td>2X5G4Ujq0s4Wfn4TC7gX0g</td>\n",
       "      <td>[Pubs, Bars, Hot Dogs, Nightlife, Restaurants]</td>\n",
       "      <td>Pittsburgh</td>\n",
       "      <td>1118 S Braddock Ave\\nPittsburgh, PA 15218</td>\n",
       "      <td>{u'Monday': {u'close': u'23:00', u'open': u'11...</td>\n",
       "      <td>40.432022</td>\n",
       "      <td>-79.893834</td>\n",
       "      <td>D's Six Pax &amp; Dogz</td>\n",
       "      <td>[]</td>\n",
       "      <td>...</td>\n",
       "      <td>[fwsJGulnozT2U6FefsLiFw, Dsh4UCo9ny0XCrEJaF4aK...</td>\n",
       "      <td>Molly</td>\n",
       "      <td>146</td>\n",
       "      <td>user</td>\n",
       "      <td>{u'funny': 36, u'useful': 136, u'cool': 70}</td>\n",
       "      <td>2012-06</td>\n",
       "      <td>2014-10-18</td>\n",
       "      <td>0</td>\n",
       "      <td>The special hummus is always good. Take a brea...</td>\n",
       "      <td>tip</td>\n",
       "    </tr>\n",
       "    <tr>\n",
       "      <th>3</th>\n",
       "      <td>{u'Good for Kids': True}</td>\n",
       "      <td>cE27W9VPgO88Qxe4ol6y_g</td>\n",
       "      <td>[Active Life, Mini Golf, Golf]</td>\n",
       "      <td>Bethel Park</td>\n",
       "      <td>1530 Hamilton Rd\\nBethel Park, PA 15234</td>\n",
       "      <td>{}</td>\n",
       "      <td>40.354115</td>\n",
       "      <td>-80.014660</td>\n",
       "      <td>Cool Springs Golf Center</td>\n",
       "      <td>[]</td>\n",
       "      <td>...</td>\n",
       "      <td>[nEYPahVwXGD2Pjvgkm7QqQ, ukf5AhPo3dJhEWB2km-St...</td>\n",
       "      <td>Andrew</td>\n",
       "      <td>29</td>\n",
       "      <td>user</td>\n",
       "      <td>{u'funny': 18, u'useful': 61, u'cool': 11}</td>\n",
       "      <td>2012-11</td>\n",
       "      <td>2013-04-18</td>\n",
       "      <td>0</td>\n",
       "      <td>Don't waste your time.</td>\n",
       "      <td>tip</td>\n",
       "    </tr>\n",
       "    <tr>\n",
       "      <th>4</th>\n",
       "      <td>{u'Take-out': True, u'Accepts Credit Cards': T...</td>\n",
       "      <td>McikHxxEqZ2X0joaRNKlaw</td>\n",
       "      <td>[Food, American (Traditional), Breweries, Rest...</td>\n",
       "      <td>Homestead</td>\n",
       "      <td>171 E Bridge St\\nHomestead\\nHomestead, PA 15120</td>\n",
       "      <td>{u'Monday': {u'close': u'02:00', u'open': u'11...</td>\n",
       "      <td>40.409435</td>\n",
       "      <td>-79.915262</td>\n",
       "      <td>Rock Bottom</td>\n",
       "      <td>[Homestead]</td>\n",
       "      <td>...</td>\n",
       "      <td>[D3JoaaL9kEgnIs64SUOR2w, FP79xn8H2XXnMksRuP5l6...</td>\n",
       "      <td>Casey</td>\n",
       "      <td>107</td>\n",
       "      <td>user</td>\n",
       "      <td>{u'funny': 49, u'useful': 202, u'cool': 141}</td>\n",
       "      <td>2011-03</td>\n",
       "      <td>2015-03-28</td>\n",
       "      <td>0</td>\n",
       "      <td>Longest wait of all time on Saturdays.</td>\n",
       "      <td>tip</td>\n",
       "    </tr>\n",
       "  </tbody>\n",
       "</table>\n",
       "<p>5 rows × 36 columns</p>\n",
       "</div>"
      ],
      "text/plain": [
       "                                          attributes             business_id  \\\n",
       "0                                                 {}  6c2pWWtdQZA3w5raX6k-dg   \n",
       "1  {u'Take-out': True, u'Price Range': 2, u'Outdo...  1qCuOcks5HRv67OHovAVpg   \n",
       "2  {u'Alcohol': u'beer_and_wine', u'Open 24 Hours...  2X5G4Ujq0s4Wfn4TC7gX0g   \n",
       "3                           {u'Good for Kids': True}  cE27W9VPgO88Qxe4ol6y_g   \n",
       "4  {u'Take-out': True, u'Accepts Credit Cards': T...  McikHxxEqZ2X0joaRNKlaw   \n",
       "\n",
       "                                          categories         city  \\\n",
       "0                           [Barbers, Beauty & Spas]    Homestead   \n",
       "1  [Pubs, Bars, American (New), Nightlife, Restau...    Homestead   \n",
       "2     [Pubs, Bars, Hot Dogs, Nightlife, Restaurants]   Pittsburgh   \n",
       "3                     [Active Life, Mini Golf, Golf]  Bethel Park   \n",
       "4  [Food, American (Traditional), Breweries, Rest...    Homestead   \n",
       "\n",
       "                                      full_address  \\\n",
       "0                3510 Main St\\nHomestead, PA 15120   \n",
       "1    122 W 8th Ave\\nHomestead\\nHomestead, PA 15120   \n",
       "2        1118 S Braddock Ave\\nPittsburgh, PA 15218   \n",
       "3          1530 Hamilton Rd\\nBethel Park, PA 15234   \n",
       "4  171 E Bridge St\\nHomestead\\nHomestead, PA 15120   \n",
       "\n",
       "                                               hours   latitude  longitude  \\\n",
       "0  {u'Tuesday': {u'close': u'17:30', u'open': u'0...  40.385508 -79.903491   \n",
       "1                                                 {}  40.405311 -79.912595   \n",
       "2  {u'Monday': {u'close': u'23:00', u'open': u'11...  40.432022 -79.893834   \n",
       "3                                                 {}  40.354115 -80.014660   \n",
       "4  {u'Monday': {u'close': u'02:00', u'open': u'11...  40.409435 -79.915262   \n",
       "\n",
       "              business_name neighborhoods  ...    \\\n",
       "0     Carmine's Barber Shop            []  ...     \n",
       "1    Duke's Upper Deck Cafe   [Homestead]  ...     \n",
       "2        D's Six Pax & Dogz            []  ...     \n",
       "3  Cool Springs Golf Center            []  ...     \n",
       "4               Rock Bottom   [Homestead]  ...     \n",
       "\n",
       "                                             friends  user_name  \\\n",
       "0  [DsN2dJ6SnTEACr1qC5zpGg, UD7Y1CqfY6mDmRwIuCf6n...      Kevin   \n",
       "1  [fwsJGulnozT2U6FefsLiFw, Dsh4UCo9ny0XCrEJaF4aK...      Molly   \n",
       "2  [fwsJGulnozT2U6FefsLiFw, Dsh4UCo9ny0XCrEJaF4aK...      Molly   \n",
       "3  [nEYPahVwXGD2Pjvgkm7QqQ, ukf5AhPo3dJhEWB2km-St...     Andrew   \n",
       "4  [D3JoaaL9kEgnIs64SUOR2w, FP79xn8H2XXnMksRuP5l6...      Casey   \n",
       "\n",
       "   user_review_count type_x                                    user_votes  \\\n",
       "0                 47   user     {u'funny': 8, u'useful': 46, u'cool': 10}   \n",
       "1                146   user   {u'funny': 36, u'useful': 136, u'cool': 70}   \n",
       "2                146   user   {u'funny': 36, u'useful': 136, u'cool': 70}   \n",
       "3                 29   user    {u'funny': 18, u'useful': 61, u'cool': 11}   \n",
       "4                107   user  {u'funny': 49, u'useful': 202, u'cool': 141}   \n",
       "\n",
       "  yelping_since   tip_date  likes  \\\n",
       "0       2011-11 2014-07-14      0   \n",
       "1       2012-06 2014-10-18      0   \n",
       "2       2012-06 2014-10-18      0   \n",
       "3       2012-11 2013-04-18      0   \n",
       "4       2011-03 2015-03-28      0   \n",
       "\n",
       "                                            tip_text type_y  \n",
       "0  I've been told that they do open at 4 AM and i...    tip  \n",
       "1     Half priced appetizers after 9 on week nights.    tip  \n",
       "2  The special hummus is always good. Take a brea...    tip  \n",
       "3                             Don't waste your time.    tip  \n",
       "4             Longest wait of all time on Saturdays.    tip  \n",
       "\n",
       "[5 rows x 36 columns]"
      ]
     },
     "execution_count": 14,
     "metadata": {},
     "output_type": "execute_result"
    }
   ],
   "source": [
    "all_DF = pd.merge(business_and_user_and_review_DF, tip_DF, on=['user_id', 'business_id'], how='inner')\n",
    "all_DF.head()"
   ]
  },
  {
   "cell_type": "markdown",
   "metadata": {},
   "source": [
    "## Get rid of finished stuff"
   ]
  },
  {
   "cell_type": "code",
   "execution_count": 15,
   "metadata": {
    "collapsed": false
   },
   "outputs": [],
   "source": [
    "%xdel business_and_review_DF"
   ]
  },
  {
   "cell_type": "code",
   "execution_count": 16,
   "metadata": {
    "collapsed": false
   },
   "outputs": [
    {
     "name": "stdout",
     "output_type": "stream",
     "text": [
      "Once deleted, variables cannot be recovered. Proceed (y/[n])?  y\n"
     ]
    }
   ],
   "source": [
    "%reset_selective business_and_user_and_review_DF"
   ]
  },
  {
   "cell_type": "code",
   "execution_count": 17,
   "metadata": {
    "collapsed": false
   },
   "outputs": [
    {
     "name": "stdout",
     "output_type": "stream",
     "text": [
      "Once deleted, variables cannot be recovered. Proceed (y/[n])?  y\n",
      "Once deleted, variables cannot be recovered. Proceed (y/[n])?  y\n",
      "Once deleted, variables cannot be recovered. Proceed (y/[n])?  y\n",
      "Once deleted, variables cannot be recovered. Proceed (y/[n])?  y\n"
     ]
    }
   ],
   "source": [
    "%reset_selective business_DF\n",
    "%reset_selective user_DF\n",
    "%reset_selective review_DF\n",
    "%reset_selective tip_DF"
   ]
  },
  {
   "cell_type": "markdown",
   "metadata": {},
   "source": [
    "## Save merged data frame"
   ]
  },
  {
   "cell_type": "code",
   "execution_count": 18,
   "metadata": {
    "collapsed": false
   },
   "outputs": [
    {
     "name": "stdout",
     "output_type": "stream",
     "text": [
      "91M yelp_csv/all_p1.csv\r\n"
     ]
    }
   ],
   "source": [
    "all_csv_filename = os.path.join(\"yelp_csv\", 'all_p1.csv')\n",
    "\n",
    "if not os.path.isfile(all_csv_filename):\n",
    "    all_DF.to_csv(all_csv_filename, index=False, encoding='utf-8')\n",
    "else:\n",
    "    all_DF = pd.read_csv(all_csv_filename)\n",
    "    \n",
    "!ls -sh $all_csv_filename"
   ]
  },
  {
   "cell_type": "code",
   "execution_count": 19,
   "metadata": {
    "collapsed": false
   },
   "outputs": [
    {
     "name": "stdout",
     "output_type": "stream",
     "text": [
      "Index([           u'attributes',           u'business_id',\n",
      "                  u'categories',                  u'city',\n",
      "                u'full_address',                 u'hours',\n",
      "                    u'latitude',             u'longitude',\n",
      "               u'business_name',         u'neighborhoods',\n",
      "                        u'open', u'business_review_count',\n",
      "              u'business_stars',                 u'state',\n",
      "                      u'type_x',           u'review_date',\n",
      "                   u'review_id',          u'review_stars',\n",
      "                 u'review_text',                u'type_y',\n",
      "                     u'user_id',          u'review_votes',\n",
      "               u'average_stars',           u'compliments',\n",
      "                       u'elite',                  u'fans',\n",
      "                     u'friends',             u'user_name',\n",
      "           u'user_review_count',                u'type_x',\n",
      "                  u'user_votes',         u'yelping_since',\n",
      "                    u'tip_date',                 u'likes',\n",
      "                    u'tip_text',                u'type_y'],\n",
      "      dtype='object')\n"
     ]
    },
    {
     "data": {
      "text/html": [
       "<div style=\"max-width:1500px;overflow:auto;\">\n",
       "<table border=\"1\" class=\"dataframe\">\n",
       "  <thead>\n",
       "    <tr style=\"text-align: right;\">\n",
       "      <th></th>\n",
       "      <th>latitude</th>\n",
       "      <th>longitude</th>\n",
       "      <th>open</th>\n",
       "      <th>business_review_count</th>\n",
       "      <th>business_stars</th>\n",
       "      <th>review_stars</th>\n",
       "      <th>average_stars</th>\n",
       "      <th>fans</th>\n",
       "      <th>user_review_count</th>\n",
       "      <th>likes</th>\n",
       "    </tr>\n",
       "  </thead>\n",
       "  <tbody>\n",
       "    <tr>\n",
       "      <th>count</th>\n",
       "      <td>32278.000000</td>\n",
       "      <td>32278.000000</td>\n",
       "      <td>32278</td>\n",
       "      <td>32278.000000</td>\n",
       "      <td>32278.000000</td>\n",
       "      <td>32278.000000</td>\n",
       "      <td>32278.000000</td>\n",
       "      <td>32278.000000</td>\n",
       "      <td>32278.000000</td>\n",
       "      <td>32278.000000</td>\n",
       "    </tr>\n",
       "    <tr>\n",
       "      <th>mean</th>\n",
       "      <td>35.418011</td>\n",
       "      <td>-104.756164</td>\n",
       "      <td>0.929023</td>\n",
       "      <td>188.429426</td>\n",
       "      <td>3.615481</td>\n",
       "      <td>3.970351</td>\n",
       "      <td>3.846797</td>\n",
       "      <td>14.285705</td>\n",
       "      <td>177.615032</td>\n",
       "      <td>0.012671</td>\n",
       "    </tr>\n",
       "    <tr>\n",
       "      <th>std</th>\n",
       "      <td>2.558386</td>\n",
       "      <td>13.921216</td>\n",
       "      <td>0.256791</td>\n",
       "      <td>333.781377</td>\n",
       "      <td>0.647965</td>\n",
       "      <td>1.199325</td>\n",
       "      <td>0.559875</td>\n",
       "      <td>48.573419</td>\n",
       "      <td>319.396947</td>\n",
       "      <td>0.127392</td>\n",
       "    </tr>\n",
       "    <tr>\n",
       "      <th>min</th>\n",
       "      <td>32.877390</td>\n",
       "      <td>-115.327837</td>\n",
       "      <td>False</td>\n",
       "      <td>3.000000</td>\n",
       "      <td>1.000000</td>\n",
       "      <td>1.000000</td>\n",
       "      <td>1.000000</td>\n",
       "      <td>0.000000</td>\n",
       "      <td>1.000000</td>\n",
       "      <td>0.000000</td>\n",
       "    </tr>\n",
       "    <tr>\n",
       "      <th>25%</th>\n",
       "      <td>33.493593</td>\n",
       "      <td>-115.043175</td>\n",
       "      <td>1</td>\n",
       "      <td>24.000000</td>\n",
       "      <td>3.000000</td>\n",
       "      <td>3.000000</td>\n",
       "      <td>3.620000</td>\n",
       "      <td>0.000000</td>\n",
       "      <td>19.000000</td>\n",
       "      <td>0.000000</td>\n",
       "    </tr>\n",
       "    <tr>\n",
       "      <th>50%</th>\n",
       "      <td>35.094835</td>\n",
       "      <td>-111.979599</td>\n",
       "      <td>1</td>\n",
       "      <td>74.000000</td>\n",
       "      <td>3.500000</td>\n",
       "      <td>4.000000</td>\n",
       "      <td>3.860000</td>\n",
       "      <td>2.000000</td>\n",
       "      <td>76.000000</td>\n",
       "      <td>0.000000</td>\n",
       "    </tr>\n",
       "    <tr>\n",
       "      <th>75%</th>\n",
       "      <td>36.142636</td>\n",
       "      <td>-89.390696</td>\n",
       "      <td>1</td>\n",
       "      <td>187.000000</td>\n",
       "      <td>4.000000</td>\n",
       "      <td>5.000000</td>\n",
       "      <td>4.130000</td>\n",
       "      <td>9.000000</td>\n",
       "      <td>196.000000</td>\n",
       "      <td>0.000000</td>\n",
       "    </tr>\n",
       "    <tr>\n",
       "      <th>max</th>\n",
       "      <td>43.275562</td>\n",
       "      <td>-79.850855</td>\n",
       "      <td>True</td>\n",
       "      <td>1907.000000</td>\n",
       "      <td>5.000000</td>\n",
       "      <td>5.000000</td>\n",
       "      <td>5.000000</td>\n",
       "      <td>1323.000000</td>\n",
       "      <td>5648.000000</td>\n",
       "      <td>3.000000</td>\n",
       "    </tr>\n",
       "  </tbody>\n",
       "</table>\n",
       "</div>"
      ],
      "text/plain": [
       "           latitude     longitude      open  business_review_count  \\\n",
       "count  32278.000000  32278.000000     32278           32278.000000   \n",
       "mean      35.418011   -104.756164  0.929023             188.429426   \n",
       "std        2.558386     13.921216  0.256791             333.781377   \n",
       "min       32.877390   -115.327837     False               3.000000   \n",
       "25%       33.493593   -115.043175         1              24.000000   \n",
       "50%       35.094835   -111.979599         1              74.000000   \n",
       "75%       36.142636    -89.390696         1             187.000000   \n",
       "max       43.275562    -79.850855      True            1907.000000   \n",
       "\n",
       "       business_stars  review_stars  average_stars          fans  \\\n",
       "count    32278.000000  32278.000000   32278.000000  32278.000000   \n",
       "mean         3.615481      3.970351       3.846797     14.285705   \n",
       "std          0.647965      1.199325       0.559875     48.573419   \n",
       "min          1.000000      1.000000       1.000000      0.000000   \n",
       "25%          3.000000      3.000000       3.620000      0.000000   \n",
       "50%          3.500000      4.000000       3.860000      2.000000   \n",
       "75%          4.000000      5.000000       4.130000      9.000000   \n",
       "max          5.000000      5.000000       5.000000   1323.000000   \n",
       "\n",
       "       user_review_count         likes  \n",
       "count       32278.000000  32278.000000  \n",
       "mean          177.615032      0.012671  \n",
       "std           319.396947      0.127392  \n",
       "min             1.000000      0.000000  \n",
       "25%            19.000000      0.000000  \n",
       "50%            76.000000      0.000000  \n",
       "75%           196.000000      0.000000  \n",
       "max          5648.000000      3.000000  "
      ]
     },
     "execution_count": 19,
     "metadata": {},
     "output_type": "execute_result"
    }
   ],
   "source": [
    "print all_DF.columns\n",
    "all_DF.describe()"
   ]
  },
  {
   "cell_type": "raw",
   "metadata": {},
   "source": [
    "As seen All is merge of Tip, User, Review and  Business  tables."
   ]
  },
  {
   "cell_type": "code",
   "execution_count": null,
   "metadata": {
    "collapsed": false
   },
   "outputs": [],
   "source": []
  }
 ],
 "metadata": {
  "kernelspec": {
   "display_name": "Python 2",
   "language": "python",
   "name": "python2"
  },
  "language_info": {
   "codemirror_mode": {
    "name": "ipython",
    "version": 2
   },
   "file_extension": ".py",
   "mimetype": "text/x-python",
   "name": "python",
   "nbconvert_exporter": "python",
   "pygments_lexer": "ipython2",
   "version": "2.7.9"
  }
 },
 "nbformat": 4,
 "nbformat_minor": 0
}
