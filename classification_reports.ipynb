{
 "cells": [
  {
   "cell_type": "markdown",
   "metadata": {},
   "source": [
    "# Predict Star Category Given a Yelp Review"
   ]
  },
  {
   "cell_type": "code",
   "execution_count": 1,
   "metadata": {
    "collapsed": false
   },
   "outputs": [],
   "source": [
    "import os\n",
    "import numpy as np\n",
    "import pandas as pd\n",
    "import matplotlib.pyplot as plt\n",
    "from pandas import Series, DataFrame\n",
    "\n",
    "%matplotlib inline\n",
    "pd.options.display.mpl_style = 'default'\n",
    "\n",
    "pd.set_option('display.max_columns', 36)"
   ]
  },
  {
   "cell_type": "code",
   "execution_count": 2,
   "metadata": {
    "collapsed": false
   },
   "outputs": [],
   "source": [
    "import nltk\n",
    "import string\n",
    "from nltk import word_tokenize\n",
    "from nltk.util import bigrams, trigrams\n",
    "from nltk.corpus import stopwords\n",
    "from nltk.stem.porter import PorterStemmer\n",
    "from collections import Counter"
   ]
  },
  {
   "cell_type": "code",
   "execution_count": 3,
   "metadata": {
    "collapsed": false
   },
   "outputs": [],
   "source": [
    "%%bash\n",
    "# http://www2.cs.uic.edu/~liub/\n",
    "# Hu, Minqing, and Bing Liu. \"Mining and summarizing customer reviews.\" Proceedings of the tenth ACM SIGKDD international conference on Knowledge discovery and data mining. ACM, 2004.\n",
    "# Liu, Bing, Minqing Hu, and Junsheng Cheng. \"Opinion observer: analyzing and comparing opinions on the web.\" Proceedings of the 14th international conference on World Wide Web. ACM, 2005.\n",
    "wget --quiet --output-document=opinions.rar http://www.cs.uic.edu/~liub/FBS/opinion-lexicon-English.rar\n",
    "unrar e -o+ --silent opinions.rar > /dev/null\n",
    "sed -i '/^;/d' positive-words.txt\n",
    "sed -i '/^;/d' negative-words.txt"
   ]
  },
  {
   "cell_type": "code",
   "execution_count": 4,
   "metadata": {
    "collapsed": false
   },
   "outputs": [],
   "source": [
    "positive_words = set([line.strip() for line in open('positive-words.txt', 'r')])\n",
    "negative_words = set([line.strip() for line in open('negative-words.txt', 'r')])\n",
    "nltk_stopwords = set(stopwords.words('english'))\n",
    "\n",
    "\n",
    "def remove_numbers_in_string(s):\n",
    "    return s.translate(None, string.digits)\n",
    "\n",
    "def lowercase_remove_punctuation(s):\n",
    "    s = s.lower()\n",
    "    s = s.translate(None, string.punctuation)\n",
    "    return s\n",
    "    \n",
    "def remove_stopwords(s):\n",
    "    token_list = nltk.word_tokenize(s)\n",
    "    exclude_stopwords = lambda token : token not in nltk_stopwords\n",
    "    return ' '.join(filter(exclude_stopwords, token_list))\n",
    "\n",
    "def stem_token_list(token_list):\n",
    "    stemmer = PorterStemmer()\n",
    "    return [stemmer.stem(tok.decode('utf-8')) for tok in token_list]\n",
    "\n",
    "def restring_tokens(token_list):\n",
    "    return ' '.join(token_list)\n",
    "\n",
    "def lowercase_remove_punctuation_and_numbers_and_tokenize_and_filter_more_stopwords_and_stem_and_restring(s):\n",
    "    s = remove_numbers_in_string(s)\n",
    "    s = lowercase_remove_punctuation(s)\n",
    "    s = remove_stopwords(s)\n",
    "    token_list = nltk.word_tokenize(s)\n",
    "    token_list = stem_token_list(token_list)\n",
    "    return restring_tokens(token_list)"
   ]
  },
  {
   "cell_type": "code",
   "execution_count": 5,
   "metadata": {
    "collapsed": false
   },
   "outputs": [
    {
     "data": {
      "text/html": [
       "<div>\n",
       "<table border=\"1\" class=\"dataframe\">\n",
       "  <thead>\n",
       "    <tr style=\"text-align: right;\">\n",
       "      <th></th>\n",
       "      <th>attributes</th>\n",
       "      <th>business_id</th>\n",
       "      <th>categories</th>\n",
       "      <th>city</th>\n",
       "      <th>full_address</th>\n",
       "      <th>hours</th>\n",
       "      <th>latitude</th>\n",
       "      <th>longitude</th>\n",
       "      <th>business_name</th>\n",
       "      <th>neighborhoods</th>\n",
       "      <th>open</th>\n",
       "      <th>business_review_count</th>\n",
       "      <th>business_stars</th>\n",
       "      <th>state</th>\n",
       "      <th>type_x</th>\n",
       "      <th>review_date</th>\n",
       "      <th>review_id</th>\n",
       "      <th>review_stars</th>\n",
       "      <th>review_text</th>\n",
       "      <th>type_y</th>\n",
       "      <th>user_id</th>\n",
       "      <th>review_votes</th>\n",
       "      <th>average_stars</th>\n",
       "      <th>compliments</th>\n",
       "      <th>elite</th>\n",
       "      <th>fans</th>\n",
       "      <th>friends</th>\n",
       "      <th>user_name</th>\n",
       "      <th>user_review_count</th>\n",
       "      <th>type_x.1</th>\n",
       "      <th>user_votes</th>\n",
       "      <th>yelping_since</th>\n",
       "      <th>tip_date</th>\n",
       "      <th>likes</th>\n",
       "      <th>tip_text</th>\n",
       "      <th>type_y.1</th>\n",
       "    </tr>\n",
       "  </thead>\n",
       "  <tbody>\n",
       "    <tr>\n",
       "      <th>0</th>\n",
       "      <td>{}</td>\n",
       "      <td>6c2pWWtdQZA3w5raX6k-dg</td>\n",
       "      <td>[Barbers, Beauty &amp; Spas]</td>\n",
       "      <td>Homestead</td>\n",
       "      <td>3510 Main St\\nHomestead, PA 15120</td>\n",
       "      <td>{u'Tuesday': {u'close': u'17:30', u'open': u'0...</td>\n",
       "      <td>40.385508</td>\n",
       "      <td>-79.903491</td>\n",
       "      <td>Carmine's Barber Shop</td>\n",
       "      <td>[]</td>\n",
       "      <td>True</td>\n",
       "      <td>3</td>\n",
       "      <td>3.5</td>\n",
       "      <td>PA</td>\n",
       "      <td>business</td>\n",
       "      <td>2014-04-23</td>\n",
       "      <td>OdwBV3AkP9sm3AxgDmuX2A</td>\n",
       "      <td>5</td>\n",
       "      <td>Great place to get a basic haircut at a fair p...</td>\n",
       "      <td>review</td>\n",
       "      <td>I_47G-R2_egp7ME5u_ltew</td>\n",
       "      <td>{u'funny': 0, u'useful': 0, u'cool': 0}</td>\n",
       "      <td>3.18</td>\n",
       "      <td>{u'hot': 1}</td>\n",
       "      <td>[]</td>\n",
       "      <td>1</td>\n",
       "      <td>[DsN2dJ6SnTEACr1qC5zpGg, UD7Y1CqfY6mDmRwIuCf6n...</td>\n",
       "      <td>Kevin</td>\n",
       "      <td>47</td>\n",
       "      <td>user</td>\n",
       "      <td>{u'funny': 8, u'useful': 46, u'cool': 10}</td>\n",
       "      <td>2011-11</td>\n",
       "      <td>2014-07-14</td>\n",
       "      <td>0</td>\n",
       "      <td>I've been told that they do open at 4 AM and i...</td>\n",
       "      <td>tip</td>\n",
       "    </tr>\n",
       "    <tr>\n",
       "      <th>1</th>\n",
       "      <td>{u'Take-out': True, u'Price Range': 2, u'Outdo...</td>\n",
       "      <td>1qCuOcks5HRv67OHovAVpg</td>\n",
       "      <td>[Pubs, Bars, American (New), Nightlife, Restau...</td>\n",
       "      <td>Homestead</td>\n",
       "      <td>122 W 8th Ave\\nHomestead\\nHomestead, PA 15120</td>\n",
       "      <td>{}</td>\n",
       "      <td>40.405311</td>\n",
       "      <td>-79.912595</td>\n",
       "      <td>Duke's Upper Deck Cafe</td>\n",
       "      <td>[Homestead]</td>\n",
       "      <td>True</td>\n",
       "      <td>26</td>\n",
       "      <td>3.5</td>\n",
       "      <td>PA</td>\n",
       "      <td>business</td>\n",
       "      <td>2014-09-13</td>\n",
       "      <td>1tZARkIiC89Xhqd6AHLrbg</td>\n",
       "      <td>4</td>\n",
       "      <td>Food is good here. Great beer selection on tap...</td>\n",
       "      <td>review</td>\n",
       "      <td>JPPhyFE-UE453zA6K0TVgw</td>\n",
       "      <td>{u'funny': 0, u'useful': 0, u'cool': 0}</td>\n",
       "      <td>4.21</td>\n",
       "      <td>{u'funny': 5, u'plain': 9, u'writer': 14, u'no...</td>\n",
       "      <td>[2014, 2015]</td>\n",
       "      <td>7</td>\n",
       "      <td>[fwsJGulnozT2U6FefsLiFw, Dsh4UCo9ny0XCrEJaF4aK...</td>\n",
       "      <td>Molly</td>\n",
       "      <td>146</td>\n",
       "      <td>user</td>\n",
       "      <td>{u'funny': 36, u'useful': 136, u'cool': 70}</td>\n",
       "      <td>2012-06</td>\n",
       "      <td>2014-10-18</td>\n",
       "      <td>0</td>\n",
       "      <td>Half priced appetizers after 9 on week nights.</td>\n",
       "      <td>tip</td>\n",
       "    </tr>\n",
       "    <tr>\n",
       "      <th>2</th>\n",
       "      <td>{u'Alcohol': u'beer_and_wine', u'Open 24 Hours...</td>\n",
       "      <td>2X5G4Ujq0s4Wfn4TC7gX0g</td>\n",
       "      <td>[Pubs, Bars, Hot Dogs, Nightlife, Restaurants]</td>\n",
       "      <td>Pittsburgh</td>\n",
       "      <td>1118 S Braddock Ave\\nPittsburgh, PA 15218</td>\n",
       "      <td>{u'Monday': {u'close': u'23:00', u'open': u'11...</td>\n",
       "      <td>40.432022</td>\n",
       "      <td>-79.893834</td>\n",
       "      <td>D's Six Pax &amp; Dogz</td>\n",
       "      <td>[]</td>\n",
       "      <td>True</td>\n",
       "      <td>266</td>\n",
       "      <td>4.5</td>\n",
       "      <td>PA</td>\n",
       "      <td>business</td>\n",
       "      <td>2014-09-13</td>\n",
       "      <td>qs7jdIz-g-KC6BGDZCD-Fg</td>\n",
       "      <td>4</td>\n",
       "      <td>While everyone goes here for the dogs, the piz...</td>\n",
       "      <td>review</td>\n",
       "      <td>JPPhyFE-UE453zA6K0TVgw</td>\n",
       "      <td>{u'funny': 0, u'useful': 0, u'cool': 0}</td>\n",
       "      <td>4.21</td>\n",
       "      <td>{u'funny': 5, u'plain': 9, u'writer': 14, u'no...</td>\n",
       "      <td>[2014, 2015]</td>\n",
       "      <td>7</td>\n",
       "      <td>[fwsJGulnozT2U6FefsLiFw, Dsh4UCo9ny0XCrEJaF4aK...</td>\n",
       "      <td>Molly</td>\n",
       "      <td>146</td>\n",
       "      <td>user</td>\n",
       "      <td>{u'funny': 36, u'useful': 136, u'cool': 70}</td>\n",
       "      <td>2012-06</td>\n",
       "      <td>2014-10-18</td>\n",
       "      <td>0</td>\n",
       "      <td>The special hummus is always good. Take a brea...</td>\n",
       "      <td>tip</td>\n",
       "    </tr>\n",
       "    <tr>\n",
       "      <th>3</th>\n",
       "      <td>{u'Good for Kids': True}</td>\n",
       "      <td>cE27W9VPgO88Qxe4ol6y_g</td>\n",
       "      <td>[Active Life, Mini Golf, Golf]</td>\n",
       "      <td>Bethel Park</td>\n",
       "      <td>1530 Hamilton Rd\\nBethel Park, PA 15234</td>\n",
       "      <td>{}</td>\n",
       "      <td>40.354116</td>\n",
       "      <td>-80.014660</td>\n",
       "      <td>Cool Springs Golf Center</td>\n",
       "      <td>[]</td>\n",
       "      <td>False</td>\n",
       "      <td>5</td>\n",
       "      <td>2.5</td>\n",
       "      <td>PA</td>\n",
       "      <td>business</td>\n",
       "      <td>2013-04-18</td>\n",
       "      <td>rkD7UDbQ9VM3Va6bI-eBHQ</td>\n",
       "      <td>1</td>\n",
       "      <td>Owning a driving range inside the city limits ...</td>\n",
       "      <td>review</td>\n",
       "      <td>-6rEfobYjMxpUWLNxszaxQ</td>\n",
       "      <td>{u'funny': 0, u'useful': 1, u'cool': 0}</td>\n",
       "      <td>3.28</td>\n",
       "      <td>{u'note': 1, u'plain': 1, u'cool': 3}</td>\n",
       "      <td>[]</td>\n",
       "      <td>1</td>\n",
       "      <td>[nEYPahVwXGD2Pjvgkm7QqQ, ukf5AhPo3dJhEWB2km-St...</td>\n",
       "      <td>Andrew</td>\n",
       "      <td>29</td>\n",
       "      <td>user</td>\n",
       "      <td>{u'funny': 18, u'useful': 61, u'cool': 11}</td>\n",
       "      <td>2012-11</td>\n",
       "      <td>2013-04-18</td>\n",
       "      <td>0</td>\n",
       "      <td>Don't waste your time.</td>\n",
       "      <td>tip</td>\n",
       "    </tr>\n",
       "    <tr>\n",
       "      <th>4</th>\n",
       "      <td>{u'Take-out': True, u'Accepts Credit Cards': T...</td>\n",
       "      <td>McikHxxEqZ2X0joaRNKlaw</td>\n",
       "      <td>[Food, American (Traditional), Breweries, Rest...</td>\n",
       "      <td>Homestead</td>\n",
       "      <td>171 E Bridge St\\nHomestead\\nHomestead, PA 15120</td>\n",
       "      <td>{u'Monday': {u'close': u'02:00', u'open': u'11...</td>\n",
       "      <td>40.409435</td>\n",
       "      <td>-79.915262</td>\n",
       "      <td>Rock Bottom</td>\n",
       "      <td>[Homestead]</td>\n",
       "      <td>True</td>\n",
       "      <td>124</td>\n",
       "      <td>3.5</td>\n",
       "      <td>PA</td>\n",
       "      <td>business</td>\n",
       "      <td>2015-05-12</td>\n",
       "      <td>-wwv-TVwFri3YomBqYISpg</td>\n",
       "      <td>2</td>\n",
       "      <td>Rock Bottom: A Cautionary Yelper's Tale.\\n\\nYo...</td>\n",
       "      <td>review</td>\n",
       "      <td>l_szjd-ken3ma6oHDkTYXg</td>\n",
       "      <td>{u'funny': 1, u'useful': 2, u'cool': 0}</td>\n",
       "      <td>3.72</td>\n",
       "      <td>{u'funny': 4, u'plain': 5, u'writer': 8, u'not...</td>\n",
       "      <td>[2015]</td>\n",
       "      <td>5</td>\n",
       "      <td>[D3JoaaL9kEgnIs64SUOR2w, FP79xn8H2XXnMksRuP5l6...</td>\n",
       "      <td>Casey</td>\n",
       "      <td>107</td>\n",
       "      <td>user</td>\n",
       "      <td>{u'funny': 49, u'useful': 202, u'cool': 141}</td>\n",
       "      <td>2011-03</td>\n",
       "      <td>2015-03-28</td>\n",
       "      <td>0</td>\n",
       "      <td>Longest wait of all time on Saturdays.</td>\n",
       "      <td>tip</td>\n",
       "    </tr>\n",
       "  </tbody>\n",
       "</table>\n",
       "</div>"
      ],
      "text/plain": [
       "                                          attributes             business_id  \\\n",
       "0                                                 {}  6c2pWWtdQZA3w5raX6k-dg   \n",
       "1  {u'Take-out': True, u'Price Range': 2, u'Outdo...  1qCuOcks5HRv67OHovAVpg   \n",
       "2  {u'Alcohol': u'beer_and_wine', u'Open 24 Hours...  2X5G4Ujq0s4Wfn4TC7gX0g   \n",
       "3                           {u'Good for Kids': True}  cE27W9VPgO88Qxe4ol6y_g   \n",
       "4  {u'Take-out': True, u'Accepts Credit Cards': T...  McikHxxEqZ2X0joaRNKlaw   \n",
       "\n",
       "                                          categories         city  \\\n",
       "0                           [Barbers, Beauty & Spas]    Homestead   \n",
       "1  [Pubs, Bars, American (New), Nightlife, Restau...    Homestead   \n",
       "2     [Pubs, Bars, Hot Dogs, Nightlife, Restaurants]   Pittsburgh   \n",
       "3                     [Active Life, Mini Golf, Golf]  Bethel Park   \n",
       "4  [Food, American (Traditional), Breweries, Rest...    Homestead   \n",
       "\n",
       "                                      full_address  \\\n",
       "0                3510 Main St\\nHomestead, PA 15120   \n",
       "1    122 W 8th Ave\\nHomestead\\nHomestead, PA 15120   \n",
       "2        1118 S Braddock Ave\\nPittsburgh, PA 15218   \n",
       "3          1530 Hamilton Rd\\nBethel Park, PA 15234   \n",
       "4  171 E Bridge St\\nHomestead\\nHomestead, PA 15120   \n",
       "\n",
       "                                               hours   latitude  longitude  \\\n",
       "0  {u'Tuesday': {u'close': u'17:30', u'open': u'0...  40.385508 -79.903491   \n",
       "1                                                 {}  40.405311 -79.912595   \n",
       "2  {u'Monday': {u'close': u'23:00', u'open': u'11...  40.432022 -79.893834   \n",
       "3                                                 {}  40.354116 -80.014660   \n",
       "4  {u'Monday': {u'close': u'02:00', u'open': u'11...  40.409435 -79.915262   \n",
       "\n",
       "              business_name neighborhoods   open  business_review_count  \\\n",
       "0     Carmine's Barber Shop            []   True                      3   \n",
       "1    Duke's Upper Deck Cafe   [Homestead]   True                     26   \n",
       "2        D's Six Pax & Dogz            []   True                    266   \n",
       "3  Cool Springs Golf Center            []  False                      5   \n",
       "4               Rock Bottom   [Homestead]   True                    124   \n",
       "\n",
       "   business_stars state    type_x review_date               review_id  \\\n",
       "0             3.5    PA  business  2014-04-23  OdwBV3AkP9sm3AxgDmuX2A   \n",
       "1             3.5    PA  business  2014-09-13  1tZARkIiC89Xhqd6AHLrbg   \n",
       "2             4.5    PA  business  2014-09-13  qs7jdIz-g-KC6BGDZCD-Fg   \n",
       "3             2.5    PA  business  2013-04-18  rkD7UDbQ9VM3Va6bI-eBHQ   \n",
       "4             3.5    PA  business  2015-05-12  -wwv-TVwFri3YomBqYISpg   \n",
       "\n",
       "   review_stars                                        review_text  type_y  \\\n",
       "0             5  Great place to get a basic haircut at a fair p...  review   \n",
       "1             4  Food is good here. Great beer selection on tap...  review   \n",
       "2             4  While everyone goes here for the dogs, the piz...  review   \n",
       "3             1  Owning a driving range inside the city limits ...  review   \n",
       "4             2  Rock Bottom: A Cautionary Yelper's Tale.\\n\\nYo...  review   \n",
       "\n",
       "                  user_id                             review_votes  \\\n",
       "0  I_47G-R2_egp7ME5u_ltew  {u'funny': 0, u'useful': 0, u'cool': 0}   \n",
       "1  JPPhyFE-UE453zA6K0TVgw  {u'funny': 0, u'useful': 0, u'cool': 0}   \n",
       "2  JPPhyFE-UE453zA6K0TVgw  {u'funny': 0, u'useful': 0, u'cool': 0}   \n",
       "3  -6rEfobYjMxpUWLNxszaxQ  {u'funny': 0, u'useful': 1, u'cool': 0}   \n",
       "4  l_szjd-ken3ma6oHDkTYXg  {u'funny': 1, u'useful': 2, u'cool': 0}   \n",
       "\n",
       "   average_stars                                        compliments  \\\n",
       "0           3.18                                        {u'hot': 1}   \n",
       "1           4.21  {u'funny': 5, u'plain': 9, u'writer': 14, u'no...   \n",
       "2           4.21  {u'funny': 5, u'plain': 9, u'writer': 14, u'no...   \n",
       "3           3.28              {u'note': 1, u'plain': 1, u'cool': 3}   \n",
       "4           3.72  {u'funny': 4, u'plain': 5, u'writer': 8, u'not...   \n",
       "\n",
       "          elite  fans                                            friends  \\\n",
       "0            []     1  [DsN2dJ6SnTEACr1qC5zpGg, UD7Y1CqfY6mDmRwIuCf6n...   \n",
       "1  [2014, 2015]     7  [fwsJGulnozT2U6FefsLiFw, Dsh4UCo9ny0XCrEJaF4aK...   \n",
       "2  [2014, 2015]     7  [fwsJGulnozT2U6FefsLiFw, Dsh4UCo9ny0XCrEJaF4aK...   \n",
       "3            []     1  [nEYPahVwXGD2Pjvgkm7QqQ, ukf5AhPo3dJhEWB2km-St...   \n",
       "4        [2015]     5  [D3JoaaL9kEgnIs64SUOR2w, FP79xn8H2XXnMksRuP5l6...   \n",
       "\n",
       "  user_name  user_review_count type_x.1  \\\n",
       "0     Kevin                 47     user   \n",
       "1     Molly                146     user   \n",
       "2     Molly                146     user   \n",
       "3    Andrew                 29     user   \n",
       "4     Casey                107     user   \n",
       "\n",
       "                                     user_votes yelping_since    tip_date  \\\n",
       "0     {u'funny': 8, u'useful': 46, u'cool': 10}       2011-11  2014-07-14   \n",
       "1   {u'funny': 36, u'useful': 136, u'cool': 70}       2012-06  2014-10-18   \n",
       "2   {u'funny': 36, u'useful': 136, u'cool': 70}       2012-06  2014-10-18   \n",
       "3    {u'funny': 18, u'useful': 61, u'cool': 11}       2012-11  2013-04-18   \n",
       "4  {u'funny': 49, u'useful': 202, u'cool': 141}       2011-03  2015-03-28   \n",
       "\n",
       "   likes                                           tip_text type_y.1  \n",
       "0      0  I've been told that they do open at 4 AM and i...      tip  \n",
       "1      0     Half priced appetizers after 9 on week nights.      tip  \n",
       "2      0  The special hummus is always good. Take a brea...      tip  \n",
       "3      0                             Don't waste your time.      tip  \n",
       "4      0             Longest wait of all time on Saturdays.      tip  "
      ]
     },
     "execution_count": 5,
     "metadata": {},
     "output_type": "execute_result"
    }
   ],
   "source": [
    "all_csv_filename = os.path.join(\"yelp_csv\", 'all_p1.csv')\n",
    "all_DF = pd.read_csv(all_csv_filename)\n",
    "all_DF.head()"
   ]
  },
  {
   "cell_type": "code",
   "execution_count": 6,
   "metadata": {
    "collapsed": false
   },
   "outputs": [
    {
     "name": "stdout",
     "output_type": "stream",
     "text": [
      "Great place to get a basic haircut at a fair price! The barbers are like local historians and seem to know something about everybody in town. You might have to wait a bit sometimes to get a haircut, seeing as there is normally only one or two guys working, but the wait normally goes by fast.\n",
      "\n",
      "Food is good here. Great beer selection on tap. Sometimes the beer is on the pricey side. What I want from a neighborhood bar is a neighborhood special. Pinkerton is one of the best sandwiches. Good place to watch football, hockey, baseball.\n",
      "\n",
      "While everyone goes here for the dogs, the pizza is not be ignored. Hand tossed crusts with a nice selection of specialty pizzas. \n",
      "\n",
      "Appetizers are good as well. Hummus is a solid choice. Not a fan of their wings. \n",
      "\n",
      "Beer selection is on point and if you can't find what you want on tap, head into the beer cave. I like that you can find a crazy variety and try new beers. Always busy, so be prepared to wait.\n",
      "\n",
      "Owning a driving range inside the city limits is like a license to print money.  I don't think I ask much out of a driving range.  Decent mats, clean balls and accessible hours.  Hell you need even less people now with the advent of the machine that doles out the balls.  This place has none of them.  It is april and there are no grass tees yet.  BTW they opened for the season this week although it has been golfing weather for a month.  The mats look like the carpet at my 107 year old aunt Irene's house.  Worn and thread bare.  Let's talk about the hours.  This place is equipped with lights yet they only sell buckets of balls until 730.  It is still light out.  Finally lets you have the pit to hit into.  When I arrived I wasn't sure if this was a driving range or an excavation site for a mastodon or a strip mining operation.  There is no grass on the range. Just mud.  Makes it a good tool to figure out how far you actually are hitting the ball.  Oh, they are cash only also.\n",
      "\n",
      "Bottom line, this place sucks.  The best hope is that the owner sells it to someone that actually wants to make money and service golfers in Pittsburgh.\n",
      "\n",
      "Rock Bottom: A Cautionary Yelper's Tale.\n",
      "\n",
      "You might say, \"I've never heard of Rock Bottom, there's no way that they are a chain restaurant.\" Beer? Apps? Bros? Sounds like a good time, but be careful or you'll end up on the rock bottom.\n",
      "\n",
      "After a 30 minute wait staring at half of an empty restaurant with the usual goofy decor you would find at a Buffalo Wild Wings, we were finally seated. We could feel the tension from other diners that something wasn't right. The manger was running around apologetically and the food was casually sunbathing under the heat lamps. We immediately ordered a few apps but just like GOT, and now our watch begins.\n",
      "\n",
      "We waited and waited to finally receive the saddest, tiniest plates of food with bloated chain restaurant prices. The food was uninspired, tired, and ordinary. The only reason why I am giving them 2 stars is because of the extremely gracious and apologetic wait staff who took off 20% of our meal due to the terrible service. \n",
      "\n",
      "So if you have decided to take a seat at Rock Bottom, take comfort in knowing that even the staff seems to know your pain.\n",
      "\n"
     ]
    }
   ],
   "source": [
    "for idx in range(5):\n",
    "    print all_DF.review_text[idx]\n",
    "    print"
   ]
  },
  {
   "cell_type": "code",
   "execution_count": 7,
   "metadata": {
    "collapsed": false
   },
   "outputs": [
    {
     "name": "stdout",
     "output_type": "stream",
     "text": [
      "CPU times: user 34.6 s, sys: 58.5 ms, total: 34.7 s\n",
      "Wall time: 34.8 s\n",
      "great place get basic haircut fair price barber like local historian seem know someth everybodi town might wait bit sometim get haircut see normal one two guy work wait normal goe fast\n",
      "\n",
      "food good great beer select tap sometim beer pricey side want neighborhood bar neighborhood special pinkerton one best sandwich good place watch footbal hockey basebal\n",
      "\n",
      "everyon goe dog pizza ignor hand toss crust nice select specialti pizza appet good well hummu solid choic fan wing beer select point cant find want tap head beer cave like find crazi varieti tri new beer alway busi prepar wait\n",
      "\n",
      "own drive rang insid citi limit like licens print money dont think ask much drive rang decent mat clean ball access hour hell need even less peopl advent machin dole ball place none april grass tee yet btw open season week although golf weather month mat look like carpet year old aunt iren hous worn thread bare let talk hour place equip light yet sell bucket ball still light final let pit hit arriv wasnt sure drive rang excav site mastodon strip mine oper grass rang mud make good tool figur far actual hit ball oh cash also bottom line place suck best hope owner sell someon actual want make money servic golfer pittsburgh\n",
      "\n",
      "rock bottom cautionari yelper tale might say ive never heard rock bottom there way chain restaur beer app bro sound like good time care youll end rock bottom minut wait stare half empti restaur usual goofi decor would find buffalo wild wing final seat could feel tension diner someth wasnt right manger run around apologet food casual sunbath heat lamp immedi order app like got watch begin wait wait final receiv saddest tiniest plate food bloat chain restaur price food uninspir tire ordinari reason give star extrem graciou apologet wait staff took meal due terribl servic decid take seat rock bottom take comfort know even staff seem know pain\n",
      "\n"
     ]
    },
    {
     "name": "stderr",
     "output_type": "stream",
     "text": [
      "/usr/local/lib/python2.7/dist-packages/ipykernel/__main__.py:1: SettingWithCopyWarning: \n",
      "A value is trying to be set on a copy of a slice from a DataFrame.\n",
      "Try using .loc[row_indexer,col_indexer] = value instead\n",
      "\n",
      "See the caveats in the documentation: http://pandas.pydata.org/pandas-docs/stable/indexing.html#indexing-view-versus-copy\n",
      "  if __name__ == '__main__':\n"
     ]
    }
   ],
   "source": [
    "initial_features = ['business_id', 'business_name', 'review_stars', 'review_text']\n",
    "df_with_initial_features_and_preprocessed_review_text = all_DF[initial_features]\n",
    "%time df_with_initial_features_and_preprocessed_review_text['review_text'] = df_with_initial_features_and_preprocessed_review_text['review_text'].apply(lowercase_remove_punctuation_and_numbers_and_tokenize_and_filter_more_stopwords_and_stem_and_restring)\n",
    "\n",
    "for idx in range(5):\n",
    "    print df_with_initial_features_and_preprocessed_review_text.review_text[idx]\n",
    "    print"
   ]
  },
  {
   "cell_type": "code",
   "execution_count": 8,
   "metadata": {
    "collapsed": false
   },
   "outputs": [],
   "source": [
    "from sklearn.cross_validation import train_test_split\n",
    "from sklearn.feature_extraction.text import CountVectorizer, TfidfVectorizer\n",
    "from sklearn.naive_bayes import *\n",
    "from sklearn.svm import SVC\n",
    "from sklearn.linear_model import LogisticRegression\n",
    "from sklearn.multiclass import OneVsRestClassifier\n",
    "from sklearn.ensemble import RandomForestClassifier, AdaBoostClassifier\n",
    "from sklearn import metrics\n",
    "from sklearn.metrics import confusion_matrix, classification_report, precision_score, recall_score, roc_auc_score"
   ]
  },
  {
   "cell_type": "code",
   "execution_count": 9,
   "metadata": {
    "collapsed": false
   },
   "outputs": [],
   "source": [
    "TEST_SIZE = 0.40\n",
    "train_X, test_X, train_y, test_y = train_test_split(df_with_initial_features_and_preprocessed_review_text.review_text,\n",
    "                                                    df_with_initial_features_and_preprocessed_review_text.review_stars,\n",
    "                                                    test_size=TEST_SIZE,\n",
    "                                                    random_state=42)"
   ]
  },
  {
   "cell_type": "code",
   "execution_count": 10,
   "metadata": {
    "collapsed": false
   },
   "outputs": [],
   "source": [
    "bag_of_words_vectorizer = CountVectorizer(analyzer = \"word\",\n",
    "                                          tokenizer = None,    \n",
    "                                          preprocessor = None,\n",
    "                                          ngram_range = (1, 1),\n",
    "                                          binary = False,\n",
    "                                          strip_accents='unicode')\n",
    "\n",
    "binary_vectorizer = CountVectorizer(analyzer = \"word\",\n",
    "                                    tokenizer = None,    \n",
    "                                    preprocessor = None,\n",
    "                                    ngram_range = (1, 1),\n",
    "                                    binary = True,\n",
    "                                    strip_accents='unicode')\n",
    "\n",
    "bigram_vectorizer = CountVectorizer(analyzer = \"word\",\n",
    "                                    tokenizer = None,\n",
    "                                    preprocessor = None,\n",
    "                                    ngram_range = (2, 2),\n",
    "                                    strip_accents='unicode')\n",
    "\n",
    "trigram_vectorizer = CountVectorizer(analyzer = \"word\",\n",
    "                                     tokenizer = None,\n",
    "                                     preprocessor = None,\n",
    "                                     ngram_range = (3, 3),\n",
    "                                     strip_accents='unicode')\n",
    "\n",
    "bi_and_trigram_vectorizer = CountVectorizer(analyzer = \"word\",\n",
    "                                            tokenizer = None,\n",
    "                                            preprocessor = None,\n",
    "                                            ngram_range = (2,3),\n",
    "                                            strip_accents='unicode')\n",
    "\n",
    "random_forest_vectorizer = CountVectorizer(analyzer = \"word\",\n",
    "                                           tokenizer = None,\n",
    "                                           preprocessor = None,\n",
    "                                           ngram_range = (1,1),\n",
    "                                           strip_accents = 'unicode',\n",
    "                                           max_features = 1000)"
   ]
  },
  {
   "cell_type": "markdown",
   "metadata": {},
   "source": [
    "## Classification"
   ]
  },
  {
   "cell_type": "raw",
   "metadata": {},
   "source": [
    "First we need to vectorize review texts in bag of words style:"
   ]
  },
  {
   "cell_type": "code",
   "execution_count": 11,
   "metadata": {
    "collapsed": false
   },
   "outputs": [
    {
     "data": {
      "text/plain": [
       "(<19366x26791 sparse matrix of type '<type 'numpy.int64'>'\n",
       " \twith 898976 stored elements in Compressed Sparse Row format>,\n",
       " <12912x26791 sparse matrix of type '<type 'numpy.int64'>'\n",
       " \twith 594464 stored elements in Compressed Sparse Row format>)"
      ]
     },
     "execution_count": 11,
     "metadata": {},
     "output_type": "execute_result"
    }
   ],
   "source": [
    "bow_feature_matrix_train = bag_of_words_vectorizer.fit_transform(train_X)\n",
    "bow_feature_matrix_test = bag_of_words_vectorizer.transform(test_X)\n",
    "bow_feature_matrix_train, bow_feature_matrix_test"
   ]
  },
  {
   "cell_type": "code",
   "execution_count": 12,
   "metadata": {
    "collapsed": false
   },
   "outputs": [],
   "source": [
    "multinomial_nb_classifier = MultinomialNB()\n",
    "multinomial_nb_classifier.fit(bow_feature_matrix_train, train_y)\n",
    "multinomial_nb_prediction = multinomial_nb_classifier.predict(bow_feature_matrix_test)"
   ]
  },
  {
   "cell_type": "code",
   "execution_count": 13,
   "metadata": {
    "collapsed": false
   },
   "outputs": [],
   "source": [
    "def make_confusion_matrix_relative(confusion_matrix):\n",
    "    star_category_classes = [1, 2, 3, 4, 5]\n",
    "    N = map(lambda clazz : sum(test_y == clazz), star_category_classes)\n",
    "    relative_confusion_matrix = np.empty((len(star_category_classes), len(star_category_classes)))\n",
    "    \n",
    "    for j in range(0, len(star_category_classes)):\n",
    "        if N[j] > 0:\n",
    "            relative_frequency = confusion_matrix[j, :] / float(N[j])\n",
    "            relative_confusion_matrix[j, :] = relative_frequency\n",
    "            \n",
    "    return relative_confusion_matrix\n",
    "\n",
    "# http://www.wenda.io/questions/4330313/heatmap-with-text-in-each-cell-with-matplotlibs-pyplot.html\n",
    "# http://stackoverflow.com/questions/20520246/create-heatmap-using-pandas-timeseries\n",
    "# http://sebastianraschka.com/Articles/heatmaps_in_r.html\n",
    "# http://code.activestate.com/recipes/578175-hierarchical-clustering-heatmap-python/\n",
    "def plot_confusion_matrix(confusion_matrix=[[]], title='CM', savefilename=''):\n",
    "    rcm = make_confusion_matrix_relative(confusion_matrix)\n",
    "    #plt.imshow(rcm, vmin=0, vmax=1, interpolation='nearest')\n",
    "    c = plt.pcolor(rcm, edgecolors='k', linewidths=4, cmap='jet', vmin=0.0, vmax=1.0)\n",
    "    plt.title(title)\n",
    "    plt.colorbar()\n",
    "    plt.ylabel('Actual Label')\n",
    "    plt.xlabel('Predicted Label')\n",
    "    plt.xticks(0.5 + np.arange(5), np.arange(1,6))\n",
    "    plt.yticks(0.5 + np.arange(5), np.arange(1,6))\n",
    "\n",
    "    def show_values(pc, fmt=\"%.2f\", **kw):\n",
    "        from itertools import izip\n",
    "        pc.update_scalarmappable()\n",
    "        ax = pc.get_axes()\n",
    "        for p, color, value in izip(pc.get_paths(), pc.get_facecolors(), pc.get_array()):\n",
    "            x, y = p.vertices[:-2, :].mean(0)\n",
    "            if sum(color[:2] > 0.3) >= 2:\n",
    "                color = (0.0, 0.0, 0.0)\n",
    "            else:\n",
    "                color = (1.0, 1.0, 1.0)\n",
    "            ax.text(x, y, fmt % value, ha=\"center\", va=\"center\", color=color, **kw)\n",
    "    \n",
    "    show_values(c)\n",
    "\n",
    "    if savefilename:\n",
    "        plt.savefig(savefilename, bbox_inches='tight')"
   ]
  },
  {
   "cell_type": "code",
   "execution_count": 14,
   "metadata": {
    "collapsed": false
   },
   "outputs": [
    {
     "name": "stdout",
     "output_type": "stream",
     "text": [
      "[[ 0.64576803  0.03030303  0.08568443  0.15151515  0.08672936]\n",
      " [ 0.17006803  0.20544218  0.1755102   0.35238095  0.09659864]\n",
      " [ 0.05454545  0.00564263  0.33918495  0.4645768   0.13605016]\n",
      " [ 0.01391221  0.00239866  0.03118254  0.65243464  0.30007196]\n",
      " [ 0.01686217  0.00109971  0.00623167  0.19611437  0.77969208]]\n"
     ]
    },
    {
     "name": "stderr",
     "output_type": "stream",
     "text": [
      "/usr/lib/pymodules/python2.7/matplotlib/font_manager.py:1236: UserWarning: findfont: Font family ['monospace'] not found. Falling back to Bitstream Vera Sans\n",
      "  (prop.get_family(), self.defaultFamily[fontext]))\n",
      "/usr/lib/pymodules/python2.7/matplotlib/font_manager.py:1246: UserWarning: findfont: Could not match :family=Bitstream Vera Sans:style=normal:variant=normal:weight=normal:stretch=normal:size=medium. Returning /usr/share/matplotlib/mpl-data/fonts/ttf/cmb10.ttf\n",
      "  UserWarning)\n",
      "/usr/lib/pymodules/python2.7/matplotlib/font_manager.py:1246: UserWarning: findfont: Could not match :family=Bitstream Vera Sans:style=normal:variant=normal:weight=normal:stretch=normal:size=large. Returning /usr/share/matplotlib/mpl-data/fonts/ttf/cmb10.ttf\n",
      "  UserWarning)\n",
      "/usr/lib/pymodules/python2.7/matplotlib/collections.py:548: FutureWarning: elementwise comparison failed; returning scalar instead, but in the future will perform elementwise comparison\n",
      "  if self._edgecolors == 'face':\n",
      "/usr/lib/pymodules/python2.7/matplotlib/font_manager.py:1246: UserWarning: findfont: Could not match :family=Bitstream Vera Sans:style=normal:variant=normal:weight=normal:stretch=normal:size=x-large. Returning /usr/share/matplotlib/mpl-data/fonts/ttf/cmb10.ttf\n",
      "  UserWarning)\n"
     ]
    },
    {
     "data": {
      "image/png": "[encoded data removed]",
      "text/plain": [
       "<matplotlib.figure.Figure at 0x7f8d76d1cbd0>"
      ]
     },
     "metadata": {},
     "output_type": "display_data"
    }
   ],
   "source": [
    "multinomial_confusion_matrix = confusion_matrix(test_y, multinomial_nb_prediction)\n",
    "print make_confusion_matrix_relative(multinomial_confusion_matrix)\n",
    "plot_confusion_matrix(multinomial_confusion_matrix, 'Multinomial Naive Bayes Confusion Matrix', savefilename='MultinomialCM.png')"
   ]
  },
  {
   "cell_type": "code",
   "execution_count": 15,
   "metadata": {
    "collapsed": false
   },
   "outputs": [],
   "source": [
    "def print_classifier_performance_metrics(name, predictions):\n",
    "    target_names = ['1 star', '2 star', '3 star', '4 star', '5 star']\n",
    "    \n",
    "    print \"MODEL: %s\" % name\n",
    "    print\n",
    "\n",
    "    print 'Precision: ' + str(metrics.precision_score(test_y, predictions))\n",
    "    print 'Recall: ' + str(metrics.recall_score(test_y, predictions))\n",
    "    print 'F1: ' + str(metrics.f1_score(test_y, predictions))\n",
    "    print 'Accuracy: ' + str(metrics.accuracy_score(test_y, predictions))\n",
    "\n",
    "    print\n",
    "    print 'Classification Report:'\n",
    "    print classification_report(test_y, predictions, target_names=target_names)\n",
    "    \n",
    "    print\n",
    "    print 'Precision variance: %f' % np.var(precision_score(test_y, predictions, average=None), ddof=len(target_names)-1)\n",
    "    \n",
    "    print\n",
    "    print 'Recall variance: %f' % np.var(recall_score(test_y, predictions, average=None), ddof=len(target_names)-1)\n",
    "\n"
   ]
  },
  {
   "cell_type": "code",
   "execution_count": 16,
   "metadata": {
    "collapsed": false
   },
   "outputs": [
    {
     "name": "stdout",
     "output_type": "stream",
     "text": [
      "MODEL: Multinomial Naive Bayes\n",
      "\n",
      "Precision: 0.645496807605\n",
      "Recall: 0.641573729864\n",
      "F1: 0.628993775739\n",
      "Accuracy: 0.641573729864\n",
      "\n",
      "Classification Report:\n",
      "             precision    recall  f1-score   support\n",
      "\n",
      "     1 star       0.63      0.65      0.64       957\n",
      "     2 star       0.74      0.21      0.32       735\n",
      "     3 star       0.59      0.34      0.43      1595\n",
      "     4 star       0.55      0.65      0.60      4169\n",
      "     5 star       0.72      0.78      0.75      5456\n",
      "\n",
      "avg / total       0.65      0.64      0.63     12912\n",
      "\n",
      "\n",
      "Precision variance: 0.026580\n",
      "\n",
      "Recall variance: 0.232336\n"
     ]
    },
    {
     "name": "stderr",
     "output_type": "stream",
     "text": [
      "/usr/local/lib/python2.7/dist-packages/sklearn/metrics/classification.py:1203: DeprecationWarning: The default `weighted` averaging is deprecated, and from version 0.18, use of precision, recall or F-score with multiclass or multilabel data or pos_label=None will result in an exception. Please set an explicit value for `average`, one of (None, 'micro', 'macro', 'weighted', 'samples'). In cross validation use, for instance, scoring=\"f1_weighted\" instead of scoring=\"f1\".\n",
      "  sample_weight=sample_weight)\n",
      "/usr/local/lib/python2.7/dist-packages/sklearn/metrics/classification.py:1304: DeprecationWarning: The default `weighted` averaging is deprecated, and from version 0.18, use of precision, recall or F-score with multiclass or multilabel data or pos_label=None will result in an exception. Please set an explicit value for `average`, one of (None, 'micro', 'macro', 'weighted', 'samples'). In cross validation use, for instance, scoring=\"f1_weighted\" instead of scoring=\"f1\".\n",
      "  sample_weight=sample_weight)\n",
      "/usr/local/lib/python2.7/dist-packages/sklearn/metrics/classification.py:756: DeprecationWarning: The default `weighted` averaging is deprecated, and from version 0.18, use of precision, recall or F-score with multiclass or multilabel data or pos_label=None will result in an exception. Please set an explicit value for `average`, one of (None, 'micro', 'macro', 'weighted', 'samples'). In cross validation use, for instance, scoring=\"f1_weighted\" instead of scoring=\"f1\".\n",
      "  sample_weight=sample_weight)\n"
     ]
    }
   ],
   "source": [
    "print_classifier_performance_metrics('Multinomial Naive Bayes', multinomial_nb_prediction)"
   ]
  },
  {
   "cell_type": "markdown",
   "metadata": {},
   "source": [
    "## Bernoulii Naive Bayes Model"
   ]
  },
  {
   "cell_type": "code",
   "execution_count": 17,
   "metadata": {
    "collapsed": false
   },
   "outputs": [
    {
     "data": {
      "text/plain": [
       "(<19366x26791 sparse matrix of type '<type 'numpy.int64'>'\n",
       " \twith 898976 stored elements in Compressed Sparse Row format>,\n",
       " <12912x26791 sparse matrix of type '<type 'numpy.int64'>'\n",
       " \twith 594464 stored elements in Compressed Sparse Row format>)"
      ]
     },
     "execution_count": 17,
     "metadata": {},
     "output_type": "execute_result"
    }
   ],
   "source": [
    "bernoulli_feature_matrix_train = binary_vectorizer.fit_transform(train_X)\n",
    "bernoulli_feature_matrix_test = binary_vectorizer.transform(test_X)\n",
    "bernoulli_feature_matrix_train, bernoulli_feature_matrix_test"
   ]
  },
  {
   "cell_type": "code",
   "execution_count": 18,
   "metadata": {
    "collapsed": false
   },
   "outputs": [],
   "source": [
    "bernoulli_nb_classifier = BernoulliNB().fit(bernoulli_feature_matrix_train, train_y)\n",
    "bernoulli_nb_prediction = bernoulli_nb_classifier.predict(bernoulli_feature_matrix_test)"
   ]
  },
  {
   "cell_type": "code",
   "execution_count": 19,
   "metadata": {
    "collapsed": false
   },
   "outputs": [
    {
     "data": {
      "image/png": "[encoded data removed]",
      "text/plain": [
       "<matplotlib.figure.Figure at 0x7f8d76d22210>"
      ]
     },
     "metadata": {},
     "output_type": "display_data"
    }
   ],
   "source": [
    "bernoulli_confusion_matrix = confusion_matrix(test_y, bernoulli_nb_prediction)\n",
    "plot_confusion_matrix(bernoulli_confusion_matrix, 'Bernoulli Naive Bayes Confusion Matrix', savefilename='BernoulliCM.png')"
   ]
  },
  {
   "cell_type": "code",
   "execution_count": 20,
   "metadata": {
    "collapsed": false
   },
   "outputs": [
    {
     "name": "stdout",
     "output_type": "stream",
     "text": [
      "MODEL: Bernoulli Naive Bayes\n",
      "\n",
      "Precision: 0.574714006178\n",
      "Recall: 0.562577447336\n",
      "F1: 0.537549118544\n",
      "Accuracy: 0.562577447336\n",
      "\n",
      "Classification Report:\n",
      "             precision    recall  f1-score   support\n",
      "\n",
      "     1 star       0.68      0.36      0.47       957\n",
      "     2 star       0.33      0.23      0.27       735\n",
      "     3 star       0.70      0.22      0.34      1595\n",
      "     4 star       0.56      0.46      0.51      4169\n",
      "     5 star       0.56      0.82      0.67      5456\n",
      "\n",
      "avg / total       0.57      0.56      0.54     12912\n",
      "\n",
      "\n",
      "Precision variance: 0.088154\n",
      "\n",
      "Recall variance: 0.237759\n"
     ]
    },
    {
     "name": "stderr",
     "output_type": "stream",
     "text": [
      "/usr/local/lib/python2.7/dist-packages/sklearn/metrics/classification.py:1203: DeprecationWarning: The default `weighted` averaging is deprecated, and from version 0.18, use of precision, recall or F-score with multiclass or multilabel data or pos_label=None will result in an exception. Please set an explicit value for `average`, one of (None, 'micro', 'macro', 'weighted', 'samples'). In cross validation use, for instance, scoring=\"f1_weighted\" instead of scoring=\"f1\".\n",
      "  sample_weight=sample_weight)\n",
      "/usr/local/lib/python2.7/dist-packages/sklearn/metrics/classification.py:1304: DeprecationWarning: The default `weighted` averaging is deprecated, and from version 0.18, use of precision, recall or F-score with multiclass or multilabel data or pos_label=None will result in an exception. Please set an explicit value for `average`, one of (None, 'micro', 'macro', 'weighted', 'samples'). In cross validation use, for instance, scoring=\"f1_weighted\" instead of scoring=\"f1\".\n",
      "  sample_weight=sample_weight)\n",
      "/usr/local/lib/python2.7/dist-packages/sklearn/metrics/classification.py:756: DeprecationWarning: The default `weighted` averaging is deprecated, and from version 0.18, use of precision, recall or F-score with multiclass or multilabel data or pos_label=None will result in an exception. Please set an explicit value for `average`, one of (None, 'micro', 'macro', 'weighted', 'samples'). In cross validation use, for instance, scoring=\"f1_weighted\" instead of scoring=\"f1\".\n",
      "  sample_weight=sample_weight)\n"
     ]
    }
   ],
   "source": [
    "print_classifier_performance_metrics('Bernoulli Naive Bayes', bernoulli_nb_prediction)"
   ]
  },
  {
   "cell_type": "markdown",
   "metadata": {},
   "source": [
    "## Bigram Naive Bayes Model"
   ]
  },
  {
   "cell_type": "code",
   "execution_count": 21,
   "metadata": {
    "collapsed": false
   },
   "outputs": [
    {
     "data": {
      "text/plain": [
       "(<19366x435809 sparse matrix of type '<type 'numpy.int64'>'\n",
       " \twith 1058173 stored elements in Compressed Sparse Row format>,\n",
       " <12912x435809 sparse matrix of type '<type 'numpy.int64'>'\n",
       " \twith 515296 stored elements in Compressed Sparse Row format>)"
      ]
     },
     "execution_count": 21,
     "metadata": {},
     "output_type": "execute_result"
    }
   ],
   "source": [
    "bigram_multinomial_feature_matrix_train = bigram_vectorizer.fit_transform(train_X)\n",
    "bigram_multinomial_feature_matrix_test = bigram_vectorizer.transform(test_X)\n",
    "bigram_multinomial_feature_matrix_train, bigram_multinomial_feature_matrix_test"
   ]
  },
  {
   "cell_type": "code",
   "execution_count": 22,
   "metadata": {
    "collapsed": false
   },
   "outputs": [],
   "source": [
    "bigram_multinomial_nb_classifier = MultinomialNB().fit(bigram_multinomial_feature_matrix_train, train_y)\n",
    "bigram_multinomial_nb_prediction = bigram_multinomial_nb_classifier.predict(bigram_multinomial_feature_matrix_test)"
   ]
  },
  {
   "cell_type": "code",
   "execution_count": 23,
   "metadata": {
    "collapsed": false
   },
   "outputs": [
    {
     "data": {
      "image/png": "[encoded data removed]",
      "text/plain": [
       "<matplotlib.figure.Figure at 0x7f8d790dcf50>"
      ]
     },
     "metadata": {},
     "output_type": "display_data"
    }
   ],
   "source": [
    "bigram_multinomial_confusion_matrix = confusion_matrix(test_y, bigram_multinomial_nb_prediction)\n",
    "plot_confusion_matrix(bigram_multinomial_confusion_matrix, 'Bigram Multinomial Naive Bayes Confusion Matrix', savefilename='BigramMultinomialCM.png')"
   ]
  },
  {
   "cell_type": "code",
   "execution_count": 24,
   "metadata": {
    "collapsed": false
   },
   "outputs": [
    {
     "name": "stdout",
     "output_type": "stream",
     "text": [
      "MODEL: Bigram Multinomial Naive Bayes\n",
      "\n",
      "Precision: 0.70821711703\n",
      "Recall: 0.681304213135\n",
      "F1: 0.669161301277\n",
      "Accuracy: 0.681304213135\n",
      "\n",
      "Classification Report:\n",
      "             precision    recall  f1-score   support\n",
      "\n",
      "     1 star       0.84      0.50      0.63       957\n",
      "     2 star       0.91      0.29      0.44       735\n",
      "     3 star       0.80      0.37      0.51      1595\n",
      "     4 star       0.58      0.73      0.65      4169\n",
      "     5 star       0.73      0.82      0.77      5456\n",
      "\n",
      "avg / total       0.71      0.68      0.67     12912\n",
      "\n",
      "\n",
      "Precision variance: 0.062382\n",
      "\n",
      "Recall variance: 0.204664\n"
     ]
    },
    {
     "name": "stderr",
     "output_type": "stream",
     "text": [
      "/usr/local/lib/python2.7/dist-packages/sklearn/metrics/classification.py:1203: DeprecationWarning: The default `weighted` averaging is deprecated, and from version 0.18, use of precision, recall or F-score with multiclass or multilabel data or pos_label=None will result in an exception. Please set an explicit value for `average`, one of (None, 'micro', 'macro', 'weighted', 'samples'). In cross validation use, for instance, scoring=\"f1_weighted\" instead of scoring=\"f1\".\n",
      "  sample_weight=sample_weight)\n",
      "/usr/local/lib/python2.7/dist-packages/sklearn/metrics/classification.py:1304: DeprecationWarning: The default `weighted` averaging is deprecated, and from version 0.18, use of precision, recall or F-score with multiclass or multilabel data or pos_label=None will result in an exception. Please set an explicit value for `average`, one of (None, 'micro', 'macro', 'weighted', 'samples'). In cross validation use, for instance, scoring=\"f1_weighted\" instead of scoring=\"f1\".\n",
      "  sample_weight=sample_weight)\n",
      "/usr/local/lib/python2.7/dist-packages/sklearn/metrics/classification.py:756: DeprecationWarning: The default `weighted` averaging is deprecated, and from version 0.18, use of precision, recall or F-score with multiclass or multilabel data or pos_label=None will result in an exception. Please set an explicit value for `average`, one of (None, 'micro', 'macro', 'weighted', 'samples'). In cross validation use, for instance, scoring=\"f1_weighted\" instead of scoring=\"f1\".\n",
      "  sample_weight=sample_weight)\n"
     ]
    }
   ],
   "source": [
    "print_classifier_performance_metrics('Bigram Multinomial Naive Bayes', bigram_multinomial_nb_prediction)"
   ]
  },
  {
   "cell_type": "markdown",
   "metadata": {},
   "source": [
    "## Trigram Naive Bayes Model"
   ]
  },
  {
   "cell_type": "code",
   "execution_count": 25,
   "metadata": {
    "collapsed": false
   },
   "outputs": [
    {
     "data": {
      "text/plain": [
       "(<19366x714585 sparse matrix of type '<type 'numpy.int64'>'\n",
       " \twith 1055281 stored elements in Compressed Sparse Row format>,\n",
       " <12912x714585 sparse matrix of type '<type 'numpy.int64'>'\n",
       " \twith 320399 stored elements in Compressed Sparse Row format>)"
      ]
     },
     "execution_count": 25,
     "metadata": {},
     "output_type": "execute_result"
    }
   ],
   "source": [
    "trigram_multinomial_feature_matrix_train = trigram_vectorizer.fit_transform(train_X)\n",
    "trigram_multinomial_feature_matrix_test = trigram_vectorizer.transform(test_X)\n",
    "trigram_multinomial_feature_matrix_train, trigram_multinomial_feature_matrix_test"
   ]
  },
  {
   "cell_type": "code",
   "execution_count": 27,
   "metadata": {
    "collapsed": false
   },
   "outputs": [],
   "source": [
    "tri_gram_multinomial_nb_classifier = MultinomialNB().fit(trigram_multinomial_feature_matrix_train, train_y)\n",
    "tri_gram_multinomial_nb_prediction = tri_gram_multinomial_nb_classifier.predict(trigram_multinomial_feature_matrix_test)"
   ]
  },
  {
   "cell_type": "code",
   "execution_count": 28,
   "metadata": {
    "collapsed": false
   },
   "outputs": [
    {
     "data": {
      "image/png": "[encoded data removed]",
      "text/plain": [
       "<matplotlib.figure.Figure at 0x7f8d7434c350>"
      ]
     },
     "metadata": {},
     "output_type": "display_data"
    }
   ],
   "source": [
    "trigram_multinomial_confusion_matrix = confusion_matrix(test_y, tri_gram_multinomial_nb_prediction)\n",
    "plot_confusion_matrix(trigram_multinomial_confusion_matrix, 'Trigram Multinomial Naive Bayes Confusion Matrix', savefilename='TrigramMultinomialCM.png')"
   ]
  },
  {
   "cell_type": "code",
   "execution_count": 29,
   "metadata": {
    "collapsed": false
   },
   "outputs": [
    {
     "name": "stdout",
     "output_type": "stream",
     "text": [
      "MODEL: Trigram Multinomial Naive Bayes\n",
      "\n",
      "Precision: 0.669858532407\n",
      "Recall: 0.651486988848\n",
      "F1: 0.635934869994\n",
      "Accuracy: 0.651486988848\n",
      "\n",
      "Classification Report:\n",
      "             precision    recall  f1-score   support\n",
      "\n",
      "     1 star       0.80      0.38      0.51       957\n",
      "     2 star       0.82      0.30      0.44       735\n",
      "     3 star       0.74      0.40      0.52      1595\n",
      "     4 star       0.63      0.62      0.63      4169\n",
      "     5 star       0.64      0.84      0.73      5456\n",
      "\n",
      "avg / total       0.67      0.65      0.64     12912\n",
      "\n",
      "\n",
      "Precision variance: 0.030073\n",
      "\n",
      "Recall variance: 0.199297\n"
     ]
    },
    {
     "name": "stderr",
     "output_type": "stream",
     "text": [
      "/usr/local/lib/python2.7/dist-packages/sklearn/metrics/classification.py:1203: DeprecationWarning: The default `weighted` averaging is deprecated, and from version 0.18, use of precision, recall or F-score with multiclass or multilabel data or pos_label=None will result in an exception. Please set an explicit value for `average`, one of (None, 'micro', 'macro', 'weighted', 'samples'). In cross validation use, for instance, scoring=\"f1_weighted\" instead of scoring=\"f1\".\n",
      "  sample_weight=sample_weight)\n",
      "/usr/local/lib/python2.7/dist-packages/sklearn/metrics/classification.py:1304: DeprecationWarning: The default `weighted` averaging is deprecated, and from version 0.18, use of precision, recall or F-score with multiclass or multilabel data or pos_label=None will result in an exception. Please set an explicit value for `average`, one of (None, 'micro', 'macro', 'weighted', 'samples'). In cross validation use, for instance, scoring=\"f1_weighted\" instead of scoring=\"f1\".\n",
      "  sample_weight=sample_weight)\n",
      "/usr/local/lib/python2.7/dist-packages/sklearn/metrics/classification.py:756: DeprecationWarning: The default `weighted` averaging is deprecated, and from version 0.18, use of precision, recall or F-score with multiclass or multilabel data or pos_label=None will result in an exception. Please set an explicit value for `average`, one of (None, 'micro', 'macro', 'weighted', 'samples'). In cross validation use, for instance, scoring=\"f1_weighted\" instead of scoring=\"f1\".\n",
      "  sample_weight=sample_weight)\n"
     ]
    }
   ],
   "source": [
    "print_classifier_performance_metrics('Trigram Multinomial Naive Bayes', tri_gram_multinomial_nb_prediction)"
   ]
  },
  {
   "cell_type": "markdown",
   "metadata": {},
   "source": [
    "## Random Forest"
   ]
  },
  {
   "cell_type": "code",
   "execution_count": 30,
   "metadata": {
    "collapsed": false
   },
   "outputs": [],
   "source": [
    "forest = RandomForestClassifier(n_estimators = 100, random_state=42)"
   ]
  },
  {
   "cell_type": "code",
   "execution_count": 31,
   "metadata": {
    "collapsed": false
   },
   "outputs": [],
   "source": [
    "random_forest_feature_matrix_train = random_forest_vectorizer.fit_transform(train_X)\n",
    "random_forest_feature_matrix_test = random_forest_vectorizer.transform(test_X)"
   ]
  },
  {
   "cell_type": "code",
   "execution_count": 32,
   "metadata": {
    "collapsed": false
   },
   "outputs": [
    {
     "name": "stdout",
     "output_type": "stream",
     "text": [
      "CPU times: user 36.9 s, sys: 277 ms, total: 37.1 s\n",
      "Wall time: 37.7 s\n"
     ]
    }
   ],
   "source": [
    "%time forest.fit(random_forest_feature_matrix_train.toarray(), train_y)\n",
    "forest_pred = forest.predict(random_forest_feature_matrix_test.toarray())\n",
    "np.save('forestpred', forest_pred)"
   ]
  },
  {
   "cell_type": "code",
   "execution_count": 33,
   "metadata": {
    "collapsed": false
   },
   "outputs": [
    {
     "data": {
      "image/png": "[encoded data removed]",
      "text/plain": [
       "<matplotlib.figure.Figure at 0x7f8d75db7610>"
      ]
     },
     "metadata": {},
     "output_type": "display_data"
    }
   ],
   "source": [
    "random_forest_confusion_matrix = confusion_matrix(test_y, forest_pred)\n",
    "plot_confusion_matrix(random_forest_confusion_matrix, 'Random Forest (100 Learners) Confusion Matrix', savefilename='RandomForestCM.png')"
   ]
  },
  {
   "cell_type": "code",
   "execution_count": 35,
   "metadata": {
    "collapsed": false
   },
   "outputs": [
    {
     "name": "stdout",
     "output_type": "stream",
     "text": [
      "MODEL: Random Forest (100 Learners)\n",
      "\n",
      "Precision: 0.71848469886\n",
      "Recall: 0.696871127633\n",
      "F1: 0.683825053474\n",
      "Accuracy: 0.696871127633\n",
      "\n",
      "Classification Report:\n",
      "             precision    recall  f1-score   support\n",
      "\n",
      "     1 star       0.74      0.62      0.68       957\n",
      "     2 star       0.94      0.28      0.43       735\n",
      "     3 star       0.84      0.39      0.53      1595\n",
      "     4 star       0.61      0.71      0.66      4169\n",
      "     5 star       0.73      0.85      0.78      5456\n",
      "\n",
      "avg / total       0.72      0.70      0.68     12912\n",
      "\n",
      "\n",
      "Precision variance: 0.060106\n",
      "\n",
      "Recall variance: 0.218075\n"
     ]
    },
    {
     "name": "stderr",
     "output_type": "stream",
     "text": [
      "/usr/local/lib/python2.7/dist-packages/sklearn/metrics/classification.py:1203: DeprecationWarning: The default `weighted` averaging is deprecated, and from version 0.18, use of precision, recall or F-score with multiclass or multilabel data or pos_label=None will result in an exception. Please set an explicit value for `average`, one of (None, 'micro', 'macro', 'weighted', 'samples'). In cross validation use, for instance, scoring=\"f1_weighted\" instead of scoring=\"f1\".\n",
      "  sample_weight=sample_weight)\n",
      "/usr/local/lib/python2.7/dist-packages/sklearn/metrics/classification.py:1304: DeprecationWarning: The default `weighted` averaging is deprecated, and from version 0.18, use of precision, recall or F-score with multiclass or multilabel data or pos_label=None will result in an exception. Please set an explicit value for `average`, one of (None, 'micro', 'macro', 'weighted', 'samples'). In cross validation use, for instance, scoring=\"f1_weighted\" instead of scoring=\"f1\".\n",
      "  sample_weight=sample_weight)\n",
      "/usr/local/lib/python2.7/dist-packages/sklearn/metrics/classification.py:756: DeprecationWarning: The default `weighted` averaging is deprecated, and from version 0.18, use of precision, recall or F-score with multiclass or multilabel data or pos_label=None will result in an exception. Please set an explicit value for `average`, one of (None, 'micro', 'macro', 'weighted', 'samples'). In cross validation use, for instance, scoring=\"f1_weighted\" instead of scoring=\"f1\".\n",
      "  sample_weight=sample_weight)\n"
     ]
    }
   ],
   "source": [
    "print_classifier_performance_metrics('Random Forest (100 Learners)', forest_pred)"
   ]
  },
  {
   "cell_type": "markdown",
   "metadata": {},
   "source": [
    "## Support Vector Machine Classifier"
   ]
  },
  {
   "cell_type": "code",
   "execution_count": 36,
   "metadata": {
    "collapsed": false
   },
   "outputs": [],
   "source": [
    "svc_feature_matrix_train = random_forest_feature_matrix_train\n",
    "svc_feature_matrix_test = random_forest_feature_matrix_test\n",
    "\n",
    "svc = SVC()"
   ]
  },
  {
   "cell_type": "code",
   "execution_count": 37,
   "metadata": {
    "collapsed": false
   },
   "outputs": [
    {
     "name": "stdout",
     "output_type": "stream",
     "text": [
      "CPU times: user 2min 1s, sys: 151 ms, total: 2min 1s\n",
      "Wall time: 2min 2s\n"
     ]
    },
    {
     "data": {
      "text/plain": [
       "SVC(C=1.0, cache_size=200, class_weight=None, coef0=0.0,\n",
       "  decision_function_shape=None, degree=3, gamma='auto', kernel='rbf',\n",
       "  max_iter=-1, probability=False, random_state=None, shrinking=True,\n",
       "  tol=0.001, verbose=False)"
      ]
     },
     "execution_count": 37,
     "metadata": {},
     "output_type": "execute_result"
    }
   ],
   "source": [
    "%time svc.fit(svc_feature_matrix_train, train_y) "
   ]
  },
  {
   "cell_type": "code",
   "execution_count": 39,
   "metadata": {
    "collapsed": false
   },
   "outputs": [
    {
     "name": "stdout",
     "output_type": "stream",
     "text": [
      "CPU times: user 1min, sys: 7.14 ms, total: 1min\n",
      "Wall time: 1min\n"
     ]
    }
   ],
   "source": [
    "%time svc_predictions = svc.predict(svc_feature_matrix_test)\n",
    "np.save('svcPred', svc_predictions)"
   ]
  },
  {
   "cell_type": "code",
   "execution_count": 40,
   "metadata": {
    "collapsed": false
   },
   "outputs": [],
   "source": [
    "if os.path.isfile('svcPred.npy'):\n",
    "    svc_predictions = np.load('svcPred.npy')"
   ]
  },
  {
   "cell_type": "code",
   "execution_count": 41,
   "metadata": {
    "collapsed": false
   },
   "outputs": [
    {
     "data": {
      "image/png": "[encoded data removed]",
      "text/plain": [
       "<matplotlib.figure.Figure at 0x7f8d74278110>"
      ]
     },
     "metadata": {},
     "output_type": "display_data"
    }
   ],
   "source": [
    "svc_confusion_matrix = confusion_matrix(test_y, svc_predictions)\n",
    "plot_confusion_matrix(svc_confusion_matrix, 'SVC Confusion Matrix', savefilename='SVC_CM.png')"
   ]
  },
  {
   "cell_type": "code",
   "execution_count": 42,
   "metadata": {
    "collapsed": false
   },
   "outputs": [
    {
     "name": "stdout",
     "output_type": "stream",
     "text": [
      "MODEL: SVC\n",
      "\n",
      "Precision: 0.586145501385\n",
      "Recall: 0.542363692689\n",
      "F1: 0.483024288467\n",
      "Accuracy: 0.542363692689\n",
      "\n",
      "Classification Report:\n",
      "             precision    recall  f1-score   support\n",
      "\n",
      "     1 star       0.70      0.31      0.43       957\n",
      "     2 star       0.72      0.06      0.11       735\n",
      "     3 star       0.81      0.06      0.10      1595\n",
      "     4 star       0.50      0.41      0.45      4169\n",
      "     5 star       0.55      0.89      0.68      5456\n",
      "\n",
      "avg / total       0.59      0.54      0.48     12912\n",
      "\n",
      "\n",
      "Precision variance: 0.065367\n",
      "\n",
      "Recall variance: 0.468746\n"
     ]
    },
    {
     "name": "stderr",
     "output_type": "stream",
     "text": [
      "/usr/local/lib/python2.7/dist-packages/sklearn/metrics/classification.py:1203: DeprecationWarning: The default `weighted` averaging is deprecated, and from version 0.18, use of precision, recall or F-score with multiclass or multilabel data or pos_label=None will result in an exception. Please set an explicit value for `average`, one of (None, 'micro', 'macro', 'weighted', 'samples'). In cross validation use, for instance, scoring=\"f1_weighted\" instead of scoring=\"f1\".\n",
      "  sample_weight=sample_weight)\n",
      "/usr/local/lib/python2.7/dist-packages/sklearn/metrics/classification.py:1304: DeprecationWarning: The default `weighted` averaging is deprecated, and from version 0.18, use of precision, recall or F-score with multiclass or multilabel data or pos_label=None will result in an exception. Please set an explicit value for `average`, one of (None, 'micro', 'macro', 'weighted', 'samples'). In cross validation use, for instance, scoring=\"f1_weighted\" instead of scoring=\"f1\".\n",
      "  sample_weight=sample_weight)\n",
      "/usr/local/lib/python2.7/dist-packages/sklearn/metrics/classification.py:756: DeprecationWarning: The default `weighted` averaging is deprecated, and from version 0.18, use of precision, recall or F-score with multiclass or multilabel data or pos_label=None will result in an exception. Please set an explicit value for `average`, one of (None, 'micro', 'macro', 'weighted', 'samples'). In cross validation use, for instance, scoring=\"f1_weighted\" instead of scoring=\"f1\".\n",
      "  sample_weight=sample_weight)\n"
     ]
    }
   ],
   "source": [
    "print_classifier_performance_metrics('SVC', svc_predictions)"
   ]
  },
  {
   "cell_type": "markdown",
   "metadata": {},
   "source": [
    "## Bigram and Trigrams"
   ]
  },
  {
   "cell_type": "code",
   "execution_count": 43,
   "metadata": {
    "collapsed": false
   },
   "outputs": [
    {
     "data": {
      "text/plain": [
       "(<19366x1150394 sparse matrix of type '<type 'numpy.int64'>'\n",
       " \twith 2113454 stored elements in Compressed Sparse Row format>,\n",
       " <12912x1150394 sparse matrix of type '<type 'numpy.int64'>'\n",
       " \twith 835695 stored elements in Compressed Sparse Row format>)"
      ]
     },
     "execution_count": 43,
     "metadata": {},
     "output_type": "execute_result"
    }
   ],
   "source": [
    "bi_and_trigram_multinomial_feature_matrix_train = bi_and_trigram_vectorizer.fit_transform(train_X)\n",
    "bi_and_trigram_multinomial_feature_matrix_test = bi_and_trigram_vectorizer.transform(test_X)\n",
    "bi_and_trigram_multinomial_feature_matrix_train, bi_and_trigram_multinomial_feature_matrix_test"
   ]
  },
  {
   "cell_type": "code",
   "execution_count": 44,
   "metadata": {
    "collapsed": false
   },
   "outputs": [],
   "source": [
    "bi_and_tri_gram_multinomial_nb_classifier = MultinomialNB().fit(bi_and_trigram_multinomial_feature_matrix_train, train_y)\n",
    "bi_and_tri_gram_multinomial_nb_prediction = bi_and_tri_gram_multinomial_nb_classifier.predict(bi_and_trigram_multinomial_feature_matrix_test)"
   ]
  },
  {
   "cell_type": "code",
   "execution_count": 45,
   "metadata": {
    "collapsed": false
   },
   "outputs": [
    {
     "data": {
      "image/png": "[encoded data removed]",
      "text/plain": [
       "<matplotlib.figure.Figure at 0x7f8d6bdc1ed0>"
      ]
     },
     "metadata": {},
     "output_type": "display_data"
    }
   ],
   "source": [
    "bi_and_tri_gram_multinomial_confusion_matrix = confusion_matrix(test_y, bi_and_tri_gram_multinomial_nb_prediction)\n",
    "plot_confusion_matrix(bi_and_tri_gram_multinomial_confusion_matrix,\n",
    "                      'Bigram-Trigram Multinomial Naive Bayes \\n Confusion Matrix', savefilename='BiAndTrigramMultinomialCM.png')"
   ]
  },
  {
   "cell_type": "code",
   "execution_count": 46,
   "metadata": {
    "collapsed": false
   },
   "outputs": [
    {
     "name": "stdout",
     "output_type": "stream",
     "text": [
      "MODEL: Bi-and-Trigram Multinomial Naive Bayes\n",
      "\n",
      "Precision: 0.711148647442\n",
      "Recall: 0.681381660471\n",
      "F1: 0.668650946466\n",
      "Accuracy: 0.681381660471\n",
      "\n",
      "Classification Report:\n",
      "             precision    recall  f1-score   support\n",
      "\n",
      "     1 star       0.84      0.48      0.62       957\n",
      "     2 star       0.92      0.29      0.44       735\n",
      "     3 star       0.83      0.37      0.52      1595\n",
      "     4 star       0.58      0.72      0.65      4169\n",
      "     5 star       0.72      0.83      0.77      5456\n",
      "\n",
      "avg / total       0.71      0.68      0.67     12912\n",
      "\n",
      "\n",
      "Precision variance: 0.067751\n",
      "\n",
      "Recall variance: 0.209231\n"
     ]
    },
    {
     "name": "stderr",
     "output_type": "stream",
     "text": [
      "/usr/local/lib/python2.7/dist-packages/sklearn/metrics/classification.py:1203: DeprecationWarning: The default `weighted` averaging is deprecated, and from version 0.18, use of precision, recall or F-score with multiclass or multilabel data or pos_label=None will result in an exception. Please set an explicit value for `average`, one of (None, 'micro', 'macro', 'weighted', 'samples'). In cross validation use, for instance, scoring=\"f1_weighted\" instead of scoring=\"f1\".\n",
      "  sample_weight=sample_weight)\n",
      "/usr/local/lib/python2.7/dist-packages/sklearn/metrics/classification.py:1304: DeprecationWarning: The default `weighted` averaging is deprecated, and from version 0.18, use of precision, recall or F-score with multiclass or multilabel data or pos_label=None will result in an exception. Please set an explicit value for `average`, one of (None, 'micro', 'macro', 'weighted', 'samples'). In cross validation use, for instance, scoring=\"f1_weighted\" instead of scoring=\"f1\".\n",
      "  sample_weight=sample_weight)\n",
      "/usr/local/lib/python2.7/dist-packages/sklearn/metrics/classification.py:756: DeprecationWarning: The default `weighted` averaging is deprecated, and from version 0.18, use of precision, recall or F-score with multiclass or multilabel data or pos_label=None will result in an exception. Please set an explicit value for `average`, one of (None, 'micro', 'macro', 'weighted', 'samples'). In cross validation use, for instance, scoring=\"f1_weighted\" instead of scoring=\"f1\".\n",
      "  sample_weight=sample_weight)\n"
     ]
    }
   ],
   "source": [
    "print_classifier_performance_metrics('Bi-and-Trigram Multinomial Naive Bayes', bi_and_tri_gram_multinomial_nb_prediction)"
   ]
  },
  {
   "cell_type": "markdown",
   "metadata": {},
   "source": [
    "## Top 10 Features for each Star Category of Bag of Words Multinomial NB"
   ]
  },
  {
   "cell_type": "code",
   "execution_count": 48,
   "metadata": {
    "collapsed": false
   },
   "outputs": [
    {
     "name": "stdout",
     "output_type": "stream",
     "text": [
      "\n",
      "The top 10 most informative features for star category 1: \n",
      "back, order, one, like, servic, time, food, go, place, get\n",
      "\n",
      "The top 10 most informative features for star category 2: \n",
      "servic, good, order, one, like, place, food, go, get, time\n",
      "\n",
      "The top 10 most informative features for star category 3: \n",
      "servic, one, go, order, time, get, like, place, food, good\n",
      "\n",
      "The top 10 most informative features for star category 4: \n",
      "alway, one, go, time, like, get, great, food, place, good\n",
      "\n",
      "The top 10 most informative features for star category 5: \n",
      "time, like, alway, go, get, love, good, food, great, place\n"
     ]
    }
   ],
   "source": [
    "from operator import itemgetter\n",
    "N = 10\n",
    "vocab = np.array([t for t, i in sorted(bag_of_words_vectorizer.vocabulary_.iteritems(), key=itemgetter(1))])\n",
    "\n",
    "for i, label in enumerate(sorted(set(train_y))):\n",
    " top_n_features_indices = np.argsort(multinomial_nb_classifier.coef_[i])[-N:]\n",
    " print \"\\nThe top %d most informative features for star category %d: \\n%s\" % (N, label, \", \".join(vocab[top_n_features_indices]))"
   ]
  },
  {
   "cell_type": "markdown",
   "metadata": {},
   "source": [
    "## Top 10 Features for each Star Category of Bigram Multinomial NB"
   ]
  },
  {
   "cell_type": "code",
   "execution_count": 49,
   "metadata": {
    "collapsed": false
   },
   "outputs": [
    {
     "name": "stdout",
     "output_type": "stream",
     "text": [
      "\n",
      "The top 10 most informative features for star category 1: \n",
      "one star, didnt even, stay away, wait minut, never go, park lot, look like, go back, come back, custom servic\n",
      "\n",
      "The top 10 most informative features for star category 2: \n",
      "even though, dont know, look like, feel like, everi time, tast like, last time, come back, go back, custom servic\n",
      "\n",
      "The top 10 most informative features for star category 3: \n",
      "good food, custom servic, wife order, realli good, go back, im sure, late night, food good, come back, pretti good\n",
      "\n",
      "The top 10 most informative features for star category 4: \n",
      "everi time, make sure, good food, food good, realli good, go back, pretti good, great place, come back, happi hour\n",
      "\n",
      "The top 10 most informative features for star category 5: \n",
      "staff friendli, food great, one best, custom servic, great servic, highli recommend, great food, great place, yurm yurm, love place\n"
     ]
    }
   ],
   "source": [
    "N = 10\n",
    "vocab = np.array([t for t, i in sorted(bigram_vectorizer.vocabulary_.iteritems(), key=itemgetter(1))])\n",
    "\n",
    "for i, label in enumerate(sorted(set(train_y))):\n",
    " top_n_features_indices = np.argsort(bigram_multinomial_nb_classifier.coef_[i])[-N:]\n",
    " print \"\\nThe top %d most informative features for star category %d: \\n%s\" % (N, label, \", \".join(vocab[top_n_features_indices]))"
   ]
  },
  {
   "cell_type": "markdown",
   "metadata": {},
   "source": [
    "## More feature engineering to improve classifier accuracy"
   ]
  },
  {
   "cell_type": "code",
   "execution_count": 51,
   "metadata": {
    "collapsed": false
   },
   "outputs": [],
   "source": [
    "import json\n",
    "from collections import OrderedDict\n",
    " \n",
    "def convert_json_dict_string_to_python_dict(json_string_dict):\n",
    "    return json.loads(json_string_dict.replace('\\'', '\"').replace('u\"', '\"'))\n",
    "\n",
    "def get_number_of_review_votes_that_are(cool_or_funny_or_useful):\n",
    "    assert cool_or_funny_or_useful in ['cool', 'funny', 'useful']\n",
    "    return lambda review_votes_dict : review_votes_dict[cool_or_funny_or_useful]\n",
    "\n",
    "def get_total_review_votes(review_votes_dict):\n",
    "    return review_votes_dict['cool'] + review_votes_dict['funny'] + review_votes_dict['useful']\n",
    "\n",
    "def get_number_of_compliments_that_are(cool_or_cute_or_funny_or_hot_or_list_or_more_or_note_or_photos_or_plain_or_profile_or_writer):\n",
    "    key = cool_or_cute_or_funny_or_hot_or_list_or_more_or_note_or_photos_or_plain_or_profile_or_writer\n",
    "    assert cool_or_cute_or_funny_or_hot_or_list_or_more_or_note_or_photos_or_plain_or_profile_or_writer in [u'cool',\n",
    "                                                                                                            u'cute',\n",
    "                                                                                                            u'funny',\n",
    "                                                                                                            u'hot',\n",
    "                                                                                                            u'list',\n",
    "                                                                                                            u'more',\n",
    "                                                                                                            u'note',\n",
    "                                                                                                            u'photos',\n",
    "                                                                                                            u'plain',\n",
    "                                                                                                            u'profile',\n",
    "                                                                                                       u'writer']\n",
    "    return lambda compliments_dict : compliments_dict[key] if key in compliments_dict else 0\n",
    "\n",
    "def count_number_of_positive_words(document):\n",
    "    return len(filter(lambda tok : tok in positive_words, document.split()))\n",
    "\n",
    "def count_number_of_negative_words(document):\n",
    "    return len(filter(lambda tok : tok in negative_words, document.split()))\n",
    "\n",
    "def check_that_userid_does_not_appear_in_its_friendid_list(df):\n",
    "    for i, x in df.iterrows():\n",
    "        d = OrderedDict(x)\n",
    "        assert d['business_id'] not in d['friends_id_list']\n",
    "\n",
    "def get_average_friends_average_stars(df):\n",
    "    \n",
    "    def apply_func(friend_user_id_list):\n",
    "        friend_ids_that_exist_in_df = set(df['user_id']).intersection(set(friend_user_id_list))\n",
    "        indices_of_records_with_friend_ids = df['user_id'].isin(friend_ids_that_exist_in_df)\n",
    "        userid_and_averagestars_df = df[['user_id', 'user_average_stars']]\n",
    "        friends_average_stars_indexed_by_userid_df = userid_and_averagestars_df.loc[indices_of_records_with_friend_ids].groupby('user_id').mean()\n",
    "        return np.mean(friends_average_stars_indexed_by_userid_df['user_average_stars'])\n",
    "    \n",
    "    return apply_func"
   ]
  },
  {
   "cell_type": "markdown",
   "metadata": {},
   "source": [
    "## Special care on rare classes"
   ]
  },
  {
   "cell_type": "raw",
   "metadata": {},
   "source": [
    "Let's oversample the minority classes."
   ]
  },
  {
   "cell_type": "code",
   "execution_count": 54,
   "metadata": {
    "collapsed": false
   },
   "outputs": [],
   "source": [
    "TEST_SIZE = 0.40\n",
    "train_X, test_X, train_y, test_y = train_test_split(df_with_initial_features_and_preprocessed_review_text.review_text,\n",
    "                                                    df_with_initial_features_and_preprocessed_review_text.review_stars,\n",
    "                                                    test_size=TEST_SIZE,\n",
    "                                                    random_state=42)\n",
    "\n",
    "ONE_STAR_LABEL = 1\n",
    "TWO_STAR_LABEL = 2\n",
    "THREE_STAR_LABEL = 3\n",
    "FOUR_STAR_LABEL = 4\n",
    "\n",
    "one_star_reviews = train_X[train_y == ONE_STAR_LABEL]\n",
    "two_star_reviews = train_X[train_y == TWO_STAR_LABEL]\n",
    "three_star_reviews = train_X[train_y == THREE_STAR_LABEL]\n",
    "four_star_reviews = train_X[train_y == FOUR_STAR_LABEL]\n",
    "\n",
    "one_star_labels = train_y[train_y == ONE_STAR_LABEL]\n",
    "two_star_labels = train_y[train_y == TWO_STAR_LABEL]\n",
    "three_star_labels = train_y[train_y == THREE_STAR_LABEL]\n",
    "\n",
    "difference_btw_number_of_4_and_1_stars = len(four_star_reviews) - len(one_star_reviews)\n",
    "difference_btw_number_of_4_and_2_stars = len(four_star_reviews) - len(two_star_reviews)\n",
    "difference_btw_number_of_4_and_3_stars = len(four_star_reviews) - len(three_star_reviews)\n",
    "\n",
    "assert (np.array([difference_btw_number_of_4_and_1_stars,\n",
    "                 difference_btw_number_of_4_and_2_stars,\n",
    "                 difference_btw_number_of_4_and_3_stars]) > 0).all()\n",
    "\n",
    "q1 = difference_btw_number_of_4_and_1_stars/len(one_star_reviews)\n",
    "r1 = difference_btw_number_of_4_and_1_stars - len(one_star_reviews) * q1\n",
    "q2 = difference_btw_number_of_4_and_2_stars/len(two_star_reviews)\n",
    "r2 = difference_btw_number_of_4_and_2_stars - len(two_star_reviews) * q2\n",
    "q3 = difference_btw_number_of_4_and_3_stars/len(three_star_reviews)\n",
    "r3 = difference_btw_number_of_4_and_3_stars - len(three_star_reviews) * q3\n",
    "\n",
    "train_X = np.vstack([np.reshape(train_X, (len(train_X), 1)),\n",
    "                     np.tile(one_star_reviews, (1, q1)).T,\n",
    "                     np.reshape(one_star_reviews[:r1], (r1, 1)),\n",
    "                     np.tile(two_star_reviews, (1, q2)).T,\n",
    "                     np.reshape(two_star_reviews[:r2], (r2, 1)),\n",
    "                     np.tile(three_star_reviews, (1, q3)).T,\n",
    "                     np.reshape(three_star_reviews[:r3], (r3, 1))])[:,0]\n",
    "\n",
    "train_y = np.vstack([np.reshape(train_y, (len(train_y), 1)),\n",
    "                     np.tile(one_star_labels, (1, q1)).T,\n",
    "                     np.reshape(one_star_labels[:r1], (r1, 1)),\n",
    "                     np.tile(two_star_labels, (1, q2)).T,\n",
    "                     np.reshape(two_star_labels[:r2], (r2, 1)),\n",
    "                     np.tile(three_star_labels, (1, q3)).T,\n",
    "                     np.reshape(three_star_labels[:r3], (r3, 1))])[:,0]"
   ]
  },
  {
   "cell_type": "code",
   "execution_count": 55,
   "metadata": {
    "collapsed": false
   },
   "outputs": [],
   "source": [
    "def argmax(dictionary):\n",
    "    return (max(dictionary.iteritems(), key=itemgetter(1)))[0]\n",
    "\n",
    "class Multinomial_NB_Classifier():\n",
    "    \n",
    "    def train(self, class_labels, documents, class_priors=[], complement=False):       \n",
    "        Classes = sorted(list(set(class_labels)))\n",
    "        Vocabulary = reduce(lambda V, d : V.union(set(d.split())), documents, set())\n",
    "        \n",
    "        if len(class_priors) != len(Classes):\n",
    "            N_documents_per_class = lambda c : sum(c == np.array(class_labels))\n",
    "            N_documents = len(documents)\n",
    "            class_priors = {c : N_documents_per_class(c) / float(N_documents) for c in Classes}\n",
    "        \n",
    "        Text_given_class = {c : documents[c == np.array(class_labels)].sum() for c in Classes}\n",
    "        length_of_concatenated_documents_of_class = {c : len(Text_given_class[c].split()) for c in Classes}\n",
    "        total_length_of_concatenated_documents_of_all_classes = sum([length_of_concatenated_documents_of_class[C] for C in Classes])\n",
    "        \n",
    "        absolute_frequency_vectorizer = CountVectorizer(analyzer = \"word\",\n",
    "                                                        vocabulary = Vocabulary,\n",
    "                                                        ngram_range = (1, 1),\n",
    "                                                        binary = False)\n",
    "        documentclass_termunigram_matrix = absolute_frequency_vectorizer.fit_transform(Text_given_class.values())\n",
    "    \n",
    "        number_of_feature_words = documentclass_termunigram_matrix.shape[1]\n",
    "        feature_word_index = dict(zip(absolute_frequency_vectorizer.get_feature_names(), range(number_of_feature_words)))\n",
    "        word_counts_irregardless_of_class = documentclass_termunigram_matrix.sum(axis=0)\n",
    "        \n",
    "        WORD_GIVEN_CLASS_CPT = {}\n",
    "        COMPLEMENT_WORD_GIVEN_CLASS_CPT = {}\n",
    "        K = len(Vocabulary)\n",
    "        \n",
    "        for class_idx, c in enumerate(Classes):\n",
    "            if c not in WORD_GIVEN_CLASS_CPT:\n",
    "                WORD_GIVEN_CLASS_CPT[c] = {}\n",
    "                COMPLEMENT_WORD_GIVEN_CLASS_CPT[c] = {}\n",
    "\n",
    "            for w in Vocabulary:\n",
    "                T_wc = documentclass_termunigram_matrix[class_idx, feature_word_index[w]]\n",
    "                WORD_GIVEN_CLASS_CPT[c][w] = float(1 + T_wc) / (K + length_of_concatenated_documents_of_class[c])\n",
    "                \n",
    "                C_wc = word_counts_irregardless_of_class[0, feature_word_index[w]] - T_wc\n",
    "                complement_classes_wc = total_length_of_concatenated_documents_of_all_classes-length_of_concatenated_documents_of_class[c]\n",
    "                COMPLEMENT_WORD_GIVEN_CLASS_CPT[c][w] = float(1 + C_wc) / (K + complement_classes_wc)\n",
    "           \n",
    "        self.classes = Classes\n",
    "        self.vocabulary = Vocabulary\n",
    "        self.class_priors = class_priors\n",
    "        self.words_cpt = WORD_GIVEN_CLASS_CPT\n",
    "        \n",
    "        if complement:\n",
    "            self.complement = True\n",
    "            self.complement_cpt = COMPLEMENT_WORD_GIVEN_CLASS_CPT\n",
    "        else:\n",
    "            self.complement = False\n",
    "            \n",
    "        return self\n",
    "\n",
    "    def predict(self, documents):\n",
    "        target_labels = []\n",
    "        \n",
    "        for d in documents:\n",
    "            score = {}\n",
    "            Words_d = set(d.split())\n",
    "            \n",
    "            for class_idx, c in enumerate(self.classes):\n",
    "                word_log_likelihoods = np.log([self.words_cpt[c][w] for w in Words_d if w in self.vocabulary])\n",
    "                score[c] = np.log(self.class_priors[c])\n",
    "                \n",
    "                if self.complement:\n",
    "                    word_in_complement_classes_log_likelihoods = np.log([self.complement_cpt[c][w] for w in Words_d if w in self.vocabulary])\n",
    "                    score[c] -= sum(word_in_complement_classes_log_likelihoods)\n",
    "                else:\n",
    "                    score[c] += sum(word_log_likelihoods)\n",
    "                    \n",
    "            c_map = argmax(score)\n",
    "            target_labels.append(c_map)\n",
    "            \n",
    "        return target_labels                            "
   ]
  },
  {
   "cell_type": "code",
   "execution_count": 56,
   "metadata": {
    "collapsed": false
   },
   "outputs": [
    {
     "name": "stdout",
     "output_type": "stream",
     "text": [
      "CPU times: user 45.6 s, sys: 116 ms, total: 45.7 s\n",
      "Wall time: 45.9 s\n"
     ]
    }
   ],
   "source": [
    "%time clf = Multinomial_NB_Classifier().train(class_labels=train_y, documents=train_X)"
   ]
  },
  {
   "cell_type": "code",
   "execution_count": 57,
   "metadata": {
    "collapsed": false
   },
   "outputs": [
    {
     "name": "stdout",
     "output_type": "stream",
     "text": [
      "CPU times: user 1.94 s, sys: 3.91 ms, total: 1.95 s\n",
      "Wall time: 1.97 s\n"
     ]
    }
   ],
   "source": [
    "%time oversampling_multinomial_nb_prediction = clf.predict(test_X)"
   ]
  },
  {
   "cell_type": "code",
   "execution_count": 58,
   "metadata": {
    "collapsed": false
   },
   "outputs": [
    {
     "name": "stdout",
     "output_type": "stream",
     "text": [
      "[[ 0.71473354  0.14629049  0.06478579  0.04179728  0.03239289]\n",
      " [ 0.20272109  0.44761905  0.20272109  0.1047619   0.04217687]\n",
      " [ 0.07210031  0.10094044  0.51410658  0.22445141  0.08840125]\n",
      " [ 0.03502039  0.03190213  0.12449029  0.54737347  0.26121372]\n",
      " [ 0.03867302  0.01997801  0.0353739   0.17485337  0.7311217 ]]\n"
     ]
    },
    {
     "data": {
      "image/png": "[encoded data removed]",
      "text/plain": [
       "<matplotlib.figure.Figure at 0x7f8d6bd64f10>"
      ]
     },
     "metadata": {},
     "output_type": "display_data"
    }
   ],
   "source": [
    "oversampling_multinomial_confusion_matrix = confusion_matrix(test_y, oversampling_multinomial_nb_prediction)\n",
    "print make_confusion_matrix_relative(oversampling_multinomial_confusion_matrix)\n",
    "plot_confusion_matrix(oversampling_multinomial_confusion_matrix,\n",
    "                      'My Multinomial Naive Bayes Confusion Matrix with Oversampling for Minority Classes', savefilename='MyMultinomialOversamplingCM.png')"
   ]
  },
  {
   "cell_type": "code",
   "execution_count": 59,
   "metadata": {
    "collapsed": false
   },
   "outputs": [
    {
     "name": "stdout",
     "output_type": "stream",
     "text": [
      "MODEL: Multinomial Naive Bayes Trained on Oversampling\n",
      "\n",
      "Precision: 0.636160713568\n",
      "Recall: 0.627633209418\n",
      "F1: 0.629802823621\n",
      "Accuracy: 0.627633209418\n",
      "\n",
      "Classification Report:\n",
      "             precision    recall  f1-score   support\n",
      "\n",
      "     1 star       0.52      0.71      0.60       957\n",
      "     2 star       0.38      0.45      0.41       735\n",
      "     3 star       0.47      0.51      0.49      1595\n",
      "     4 star       0.61      0.55      0.58      4169\n",
      "     5 star       0.76      0.73      0.74      5456\n",
      "\n",
      "avg / total       0.64      0.63      0.63     12912\n",
      "\n",
      "\n",
      "Precision variance: 0.083196\n",
      "\n",
      "Recall variance: 0.063318\n"
     ]
    },
    {
     "name": "stderr",
     "output_type": "stream",
     "text": [
      "/usr/local/lib/python2.7/dist-packages/sklearn/metrics/classification.py:1203: DeprecationWarning: The default `weighted` averaging is deprecated, and from version 0.18, use of precision, recall or F-score with multiclass or multilabel data or pos_label=None will result in an exception. Please set an explicit value for `average`, one of (None, 'micro', 'macro', 'weighted', 'samples'). In cross validation use, for instance, scoring=\"f1_weighted\" instead of scoring=\"f1\".\n",
      "  sample_weight=sample_weight)\n",
      "/usr/local/lib/python2.7/dist-packages/sklearn/metrics/classification.py:1304: DeprecationWarning: The default `weighted` averaging is deprecated, and from version 0.18, use of precision, recall or F-score with multiclass or multilabel data or pos_label=None will result in an exception. Please set an explicit value for `average`, one of (None, 'micro', 'macro', 'weighted', 'samples'). In cross validation use, for instance, scoring=\"f1_weighted\" instead of scoring=\"f1\".\n",
      "  sample_weight=sample_weight)\n",
      "/usr/local/lib/python2.7/dist-packages/sklearn/metrics/classification.py:756: DeprecationWarning: The default `weighted` averaging is deprecated, and from version 0.18, use of precision, recall or F-score with multiclass or multilabel data or pos_label=None will result in an exception. Please set an explicit value for `average`, one of (None, 'micro', 'macro', 'weighted', 'samples'). In cross validation use, for instance, scoring=\"f1_weighted\" instead of scoring=\"f1\".\n",
      "  sample_weight=sample_weight)\n"
     ]
    }
   ],
   "source": [
    "print_classifier_performance_metrics('Multinomial Naive Bayes Trained on Oversampling', oversampling_multinomial_nb_prediction)"
   ]
  },
  {
   "cell_type": "markdown",
   "metadata": {},
   "source": [
    "### Bigram multinomial naive bayes"
   ]
  },
  {
   "cell_type": "code",
   "execution_count": 63,
   "metadata": {
    "collapsed": false
   },
   "outputs": [],
   "source": [
    "oversampling_bigram_multinomial_feature_matrix_train = bigram_vectorizer.fit_transform(train_X)\n",
    "oversampling_bigram_multinomial_feature_matrix_test = bigram_vectorizer.transform(test_X)\n",
    "oversampling_bigram_multinomial_nb_classifier = MultinomialNB().fit(oversampling_bigram_multinomial_feature_matrix_train, train_y)\n",
    "oversampling_bigram_multinomial_nb_prediction = oversampling_bigram_multinomial_nb_classifier.predict(oversampling_bigram_multinomial_feature_matrix_test)"
   ]
  },
  {
   "cell_type": "code",
   "execution_count": 64,
   "metadata": {
    "collapsed": false
   },
   "outputs": [
    {
     "name": "stdout",
     "output_type": "stream",
     "text": [
      "[[ 0.67293626  0.10658307  0.07419018  0.07523511  0.07105538]\n",
      " [ 0.13877551  0.40408163  0.15782313  0.2122449   0.08707483]\n",
      " [ 0.04639498  0.04576803  0.48213166  0.29467085  0.13103448]\n",
      " [ 0.01391221  0.0091149   0.05372991  0.68001919  0.24322379]\n",
      " [ 0.01173021  0.00934751  0.02162757  0.15872434  0.79857038]]\n"
     ]
    },
    {
     "data": {
      "image/png": "[encoded data removed]",
      "text/plain": [
       "<matplotlib.figure.Figure at 0x7f8d6bd0f190>"
      ]
     },
     "metadata": {},
     "output_type": "display_data"
    }
   ],
   "source": [
    "oversampling_bigram_multinomial_confusion_matrix = confusion_matrix(test_y, oversampling_bigram_multinomial_nb_prediction)\n",
    "print make_confusion_matrix_relative(oversampling_bigram_multinomial_confusion_matrix)\n",
    "plot_confusion_matrix(oversampling_bigram_multinomial_confusion_matrix,\n",
    "                      'Bigram Multinomial Naive Bayes with Oversampling \\n for Minority Classes Confusion Matrix', savefilename='BigramMultinomialOversamplingCM.png')"
   ]
  },
  {
   "cell_type": "code",
   "execution_count": 62,
   "metadata": {
    "collapsed": false
   },
   "outputs": [
    {
     "name": "stdout",
     "output_type": "stream",
     "text": [
      "MODEL: Bigram Naive Bayes Trained on Oversampling\n",
      "\n",
      "Precision: 0.684389054587\n",
      "Recall: 0.689436183395\n",
      "F1: 0.68540363919\n",
      "Accuracy: 0.689436183395\n",
      "\n",
      "Classification Report:\n",
      "             precision    recall  f1-score   support\n",
      "\n",
      "     1 star       0.68      0.67      0.68       957\n",
      "     2 star       0.53      0.40      0.46       735\n",
      "     3 star       0.59      0.48      0.53      1595\n",
      "     4 star       0.64      0.68      0.66      4169\n",
      "     5 star       0.76      0.80      0.78      5456\n",
      "\n",
      "avg / total       0.68      0.69      0.69     12912\n",
      "\n",
      "\n",
      "Precision variance: 0.031459\n",
      "\n",
      "Recall variance: 0.103145\n"
     ]
    },
    {
     "name": "stderr",
     "output_type": "stream",
     "text": [
      "/usr/local/lib/python2.7/dist-packages/sklearn/metrics/classification.py:1203: DeprecationWarning: The default `weighted` averaging is deprecated, and from version 0.18, use of precision, recall or F-score with multiclass or multilabel data or pos_label=None will result in an exception. Please set an explicit value for `average`, one of (None, 'micro', 'macro', 'weighted', 'samples'). In cross validation use, for instance, scoring=\"f1_weighted\" instead of scoring=\"f1\".\n",
      "  sample_weight=sample_weight)\n",
      "/usr/local/lib/python2.7/dist-packages/sklearn/metrics/classification.py:1304: DeprecationWarning: The default `weighted` averaging is deprecated, and from version 0.18, use of precision, recall or F-score with multiclass or multilabel data or pos_label=None will result in an exception. Please set an explicit value for `average`, one of (None, 'micro', 'macro', 'weighted', 'samples'). In cross validation use, for instance, scoring=\"f1_weighted\" instead of scoring=\"f1\".\n",
      "  sample_weight=sample_weight)\n",
      "/usr/local/lib/python2.7/dist-packages/sklearn/metrics/classification.py:756: DeprecationWarning: The default `weighted` averaging is deprecated, and from version 0.18, use of precision, recall or F-score with multiclass or multilabel data or pos_label=None will result in an exception. Please set an explicit value for `average`, one of (None, 'micro', 'macro', 'weighted', 'samples'). In cross validation use, for instance, scoring=\"f1_weighted\" instead of scoring=\"f1\".\n",
      "  sample_weight=sample_weight)\n"
     ]
    }
   ],
   "source": [
    "print_classifier_performance_metrics('Bigram Naive Bayes Trained on Oversampling', oversampling_bigram_multinomial_nb_prediction)"
   ]
  },
  {
   "cell_type": "markdown",
   "metadata": {},
   "source": [
    "### Multiclass Logistic Regression Model"
   ]
  },
  {
   "cell_type": "code",
   "execution_count": 65,
   "metadata": {
    "collapsed": false
   },
   "outputs": [],
   "source": [
    "TEST_SIZE = 0.40\n",
    "train_X, test_X, train_y, test_y = train_test_split(df_with_initial_features_and_preprocessed_review_text.review_text,\n",
    "                                                    df_with_initial_features_and_preprocessed_review_text.review_stars,\n",
    "                                                    test_size=TEST_SIZE,\n",
    "                                                    random_state=42)"
   ]
  },
  {
   "cell_type": "code",
   "execution_count": 66,
   "metadata": {
    "collapsed": false
   },
   "outputs": [],
   "source": [
    "BIGRAM_RANGE = (2, 2)\n",
    "v = CountVectorizer(analyzer = \"word\",\n",
    "                    tokenizer = None,\n",
    "                    preprocessor = None,\n",
    "                    ngram_range = BIGRAM_RANGE,\n",
    "                    strip_accents = 'unicode')"
   ]
  },
  {
   "cell_type": "code",
   "execution_count": 67,
   "metadata": {
    "collapsed": false
   },
   "outputs": [
    {
     "data": {
      "text/plain": [
       "(<19366x435809 sparse matrix of type '<type 'numpy.int64'>'\n",
       " \twith 1058173 stored elements in Compressed Sparse Row format>,\n",
       " <12912x435809 sparse matrix of type '<type 'numpy.int64'>'\n",
       " \twith 515296 stored elements in Compressed Sparse Row format>)"
      ]
     },
     "execution_count": 67,
     "metadata": {},
     "output_type": "execute_result"
    }
   ],
   "source": [
    "logistic_feature_matrix_train = v.fit_transform(train_X)\n",
    "logistic_feature_matrix_test = v.transform(test_X)\n",
    "\n",
    "logistic_feature_matrix_train, logistic_feature_matrix_test"
   ]
  },
  {
   "cell_type": "code",
   "execution_count": 68,
   "metadata": {
    "collapsed": false
   },
   "outputs": [],
   "source": [
    "n_positive_words_series = df_with_initial_features_and_preprocessed_review_text.review_text.apply(count_number_of_positive_words)\n",
    "n_negative_words_series = df_with_initial_features_and_preprocessed_review_text.review_text.apply(count_number_of_negative_words)\n",
    "negative_to_positive_words_ratio_vector = 1000*((n_negative_words_series + 1.0)/ (n_positive_words_series+1.0)).values\n",
    "negative_to_positive_words_ratio_vector = np.reshape(negative_to_positive_words_ratio_vector, (len(negative_to_positive_words_ratio_vector), 1))"
   ]
  },
  {
   "cell_type": "code",
   "execution_count": 69,
   "metadata": {
    "collapsed": false
   },
   "outputs": [
    {
     "data": {
      "text/plain": [
       "(<19366x435810 sparse matrix of type '<type 'numpy.float64'>'\n",
       " \twith 1077539 stored elements in COOrdinate format>,\n",
       " <12912x435810 sparse matrix of type '<type 'numpy.float64'>'\n",
       " \twith 528208 stored elements in COOrdinate format>)"
      ]
     },
     "execution_count": 69,
     "metadata": {},
     "output_type": "execute_result"
    }
   ],
   "source": [
    "from scipy.sparse import hstack\n",
    "n_training_samples = (logistic_feature_matrix_train.shape[0])\n",
    "logistic_feature_matrix_train = hstack([logistic_feature_matrix_train, negative_to_positive_words_ratio_vector[:n_training_samples]])\n",
    "logistic_feature_matrix_test  = hstack([logistic_feature_matrix_test, negative_to_positive_words_ratio_vector[n_training_samples:]])\n",
    "\n",
    "logistic_feature_matrix_train, logistic_feature_matrix_test"
   ]
  },
  {
   "cell_type": "code",
   "execution_count": 70,
   "metadata": {
    "collapsed": false
   },
   "outputs": [
    {
     "name": "stdout",
     "output_type": "stream",
     "text": [
      "CPU times: user 10.3 s, sys: 7.94 ms, total: 10.3 s\n",
      "Wall time: 10.4 s\n"
     ]
    },
    {
     "data": {
      "text/plain": [
       "LogisticRegression(C=1000.0, class_weight=None, dual=False,\n",
       "          fit_intercept=True, intercept_scaling=1, max_iter=100,\n",
       "          multi_class='ovr', n_jobs=1, penalty='l2', random_state=None,\n",
       "          solver='liblinear', tol=0.0001, verbose=0, warm_start=False)"
      ]
     },
     "execution_count": 70,
     "metadata": {},
     "output_type": "execute_result"
    }
   ],
   "source": [
    "logistic_clf = LogisticRegression(C=1e3)\n",
    "%time logistic_clf.fit(logistic_feature_matrix_train, train_y)"
   ]
  },
  {
   "cell_type": "code",
   "execution_count": 71,
   "metadata": {
    "collapsed": false
   },
   "outputs": [
    {
     "name": "stdout",
     "output_type": "stream",
     "text": [
      "CPU times: user 17.1 ms, sys: 13 µs, total: 17.1 ms\n",
      "Wall time: 17.3 ms\n"
     ]
    }
   ],
   "source": [
    "%time logreg_pred = logistic_clf.predict(logistic_feature_matrix_test)"
   ]
  },
  {
   "cell_type": "code",
   "execution_count": 72,
   "metadata": {
    "collapsed": false
   },
   "outputs": [
    {
     "data": {
      "image/png": "[encoded data removed]",
      "text/plain": [
       "<matplotlib.figure.Figure at 0x7f8daeffe5d0>"
      ]
     },
     "metadata": {},
     "output_type": "display_data"
    }
   ],
   "source": [
    "logreg_confusion_matrix = confusion_matrix(test_y, logreg_pred)\n",
    "plot_confusion_matrix(logreg_confusion_matrix, 'Logistic Regression Confusion Matrix', savefilename='LogRegCM.png')"
   ]
  },
  {
   "cell_type": "code",
   "execution_count": 73,
   "metadata": {
    "collapsed": false
   },
   "outputs": [
    {
     "name": "stdout",
     "output_type": "stream",
     "text": [
      "MODEL: Logistic Regression\n",
      "\n",
      "Precision: 0.702572218324\n",
      "Recall: 0.690520446097\n",
      "F1: 0.677192373455\n",
      "Accuracy: 0.690520446097\n",
      "\n",
      "Classification Report:\n",
      "             precision    recall  f1-score   support\n",
      "\n",
      "     1 star       0.75      0.56      0.64       957\n",
      "     2 star       0.79      0.32      0.45       735\n",
      "     3 star       0.81      0.42      0.55      1595\n",
      "     4 star       0.66      0.65      0.65      4169\n",
      "     5 star       0.69      0.88      0.77      5456\n",
      "\n",
      "avg / total       0.70      0.69      0.68     12912\n",
      "\n",
      "\n",
      "Precision variance: 0.017391\n",
      "\n",
      "Recall variance: 0.186186\n"
     ]
    },
    {
     "name": "stderr",
     "output_type": "stream",
     "text": [
      "/usr/local/lib/python2.7/dist-packages/sklearn/metrics/classification.py:1203: DeprecationWarning: The default `weighted` averaging is deprecated, and from version 0.18, use of precision, recall or F-score with multiclass or multilabel data or pos_label=None will result in an exception. Please set an explicit value for `average`, one of (None, 'micro', 'macro', 'weighted', 'samples'). In cross validation use, for instance, scoring=\"f1_weighted\" instead of scoring=\"f1\".\n",
      "  sample_weight=sample_weight)\n",
      "/usr/local/lib/python2.7/dist-packages/sklearn/metrics/classification.py:1304: DeprecationWarning: The default `weighted` averaging is deprecated, and from version 0.18, use of precision, recall or F-score with multiclass or multilabel data or pos_label=None will result in an exception. Please set an explicit value for `average`, one of (None, 'micro', 'macro', 'weighted', 'samples'). In cross validation use, for instance, scoring=\"f1_weighted\" instead of scoring=\"f1\".\n",
      "  sample_weight=sample_weight)\n",
      "/usr/local/lib/python2.7/dist-packages/sklearn/metrics/classification.py:756: DeprecationWarning: The default `weighted` averaging is deprecated, and from version 0.18, use of precision, recall or F-score with multiclass or multilabel data or pos_label=None will result in an exception. Please set an explicit value for `average`, one of (None, 'micro', 'macro', 'weighted', 'samples'). In cross validation use, for instance, scoring=\"f1_weighted\" instead of scoring=\"f1\".\n",
      "  sample_weight=sample_weight)\n"
     ]
    }
   ],
   "source": [
    "print_classifier_performance_metrics('Logistic Regression', logreg_pred)"
   ]
  },
  {
   "cell_type": "markdown",
   "metadata": {},
   "source": [
    "### Retraining bigram multinomial naive bayes with oversampling with different test sizes"
   ]
  },
  {
   "cell_type": "code",
   "execution_count": 74,
   "metadata": {
    "collapsed": false
   },
   "outputs": [],
   "source": [
    "TEST_SIZE = 0.20\n",
    "train_X, test_X, train_y, test_y = train_test_split(df_with_initial_features_and_preprocessed_review_text.review_text,\n",
    "                                                    df_with_initial_features_and_preprocessed_review_text.review_stars,\n",
    "                                                    test_size=TEST_SIZE,\n",
    "                                                    random_state=42)\n",
    "\n",
    "ONE_STAR_LABEL = 1\n",
    "TWO_STAR_LABEL = 2\n",
    "THREE_STAR_LABEL = 3\n",
    "FOUR_STAR_LABEL = 4\n",
    "\n",
    "one_star_reviews = train_X[train_y == ONE_STAR_LABEL]\n",
    "two_star_reviews = train_X[train_y == TWO_STAR_LABEL]\n",
    "three_star_reviews = train_X[train_y == THREE_STAR_LABEL]\n",
    "four_star_reviews = train_X[train_y == FOUR_STAR_LABEL]\n",
    "\n",
    "one_star_labels = train_y[train_y == ONE_STAR_LABEL]\n",
    "two_star_labels = train_y[train_y == TWO_STAR_LABEL]\n",
    "three_star_labels = train_y[train_y == THREE_STAR_LABEL]\n",
    "\n",
    "difference_btw_number_of_4_and_1_stars = len(four_star_reviews) - len(one_star_reviews)\n",
    "difference_btw_number_of_4_and_2_stars = len(four_star_reviews) - len(two_star_reviews)\n",
    "difference_btw_number_of_4_and_3_stars = len(four_star_reviews) - len(three_star_reviews)\n",
    "\n",
    "assert (np.array([difference_btw_number_of_4_and_1_stars,\n",
    "                 difference_btw_number_of_4_and_2_stars,\n",
    "                 difference_btw_number_of_4_and_3_stars]) > 0).all()\n",
    "\n",
    "q1 = difference_btw_number_of_4_and_1_stars/len(one_star_reviews)\n",
    "r1 = difference_btw_number_of_4_and_1_stars - len(one_star_reviews) * q1\n",
    "q2 = difference_btw_number_of_4_and_2_stars/len(two_star_reviews)\n",
    "r2 = difference_btw_number_of_4_and_2_stars - len(two_star_reviews) * q2\n",
    "q3 = difference_btw_number_of_4_and_3_stars/len(three_star_reviews)\n",
    "r3 = difference_btw_number_of_4_and_3_stars - len(three_star_reviews) * q3\n",
    "\n",
    "train_X = np.vstack([np.reshape(train_X, (len(train_X), 1)),\n",
    "                     np.tile(one_star_reviews, (1, q1)).T,\n",
    "                     np.reshape(one_star_reviews[:r1], (r1, 1)),\n",
    "                     np.tile(two_star_reviews, (1, q2)).T,\n",
    "                     np.reshape(two_star_reviews[:r2], (r2, 1)),\n",
    "                     np.tile(three_star_reviews, (1, q3)).T,\n",
    "                     np.reshape(three_star_reviews[:r3], (r3, 1))])[:,0]\n",
    "\n",
    "train_y = np.vstack([np.reshape(train_y, (len(train_y), 1)),\n",
    "                     np.tile(one_star_labels, (1, q1)).T,\n",
    "                     np.reshape(one_star_labels[:r1], (r1, 1)),\n",
    "                     np.tile(two_star_labels, (1, q2)).T,\n",
    "                     np.reshape(two_star_labels[:r2], (r2, 1)),\n",
    "                     np.tile(three_star_labels, (1, q3)).T,\n",
    "                     np.reshape(three_star_labels[:r3], (r3, 1))])[:,0]"
   ]
  },
  {
   "cell_type": "code",
   "execution_count": 75,
   "metadata": {
    "collapsed": false
   },
   "outputs": [],
   "source": [
    "twenty_oversampling_bigram_multinomial_feature_matrix_train = bigram_vectorizer.fit_transform(train_X)\n",
    "twenty_oversampling_bigram_multinomial_feature_matrix_test = bigram_vectorizer.transform(test_X)\n",
    "twenty_oversampling_bigram_multinomial_nb_classifier = MultinomialNB().fit(twenty_oversampling_bigram_multinomial_feature_matrix_train, train_y)\n",
    "twenty_oversampling_bigram_multinomial_nb_prediction = twenty_oversampling_bigram_multinomial_nb_classifier.predict(twenty_oversampling_bigram_multinomial_feature_matrix_test)"
   ]
  },
  {
   "cell_type": "code",
   "execution_count": 76,
   "metadata": {
    "collapsed": false
   },
   "outputs": [
    {
     "name": "stdout",
     "output_type": "stream",
     "text": [
      "[[ 0.71612903  0.08817204  0.06451613  0.0688172   0.06236559]\n",
      " [ 0.14480874  0.41256831  0.16666667  0.20491803  0.07103825]\n",
      " [ 0.03875     0.03625     0.535       0.2725      0.1175    ]\n",
      " [ 0.01452671  0.00749766  0.05670103  0.69540769  0.22586692]\n",
      " [ 0.01449275  0.00743218  0.01820884  0.13786696  0.82199926]]\n"
     ]
    },
    {
     "data": {
      "image/png": "[encoded data removed]",
      "text/plain": [
       "<matplotlib.figure.Figure at 0x7f8d6bd64c50>"
      ]
     },
     "metadata": {},
     "output_type": "display_data"
    }
   ],
   "source": [
    "twenty_oversampling_bigram_multinomial_confusion_matrix = confusion_matrix(test_y, twenty_oversampling_bigram_multinomial_nb_prediction)\n",
    "print make_confusion_matrix_relative(twenty_oversampling_bigram_multinomial_confusion_matrix)\n",
    "plot_confusion_matrix(twenty_oversampling_bigram_multinomial_confusion_matrix,\n",
    "                      'Bigram Multinomial Naive Bayes with Oversampling \\n for Minority Classes and 20% Testing Confusion Matrix',\n",
    "                      savefilename='TwentyBigramMultinomialOversamplingCM.png')"
   ]
  },
  {
   "cell_type": "code",
   "execution_count": 77,
   "metadata": {
    "collapsed": false
   },
   "outputs": [
    {
     "name": "stdout",
     "output_type": "stream",
     "text": [
      "MODEL: Bigram Multinomial Naive Bayes Trained on Oversampling and 20% Test Data\n",
      "\n",
      "Precision: 0.70885598166\n",
      "Recall: 0.71375464684\n",
      "F1: 0.709735076943\n",
      "Accuracy: 0.71375464684\n",
      "\n",
      "Classification Report:\n",
      "             precision    recall  f1-score   support\n",
      "\n",
      "     1 star       0.68      0.72      0.70       465\n",
      "     2 star       0.59      0.41      0.48       366\n",
      "     3 star       0.62      0.54      0.57       800\n",
      "     4 star       0.68      0.70      0.69      2134\n",
      "     5 star       0.78      0.82      0.80      2691\n",
      "\n",
      "avg / total       0.71      0.71      0.71      6456\n",
      "\n",
      "\n",
      "Precision variance: 0.021160\n",
      "\n",
      "Recall variance: 0.104668\n"
     ]
    },
    {
     "name": "stderr",
     "output_type": "stream",
     "text": [
      "/usr/local/lib/python2.7/dist-packages/sklearn/metrics/classification.py:1203: DeprecationWarning: The default `weighted` averaging is deprecated, and from version 0.18, use of precision, recall or F-score with multiclass or multilabel data or pos_label=None will result in an exception. Please set an explicit value for `average`, one of (None, 'micro', 'macro', 'weighted', 'samples'). In cross validation use, for instance, scoring=\"f1_weighted\" instead of scoring=\"f1\".\n",
      "  sample_weight=sample_weight)\n",
      "/usr/local/lib/python2.7/dist-packages/sklearn/metrics/classification.py:1304: DeprecationWarning: The default `weighted` averaging is deprecated, and from version 0.18, use of precision, recall or F-score with multiclass or multilabel data or pos_label=None will result in an exception. Please set an explicit value for `average`, one of (None, 'micro', 'macro', 'weighted', 'samples'). In cross validation use, for instance, scoring=\"f1_weighted\" instead of scoring=\"f1\".\n",
      "  sample_weight=sample_weight)\n",
      "/usr/local/lib/python2.7/dist-packages/sklearn/metrics/classification.py:756: DeprecationWarning: The default `weighted` averaging is deprecated, and from version 0.18, use of precision, recall or F-score with multiclass or multilabel data or pos_label=None will result in an exception. Please set an explicit value for `average`, one of (None, 'micro', 'macro', 'weighted', 'samples'). In cross validation use, for instance, scoring=\"f1_weighted\" instead of scoring=\"f1\".\n",
      "  sample_weight=sample_weight)\n"
     ]
    }
   ],
   "source": [
    "print_classifier_performance_metrics('Bigram Multinomial Naive Bayes Trained on Oversampling and 20% Test Data',\n",
    "                                     twenty_oversampling_bigram_multinomial_nb_prediction)"
   ]
  },
  {
   "cell_type": "code",
   "execution_count": 78,
   "metadata": {
    "collapsed": false
   },
   "outputs": [],
   "source": [
    "TEST_SIZE = 0.60\n",
    "train_X, test_X, train_y, test_y = train_test_split(df_with_initial_features_and_preprocessed_review_text.review_text,\n",
    "                                                    df_with_initial_features_and_preprocessed_review_text.review_stars,\n",
    "                                                    test_size=TEST_SIZE,\n",
    "                                                    random_state=42)\n",
    "\n",
    "ONE_STAR_LABEL = 1\n",
    "TWO_STAR_LABEL = 2\n",
    "THREE_STAR_LABEL = 3\n",
    "FOUR_STAR_LABEL = 4\n",
    "\n",
    "one_star_reviews = train_X[train_y == ONE_STAR_LABEL]\n",
    "two_star_reviews = train_X[train_y == TWO_STAR_LABEL]\n",
    "three_star_reviews = train_X[train_y == THREE_STAR_LABEL]\n",
    "four_star_reviews = train_X[train_y == FOUR_STAR_LABEL]\n",
    "\n",
    "one_star_labels = train_y[train_y == ONE_STAR_LABEL]\n",
    "two_star_labels = train_y[train_y == TWO_STAR_LABEL]\n",
    "three_star_labels = train_y[train_y == THREE_STAR_LABEL]\n",
    "\n",
    "difference_btw_number_of_4_and_1_stars = len(four_star_reviews) - len(one_star_reviews)\n",
    "difference_btw_number_of_4_and_2_stars = len(four_star_reviews) - len(two_star_reviews)\n",
    "difference_btw_number_of_4_and_3_stars = len(four_star_reviews) - len(three_star_reviews)\n",
    "\n",
    "assert (np.array([difference_btw_number_of_4_and_1_stars,\n",
    "                 difference_btw_number_of_4_and_2_stars,\n",
    "                 difference_btw_number_of_4_and_3_stars]) > 0).all()\n",
    "\n",
    "q1 = difference_btw_number_of_4_and_1_stars/len(one_star_reviews)\n",
    "r1 = difference_btw_number_of_4_and_1_stars - len(one_star_reviews) * q1\n",
    "q2 = difference_btw_number_of_4_and_2_stars/len(two_star_reviews)\n",
    "r2 = difference_btw_number_of_4_and_2_stars - len(two_star_reviews) * q2\n",
    "q3 = difference_btw_number_of_4_and_3_stars/len(three_star_reviews)\n",
    "r3 = difference_btw_number_of_4_and_3_stars - len(three_star_reviews) * q3\n",
    "\n",
    "train_X = np.vstack([np.reshape(train_X, (len(train_X), 1)),\n",
    "                     np.tile(one_star_reviews, (1, q1)).T,\n",
    "                     np.reshape(one_star_reviews[:r1], (r1, 1)),\n",
    "                     np.tile(two_star_reviews, (1, q2)).T,\n",
    "                     np.reshape(two_star_reviews[:r2], (r2, 1)),\n",
    "                     np.tile(three_star_reviews, (1, q3)).T,\n",
    "                     np.reshape(three_star_reviews[:r3], (r3, 1))])[:,0]\n",
    "\n",
    "train_y = np.vstack([np.reshape(train_y, (len(train_y), 1)),\n",
    "                     np.tile(one_star_labels, (1, q1)).T,\n",
    "                     np.reshape(one_star_labels[:r1], (r1, 1)),\n",
    "                     np.tile(two_star_labels, (1, q2)).T,\n",
    "                     np.reshape(two_star_labels[:r2], (r2, 1)),\n",
    "                     np.tile(three_star_labels, (1, q3)).T,\n",
    "                     np.reshape(three_star_labels[:r3], (r3, 1))])[:,0]"
   ]
  },
  {
   "cell_type": "code",
   "execution_count": 79,
   "metadata": {
    "collapsed": false
   },
   "outputs": [],
   "source": [
    "sixty_oversampling_bigram_multinomial_feature_matrix_train = bigram_vectorizer.fit_transform(train_X)\n",
    "sixty_oversampling_bigram_multinomial_feature_matrix_test = bigram_vectorizer.transform(test_X)\n",
    "sixty_oversampling_bigram_multinomial_nb_classifier = MultinomialNB().fit(sixty_oversampling_bigram_multinomial_feature_matrix_train, train_y)\n",
    "sixty_oversampling_bigram_multinomial_nb_prediction = sixty_oversampling_bigram_multinomial_nb_classifier.predict(sixty_oversampling_bigram_multinomial_feature_matrix_test)"
   ]
  },
  {
   "cell_type": "code",
   "execution_count": 80,
   "metadata": {
    "collapsed": false
   },
   "outputs": [
    {
     "name": "stdout",
     "output_type": "stream",
     "text": [
      "[[ 0.64088398  0.09185083  0.08218232  0.08632597  0.09875691]\n",
      " [ 0.17302326  0.32837209  0.16465116  0.22418605  0.10976744]\n",
      " [ 0.04333333  0.04166667  0.43791667  0.31708333  0.16      ]\n",
      " [ 0.01228978  0.01180466  0.06549159  0.64020052  0.27021345]\n",
      " [ 0.01246973  0.01331719  0.02457627  0.17033898  0.77929782]]\n"
     ]
    },
    {
     "data": {
      "image/png": "[encoded data removed]",
      "text/plain": [
       "<matplotlib.figure.Figure at 0x7f8d60d91590>"
      ]
     },
     "metadata": {},
     "output_type": "display_data"
    }
   ],
   "source": [
    "sixty_oversampling_bigram_multinomial_confusion_matrix = confusion_matrix(test_y, sixty_oversampling_bigram_multinomial_nb_prediction)\n",
    "print make_confusion_matrix_relative(sixty_oversampling_bigram_multinomial_confusion_matrix)\n",
    "plot_confusion_matrix(sixty_oversampling_bigram_multinomial_confusion_matrix,\n",
    "                      'Bigram Multinomial Naive Bayes with Oversampling \\n for Minority Classes and 60% Testing Confusion Matrix',\n",
    "                      savefilename='SixtyBigramMultinomialOversamplingCM.png')"
   ]
  },
  {
   "cell_type": "code",
   "execution_count": 81,
   "metadata": {
    "collapsed": false
   },
   "outputs": [
    {
     "name": "stdout",
     "output_type": "stream",
     "text": [
      "MODEL: Bigram Multinomial Naive Bayes Trained on Oversampling and 60% Test Data\n",
      "\n",
      "Precision: 0.650106453895\n",
      "Recall: 0.65720039242\n",
      "F1: 0.652015069217\n",
      "Accuracy: 0.65720039242\n",
      "\n",
      "Classification Report:\n",
      "             precision    recall  f1-score   support\n",
      "\n",
      "     1 star       0.66      0.64      0.65      1448\n",
      "     2 star       0.46      0.33      0.38      1075\n",
      "     3 star       0.54      0.44      0.48      2400\n",
      "     4 star       0.61      0.64      0.62      6184\n",
      "     5 star       0.74      0.78      0.76      8260\n",
      "\n",
      "avg / total       0.65      0.66      0.65     19367\n",
      "\n",
      "\n",
      "Precision variance: 0.046319\n",
      "\n",
      "Recall variance: 0.129479\n"
     ]
    },
    {
     "name": "stderr",
     "output_type": "stream",
     "text": [
      "/usr/local/lib/python2.7/dist-packages/sklearn/metrics/classification.py:1203: DeprecationWarning: The default `weighted` averaging is deprecated, and from version 0.18, use of precision, recall or F-score with multiclass or multilabel data or pos_label=None will result in an exception. Please set an explicit value for `average`, one of (None, 'micro', 'macro', 'weighted', 'samples'). In cross validation use, for instance, scoring=\"f1_weighted\" instead of scoring=\"f1\".\n",
      "  sample_weight=sample_weight)\n",
      "/usr/local/lib/python2.7/dist-packages/sklearn/metrics/classification.py:1304: DeprecationWarning: The default `weighted` averaging is deprecated, and from version 0.18, use of precision, recall or F-score with multiclass or multilabel data or pos_label=None will result in an exception. Please set an explicit value for `average`, one of (None, 'micro', 'macro', 'weighted', 'samples'). In cross validation use, for instance, scoring=\"f1_weighted\" instead of scoring=\"f1\".\n",
      "  sample_weight=sample_weight)\n",
      "/usr/local/lib/python2.7/dist-packages/sklearn/metrics/classification.py:756: DeprecationWarning: The default `weighted` averaging is deprecated, and from version 0.18, use of precision, recall or F-score with multiclass or multilabel data or pos_label=None will result in an exception. Please set an explicit value for `average`, one of (None, 'micro', 'macro', 'weighted', 'samples'). In cross validation use, for instance, scoring=\"f1_weighted\" instead of scoring=\"f1\".\n",
      "  sample_weight=sample_weight)\n"
     ]
    }
   ],
   "source": [
    "print_classifier_performance_metrics('Bigram Multinomial Naive Bayes Trained on Oversampling and 60% Test Data',\n",
    "                                     sixty_oversampling_bigram_multinomial_nb_prediction)"
   ]
  },
  {
   "cell_type": "code",
   "execution_count": 82,
   "metadata": {
    "collapsed": false
   },
   "outputs": [],
   "source": [
    "TEST_SIZE = 0.80\n",
    "train_X, test_X, train_y, test_y = train_test_split(df_with_initial_features_and_preprocessed_review_text.review_text,\n",
    "                                                    df_with_initial_features_and_preprocessed_review_text.review_stars,\n",
    "                                                    test_size=TEST_SIZE,\n",
    "                                                    random_state=42)\n",
    "\n",
    "ONE_STAR_LABEL = 1\n",
    "TWO_STAR_LABEL = 2\n",
    "THREE_STAR_LABEL = 3\n",
    "FOUR_STAR_LABEL = 4\n",
    "\n",
    "one_star_reviews = train_X[train_y == ONE_STAR_LABEL]\n",
    "two_star_reviews = train_X[train_y == TWO_STAR_LABEL]\n",
    "three_star_reviews = train_X[train_y == THREE_STAR_LABEL]\n",
    "four_star_reviews = train_X[train_y == FOUR_STAR_LABEL]\n",
    "\n",
    "one_star_labels = train_y[train_y == ONE_STAR_LABEL]\n",
    "two_star_labels = train_y[train_y == TWO_STAR_LABEL]\n",
    "three_star_labels = train_y[train_y == THREE_STAR_LABEL]\n",
    "\n",
    "difference_btw_number_of_4_and_1_stars = len(four_star_reviews) - len(one_star_reviews)\n",
    "difference_btw_number_of_4_and_2_stars = len(four_star_reviews) - len(two_star_reviews)\n",
    "difference_btw_number_of_4_and_3_stars = len(four_star_reviews) - len(three_star_reviews)\n",
    "\n",
    "assert (np.array([difference_btw_number_of_4_and_1_stars,\n",
    "                 difference_btw_number_of_4_and_2_stars,\n",
    "                 difference_btw_number_of_4_and_3_stars]) > 0).all()\n",
    "\n",
    "q1 = difference_btw_number_of_4_and_1_stars/len(one_star_reviews)\n",
    "r1 = difference_btw_number_of_4_and_1_stars - len(one_star_reviews) * q1\n",
    "q2 = difference_btw_number_of_4_and_2_stars/len(two_star_reviews)\n",
    "r2 = difference_btw_number_of_4_and_2_stars - len(two_star_reviews) * q2\n",
    "q3 = difference_btw_number_of_4_and_3_stars/len(three_star_reviews)\n",
    "r3 = difference_btw_number_of_4_and_3_stars - len(three_star_reviews) * q3\n",
    "\n",
    "train_X = np.vstack([np.reshape(train_X, (len(train_X), 1)),\n",
    "                     np.tile(one_star_reviews, (1, q1)).T,\n",
    "                     np.reshape(one_star_reviews[:r1], (r1, 1)),\n",
    "                     np.tile(two_star_reviews, (1, q2)).T,\n",
    "                     np.reshape(two_star_reviews[:r2], (r2, 1)),\n",
    "                     np.tile(three_star_reviews, (1, q3)).T,\n",
    "                     np.reshape(three_star_reviews[:r3], (r3, 1))])[:,0]\n",
    "\n",
    "train_y = np.vstack([np.reshape(train_y, (len(train_y), 1)),\n",
    "                     np.tile(one_star_labels, (1, q1)).T,\n",
    "                     np.reshape(one_star_labels[:r1], (r1, 1)),\n",
    "                     np.tile(two_star_labels, (1, q2)).T,\n",
    "                     np.reshape(two_star_labels[:r2], (r2, 1)),\n",
    "                     np.tile(three_star_labels, (1, q3)).T,\n",
    "                     np.reshape(three_star_labels[:r3], (r3, 1))])[:,0]"
   ]
  },
  {
   "cell_type": "code",
   "execution_count": 83,
   "metadata": {
    "collapsed": false
   },
   "outputs": [],
   "source": [
    "eighty_oversampling_bigram_multinomial_feature_matrix_train = bigram_vectorizer.fit_transform(train_X)\n",
    "eighty_oversampling_bigram_multinomial_feature_matrix_test = bigram_vectorizer.transform(test_X)\n",
    "eighty_oversampling_bigram_multinomial_nb_classifier = MultinomialNB().fit(eighty_oversampling_bigram_multinomial_feature_matrix_train, train_y)\n",
    "eighty_oversampling_bigram_multinomial_nb_prediction = eighty_oversampling_bigram_multinomial_nb_classifier.predict(eighty_oversampling_bigram_multinomial_feature_matrix_test)"
   ]
  },
  {
   "cell_type": "code",
   "execution_count": 84,
   "metadata": {
    "collapsed": false
   },
   "outputs": [
    {
     "name": "stdout",
     "output_type": "stream",
     "text": [
      "[[ 0.5601876   0.12975508  0.10526316  0.10005211  0.10474205]\n",
      " [ 0.15822785  0.30098453  0.17018284  0.21800281  0.15260197]\n",
      " [ 0.05099778  0.05701615  0.38200824  0.31738993  0.1925879 ]\n",
      " [ 0.01401643  0.02114548  0.07431126  0.5698405   0.32068632]\n",
      " [ 0.01565753  0.01728663  0.030591    0.18535614  0.7511087 ]]\n"
     ]
    },
    {
     "data": {
      "image/png": "[encoded data removed]",
      "text/plain": [
       "<matplotlib.figure.Figure at 0x7f8d6f6404d0>"
      ]
     },
     "metadata": {},
     "output_type": "display_data"
    }
   ],
   "source": [
    "eighty_oversampling_bigram_multinomial_confusion_matrix = confusion_matrix(test_y, eighty_oversampling_bigram_multinomial_nb_prediction)\n",
    "print make_confusion_matrix_relative(eighty_oversampling_bigram_multinomial_confusion_matrix)\n",
    "plot_confusion_matrix(eighty_oversampling_bigram_multinomial_confusion_matrix,\n",
    "                      'Bigram Multinomial Naive Bayes with Oversampling \\n for Minority Classes and 80% Testing Confusion Matrix',\n",
    "                      savefilename='EightyBigramMultinomialOversamplingCM.png')"
   ]
  },
  {
   "cell_type": "code",
   "execution_count": 85,
   "metadata": {
    "collapsed": false
   },
   "outputs": [
    {
     "name": "stdout",
     "output_type": "stream",
     "text": [
      "MODEL: Bigram Multinomial Naive Bayes Trained on Oversampling and 80% Test Data\n",
      "\n",
      "Precision: 0.600797500915\n",
      "Recall: 0.608914533555\n",
      "F1: 0.603680104003\n",
      "Accuracy: 0.608914533555\n",
      "\n",
      "Classification Report:\n",
      "             precision    recall  f1-score   support\n",
      "\n",
      "     1 star       0.61      0.56      0.59      1919\n",
      "     2 star       0.35      0.30      0.32      1422\n",
      "     3 star       0.46      0.38      0.42      3157\n",
      "     4 star       0.57      0.57      0.57      8276\n",
      "     5 star       0.69      0.75      0.72     11049\n",
      "\n",
      "avg / total       0.60      0.61      0.60     25823\n",
      "\n",
      "\n",
      "Precision variance: 0.071768\n",
      "\n",
      "Recall variance: 0.124263\n"
     ]
    },
    {
     "name": "stderr",
     "output_type": "stream",
     "text": [
      "/usr/local/lib/python2.7/dist-packages/sklearn/metrics/classification.py:1203: DeprecationWarning: The default `weighted` averaging is deprecated, and from version 0.18, use of precision, recall or F-score with multiclass or multilabel data or pos_label=None will result in an exception. Please set an explicit value for `average`, one of (None, 'micro', 'macro', 'weighted', 'samples'). In cross validation use, for instance, scoring=\"f1_weighted\" instead of scoring=\"f1\".\n",
      "  sample_weight=sample_weight)\n",
      "/usr/local/lib/python2.7/dist-packages/sklearn/metrics/classification.py:1304: DeprecationWarning: The default `weighted` averaging is deprecated, and from version 0.18, use of precision, recall or F-score with multiclass or multilabel data or pos_label=None will result in an exception. Please set an explicit value for `average`, one of (None, 'micro', 'macro', 'weighted', 'samples'). In cross validation use, for instance, scoring=\"f1_weighted\" instead of scoring=\"f1\".\n",
      "  sample_weight=sample_weight)\n",
      "/usr/local/lib/python2.7/dist-packages/sklearn/metrics/classification.py:756: DeprecationWarning: The default `weighted` averaging is deprecated, and from version 0.18, use of precision, recall or F-score with multiclass or multilabel data or pos_label=None will result in an exception. Please set an explicit value for `average`, one of (None, 'micro', 'macro', 'weighted', 'samples'). In cross validation use, for instance, scoring=\"f1_weighted\" instead of scoring=\"f1\".\n",
      "  sample_weight=sample_weight)\n"
     ]
    }
   ],
   "source": [
    "print_classifier_performance_metrics('Bigram Multinomial Naive Bayes Trained on Oversampling and 80% Test Data',\n",
    "                                     eighty_oversampling_bigram_multinomial_nb_prediction)"
   ]
  },
  {
   "cell_type": "markdown",
   "metadata": {},
   "source": [
    "### Random forest on %20 test data "
   ]
  },
  {
   "cell_type": "code",
   "execution_count": 86,
   "metadata": {
    "collapsed": false
   },
   "outputs": [],
   "source": [
    "TEST_SIZE = 0.20\n",
    "train_X, test_X, train_y, test_y = train_test_split(df_with_initial_features_and_preprocessed_review_text.review_text,\n",
    "                                                    df_with_initial_features_and_preprocessed_review_text.review_stars,\n",
    "                                                    test_size=TEST_SIZE,\n",
    "                                                    random_state=42)"
   ]
  },
  {
   "cell_type": "code",
   "execution_count": 87,
   "metadata": {
    "collapsed": false
   },
   "outputs": [],
   "source": [
    "forest = RandomForestClassifier(n_estimators = 100)"
   ]
  },
  {
   "cell_type": "code",
   "execution_count": 88,
   "metadata": {
    "collapsed": false
   },
   "outputs": [],
   "source": [
    "random_forest_feature_matrix_train = random_forest_vectorizer.fit_transform(train_X)\n",
    "random_forest_feature_matrix_test = random_forest_vectorizer.transform(test_X)"
   ]
  },
  {
   "cell_type": "code",
   "execution_count": 89,
   "metadata": {
    "collapsed": false
   },
   "outputs": [
    {
     "name": "stdout",
     "output_type": "stream",
     "text": [
      "CPU times: user 57 s, sys: 245 ms, total: 57.2 s\n",
      "Wall time: 58.6 s\n"
     ]
    }
   ],
   "source": [
    "%time forest.fit(random_forest_feature_matrix_train.toarray(), train_y)\n",
    "forest_pred = forest.predict(random_forest_feature_matrix_test.toarray())"
   ]
  },
  {
   "cell_type": "code",
   "execution_count": 90,
   "metadata": {
    "collapsed": false
   },
   "outputs": [
    {
     "data": {
      "image/png": "[encoded data removed]",
      "text/plain": [
       "<matplotlib.figure.Figure at 0x7f8d7609ee90>"
      ]
     },
     "metadata": {},
     "output_type": "display_data"
    }
   ],
   "source": [
    "random_forest_confusion_matrix = confusion_matrix(test_y, forest_pred)\n",
    "plot_confusion_matrix(random_forest_confusion_matrix, 'Random Forest (100 Learners) Confusion Matrix',\n",
    "                      savefilename='TwentyRandomForestCM.png')"
   ]
  },
  {
   "cell_type": "code",
   "execution_count": 91,
   "metadata": {
    "collapsed": false
   },
   "outputs": [
    {
     "name": "stdout",
     "output_type": "stream",
     "text": [
      "MODEL: Random Forest (100 Learners)\n",
      "\n",
      "Precision: 0.743398866451\n",
      "Recall: 0.724132589839\n",
      "F1: 0.713960094269\n",
      "Accuracy: 0.724132589839\n",
      "\n",
      "Classification Report:\n",
      "             precision    recall  f1-score   support\n",
      "\n",
      "     1 star       0.77      0.66      0.71       465\n",
      "     2 star       0.94      0.32      0.48       366\n",
      "     3 star       0.88      0.46      0.60       800\n",
      "     4 star       0.66      0.73      0.69      2134\n",
      "     5 star       0.74      0.86      0.80      2691\n",
      "\n",
      "avg / total       0.74      0.72      0.71      6456\n",
      "\n",
      "\n",
      "Precision variance: 0.051748\n",
      "\n",
      "Recall variance: 0.188207\n"
     ]
    },
    {
     "name": "stderr",
     "output_type": "stream",
     "text": [
      "/usr/local/lib/python2.7/dist-packages/sklearn/metrics/classification.py:1203: DeprecationWarning: The default `weighted` averaging is deprecated, and from version 0.18, use of precision, recall or F-score with multiclass or multilabel data or pos_label=None will result in an exception. Please set an explicit value for `average`, one of (None, 'micro', 'macro', 'weighted', 'samples'). In cross validation use, for instance, scoring=\"f1_weighted\" instead of scoring=\"f1\".\n",
      "  sample_weight=sample_weight)\n",
      "/usr/local/lib/python2.7/dist-packages/sklearn/metrics/classification.py:1304: DeprecationWarning: The default `weighted` averaging is deprecated, and from version 0.18, use of precision, recall or F-score with multiclass or multilabel data or pos_label=None will result in an exception. Please set an explicit value for `average`, one of (None, 'micro', 'macro', 'weighted', 'samples'). In cross validation use, for instance, scoring=\"f1_weighted\" instead of scoring=\"f1\".\n",
      "  sample_weight=sample_weight)\n",
      "/usr/local/lib/python2.7/dist-packages/sklearn/metrics/classification.py:756: DeprecationWarning: The default `weighted` averaging is deprecated, and from version 0.18, use of precision, recall or F-score with multiclass or multilabel data or pos_label=None will result in an exception. Please set an explicit value for `average`, one of (None, 'micro', 'macro', 'weighted', 'samples'). In cross validation use, for instance, scoring=\"f1_weighted\" instead of scoring=\"f1\".\n",
      "  sample_weight=sample_weight)\n"
     ]
    }
   ],
   "source": [
    "print_classifier_performance_metrics('Random Forest (100 Learners)', forest_pred)"
   ]
  },
  {
   "cell_type": "code",
   "execution_count": 92,
   "metadata": {
    "collapsed": false
   },
   "outputs": [],
   "source": [
    "TEST_SIZE = 0.20\n",
    "train_X, test_X, train_y, test_y = train_test_split(df_with_initial_features_and_preprocessed_review_text.review_text,\n",
    "                                                    df_with_initial_features_and_preprocessed_review_text.review_stars,\n",
    "                                                    test_size=TEST_SIZE,\n",
    "                                                    random_state=42)\n",
    "\n",
    "ONE_STAR_LABEL = 1\n",
    "TWO_STAR_LABEL = 2\n",
    "THREE_STAR_LABEL = 3\n",
    "FOUR_STAR_LABEL = 4\n",
    "\n",
    "one_star_reviews = train_X[train_y == ONE_STAR_LABEL]\n",
    "two_star_reviews = train_X[train_y == TWO_STAR_LABEL]\n",
    "three_star_reviews = train_X[train_y == THREE_STAR_LABEL]\n",
    "four_star_reviews = train_X[train_y == FOUR_STAR_LABEL]\n",
    "\n",
    "one_star_labels = train_y[train_y == ONE_STAR_LABEL]\n",
    "two_star_labels = train_y[train_y == TWO_STAR_LABEL]\n",
    "three_star_labels = train_y[train_y == THREE_STAR_LABEL]\n",
    "\n",
    "difference_btw_number_of_4_and_1_stars = len(four_star_reviews) - len(one_star_reviews)\n",
    "difference_btw_number_of_4_and_2_stars = len(four_star_reviews) - len(two_star_reviews)\n",
    "difference_btw_number_of_4_and_3_stars = len(four_star_reviews) - len(three_star_reviews)\n",
    "\n",
    "assert (np.array([difference_btw_number_of_4_and_1_stars,\n",
    "                 difference_btw_number_of_4_and_2_stars,\n",
    "                 difference_btw_number_of_4_and_3_stars]) > 0).all()\n",
    "\n",
    "q1 = difference_btw_number_of_4_and_1_stars/len(one_star_reviews)\n",
    "r1 = difference_btw_number_of_4_and_1_stars - len(one_star_reviews) * q1\n",
    "q2 = difference_btw_number_of_4_and_2_stars/len(two_star_reviews)\n",
    "r2 = difference_btw_number_of_4_and_2_stars - len(two_star_reviews) * q2\n",
    "q3 = difference_btw_number_of_4_and_3_stars/len(three_star_reviews)\n",
    "r3 = difference_btw_number_of_4_and_3_stars - len(three_star_reviews) * q3\n",
    "\n",
    "train_X = np.vstack([np.reshape(train_X, (len(train_X), 1)),\n",
    "                     np.tile(one_star_reviews, (1, q1)).T,\n",
    "                     np.reshape(one_star_reviews[:r1], (r1, 1)),\n",
    "                     np.tile(two_star_reviews, (1, q2)).T,\n",
    "                     np.reshape(two_star_reviews[:r2], (r2, 1)),\n",
    "                     np.tile(three_star_reviews, (1, q3)).T,\n",
    "                     np.reshape(three_star_reviews[:r3], (r3, 1))])[:,0]\n",
    "\n",
    "train_y = np.vstack([np.reshape(train_y, (len(train_y), 1)),\n",
    "                     np.tile(one_star_labels, (1, q1)).T,\n",
    "                     np.reshape(one_star_labels[:r1], (r1, 1)),\n",
    "                     np.tile(two_star_labels, (1, q2)).T,\n",
    "                     np.reshape(two_star_labels[:r2], (r2, 1)),\n",
    "                     np.tile(three_star_labels, (1, q3)).T,\n",
    "                     np.reshape(three_star_labels[:r3], (r3, 1))])[:,0]"
   ]
  },
  {
   "cell_type": "code",
   "execution_count": 93,
   "metadata": {
    "collapsed": false
   },
   "outputs": [],
   "source": [
    "random_forest_feature_matrix_train = random_forest_vectorizer.fit_transform(train_X)\n",
    "random_forest_feature_matrix_test = random_forest_vectorizer.transform(test_X)"
   ]
  },
  {
   "cell_type": "code",
   "execution_count": 94,
   "metadata": {
    "collapsed": false
   },
   "outputs": [
    {
     "name": "stdout",
     "output_type": "stream",
     "text": [
      "CPU times: user 1min 41s, sys: 269 ms, total: 1min 41s\n",
      "Wall time: 1min 42s\n"
     ]
    }
   ],
   "source": [
    "%time forest.fit(random_forest_feature_matrix_train.toarray(), train_y)\n",
    "forest_pred = forest.predict(random_forest_feature_matrix_test.toarray())"
   ]
  },
  {
   "cell_type": "code",
   "execution_count": 95,
   "metadata": {
    "collapsed": false
   },
   "outputs": [
    {
     "data": {
      "image/png": "[encoded data removed]",
      "text/plain": [
       "<matplotlib.figure.Figure at 0x7f8d6f1f6e90>"
      ]
     },
     "metadata": {},
     "output_type": "display_data"
    }
   ],
   "source": [
    "random_forest_confusion_matrix = confusion_matrix(test_y, forest_pred)\n",
    "plot_confusion_matrix(random_forest_confusion_matrix, 'Random Forest (100 Learners) Confusion Matrix with 20% Training Data with Oversampling',\n",
    "                      savefilename='TwentyOversamplingRandomForestCM.png')"
   ]
  },
  {
   "cell_type": "code",
   "execution_count": 96,
   "metadata": {
    "collapsed": false
   },
   "outputs": [
    {
     "name": "stdout",
     "output_type": "stream",
     "text": [
      "MODEL: Random Forest (100 Learners) with 20% Training Data\n",
      "\n",
      "Precision: 0.727159700095\n",
      "Recall: 0.726765799257\n",
      "F1: 0.717626583134\n",
      "Accuracy: 0.726765799257\n",
      "\n",
      "Classification Report:\n",
      "             precision    recall  f1-score   support\n",
      "\n",
      "     1 star       0.65      0.80      0.72       465\n",
      "     2 star       0.73      0.35      0.47       366\n",
      "     3 star       0.73      0.51      0.60       800\n",
      "     4 star       0.73      0.67      0.70      2134\n",
      "     5 star       0.74      0.87      0.80      2691\n",
      "\n",
      "avg / total       0.73      0.73      0.72      6456\n",
      "\n",
      "\n",
      "Precision variance: 0.004989\n",
      "\n",
      "Recall variance: 0.181490\n"
     ]
    },
    {
     "name": "stderr",
     "output_type": "stream",
     "text": [
      "/usr/local/lib/python2.7/dist-packages/sklearn/metrics/classification.py:1203: DeprecationWarning: The default `weighted` averaging is deprecated, and from version 0.18, use of precision, recall or F-score with multiclass or multilabel data or pos_label=None will result in an exception. Please set an explicit value for `average`, one of (None, 'micro', 'macro', 'weighted', 'samples'). In cross validation use, for instance, scoring=\"f1_weighted\" instead of scoring=\"f1\".\n",
      "  sample_weight=sample_weight)\n",
      "/usr/local/lib/python2.7/dist-packages/sklearn/metrics/classification.py:1304: DeprecationWarning: The default `weighted` averaging is deprecated, and from version 0.18, use of precision, recall or F-score with multiclass or multilabel data or pos_label=None will result in an exception. Please set an explicit value for `average`, one of (None, 'micro', 'macro', 'weighted', 'samples'). In cross validation use, for instance, scoring=\"f1_weighted\" instead of scoring=\"f1\".\n",
      "  sample_weight=sample_weight)\n",
      "/usr/local/lib/python2.7/dist-packages/sklearn/metrics/classification.py:756: DeprecationWarning: The default `weighted` averaging is deprecated, and from version 0.18, use of precision, recall or F-score with multiclass or multilabel data or pos_label=None will result in an exception. Please set an explicit value for `average`, one of (None, 'micro', 'macro', 'weighted', 'samples'). In cross validation use, for instance, scoring=\"f1_weighted\" instead of scoring=\"f1\".\n",
      "  sample_weight=sample_weight)\n"
     ]
    }
   ],
   "source": [
    "print_classifier_performance_metrics('Random Forest (100 Learners) with 20% Training Data', forest_pred)"
   ]
  },
  {
   "cell_type": "code",
   "execution_count": null,
   "metadata": {
    "collapsed": true
   },
   "outputs": [],
   "source": []
  }
 ],
 "metadata": {
  "kernelspec": {
   "display_name": "Python 2",
   "language": "python",
   "name": "python2"
  },
  "language_info": {
   "codemirror_mode": {
    "name": "ipython",
    "version": 2
   },
   "file_extension": ".py",
   "mimetype": "text/x-python",
   "name": "python",
   "nbconvert_exporter": "python",
   "pygments_lexer": "ipython2",
   "version": "2.7.9"
  }
 },
 "nbformat": 4,
 "nbformat_minor": 0
}
